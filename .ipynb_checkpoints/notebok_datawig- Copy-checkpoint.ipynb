{
 "cells": [
  {
   "cell_type": "code",
   "execution_count": 1,
   "metadata": {},
   "outputs": [],
   "source": [
    "# Importing Libraries\n",
    "import pandas as pd\n",
    "import numpy as np\n",
    "import seaborn as sns\n",
    "from sklearn.preprocessing import OneHotEncoder, StandardScaler\n",
    "from sklearn.ensemble import RandomForestClassifier\n",
    "from sklearn.compose import ColumnTransformer, make_column_transformer\n",
    "import matplotlib.pyplot as plt\n",
    "from scipy import stats"
   ]
  },
  {
   "cell_type": "code",
   "execution_count": 104,
   "metadata": {},
   "outputs": [],
   "source": [
    "# Importing dataframe\n",
    "data = pd.read_csv('train_datawig.csv')"
   ]
  },
  {
   "cell_type": "code",
   "execution_count": 122,
   "metadata": {},
   "outputs": [],
   "source": [
    "df = data.copy()"
   ]
  },
  {
   "cell_type": "code",
   "execution_count": 123,
   "metadata": {},
   "outputs": [
    {
     "data": {
      "text/plain": [
       "(245725, 11)"
      ]
     },
     "execution_count": 123,
     "metadata": {},
     "output_type": "execute_result"
    }
   ],
   "source": [
    "df.shape"
   ]
  },
  {
   "cell_type": "code",
   "execution_count": 124,
   "metadata": {},
   "outputs": [
    {
     "data": {
      "text/html": [
       "<div>\n",
       "<style scoped>\n",
       "    .dataframe tbody tr th:only-of-type {\n",
       "        vertical-align: middle;\n",
       "    }\n",
       "\n",
       "    .dataframe tbody tr th {\n",
       "        vertical-align: top;\n",
       "    }\n",
       "\n",
       "    .dataframe thead th {\n",
       "        text-align: right;\n",
       "    }\n",
       "</style>\n",
       "<table border=\"1\" class=\"dataframe\">\n",
       "  <thead>\n",
       "    <tr style=\"text-align: right;\">\n",
       "      <th></th>\n",
       "      <th>Unnamed: 0</th>\n",
       "      <th>Age</th>\n",
       "      <th>Avg_Account_Balance</th>\n",
       "      <th>Is_Lead</th>\n",
       "      <th>Vintage</th>\n",
       "    </tr>\n",
       "  </thead>\n",
       "  <tbody>\n",
       "    <tr>\n",
       "      <th>count</th>\n",
       "      <td>245725.000000</td>\n",
       "      <td>245725.000000</td>\n",
       "      <td>2.457250e+05</td>\n",
       "      <td>245725.000000</td>\n",
       "      <td>245725.000000</td>\n",
       "    </tr>\n",
       "    <tr>\n",
       "      <th>mean</th>\n",
       "      <td>122862.000000</td>\n",
       "      <td>43.856307</td>\n",
       "      <td>1.128403e+06</td>\n",
       "      <td>0.237208</td>\n",
       "      <td>46.959141</td>\n",
       "    </tr>\n",
       "    <tr>\n",
       "      <th>std</th>\n",
       "      <td>70934.841786</td>\n",
       "      <td>14.828672</td>\n",
       "      <td>8.529364e+05</td>\n",
       "      <td>0.425372</td>\n",
       "      <td>32.353136</td>\n",
       "    </tr>\n",
       "    <tr>\n",
       "      <th>min</th>\n",
       "      <td>0.000000</td>\n",
       "      <td>23.000000</td>\n",
       "      <td>2.079000e+04</td>\n",
       "      <td>0.000000</td>\n",
       "      <td>7.000000</td>\n",
       "    </tr>\n",
       "    <tr>\n",
       "      <th>25%</th>\n",
       "      <td>61431.000000</td>\n",
       "      <td>30.000000</td>\n",
       "      <td>6.043100e+05</td>\n",
       "      <td>0.000000</td>\n",
       "      <td>20.000000</td>\n",
       "    </tr>\n",
       "    <tr>\n",
       "      <th>50%</th>\n",
       "      <td>122862.000000</td>\n",
       "      <td>43.000000</td>\n",
       "      <td>8.946010e+05</td>\n",
       "      <td>0.000000</td>\n",
       "      <td>32.000000</td>\n",
       "    </tr>\n",
       "    <tr>\n",
       "      <th>75%</th>\n",
       "      <td>184293.000000</td>\n",
       "      <td>54.000000</td>\n",
       "      <td>1.366666e+06</td>\n",
       "      <td>0.000000</td>\n",
       "      <td>73.000000</td>\n",
       "    </tr>\n",
       "    <tr>\n",
       "      <th>max</th>\n",
       "      <td>245724.000000</td>\n",
       "      <td>85.000000</td>\n",
       "      <td>1.035201e+07</td>\n",
       "      <td>1.000000</td>\n",
       "      <td>135.000000</td>\n",
       "    </tr>\n",
       "  </tbody>\n",
       "</table>\n",
       "</div>"
      ],
      "text/plain": [
       "          Unnamed: 0            Age  Avg_Account_Balance        Is_Lead  \\\n",
       "count  245725.000000  245725.000000         2.457250e+05  245725.000000   \n",
       "mean   122862.000000      43.856307         1.128403e+06       0.237208   \n",
       "std     70934.841786      14.828672         8.529364e+05       0.425372   \n",
       "min         0.000000      23.000000         2.079000e+04       0.000000   \n",
       "25%     61431.000000      30.000000         6.043100e+05       0.000000   \n",
       "50%    122862.000000      43.000000         8.946010e+05       0.000000   \n",
       "75%    184293.000000      54.000000         1.366666e+06       0.000000   \n",
       "max    245724.000000      85.000000         1.035201e+07       1.000000   \n",
       "\n",
       "             Vintage  \n",
       "count  245725.000000  \n",
       "mean       46.959141  \n",
       "std        32.353136  \n",
       "min         7.000000  \n",
       "25%        20.000000  \n",
       "50%        32.000000  \n",
       "75%        73.000000  \n",
       "max       135.000000  "
      ]
     },
     "execution_count": 124,
     "metadata": {},
     "output_type": "execute_result"
    }
   ],
   "source": [
    "df.describe()"
   ]
  },
  {
   "cell_type": "code",
   "execution_count": 125,
   "metadata": {},
   "outputs": [
    {
     "data": {
      "text/html": [
       "<div>\n",
       "<style scoped>\n",
       "    .dataframe tbody tr th:only-of-type {\n",
       "        vertical-align: middle;\n",
       "    }\n",
       "\n",
       "    .dataframe tbody tr th {\n",
       "        vertical-align: top;\n",
       "    }\n",
       "\n",
       "    .dataframe thead th {\n",
       "        text-align: right;\n",
       "    }\n",
       "</style>\n",
       "<table border=\"1\" class=\"dataframe\">\n",
       "  <thead>\n",
       "    <tr style=\"text-align: right;\">\n",
       "      <th></th>\n",
       "      <th>Unnamed: 0</th>\n",
       "      <th>Age</th>\n",
       "      <th>Avg_Account_Balance</th>\n",
       "      <th>Channel_Code</th>\n",
       "      <th>Credit_Product</th>\n",
       "      <th>Gender</th>\n",
       "      <th>Is_Active</th>\n",
       "      <th>Is_Lead</th>\n",
       "      <th>Occupation</th>\n",
       "      <th>Region_Code</th>\n",
       "      <th>Vintage</th>\n",
       "    </tr>\n",
       "  </thead>\n",
       "  <tbody>\n",
       "    <tr>\n",
       "      <th>0</th>\n",
       "      <td>6</td>\n",
       "      <td>62</td>\n",
       "      <td>1056750</td>\n",
       "      <td>X3</td>\n",
       "      <td>Yes</td>\n",
       "      <td>Male</td>\n",
       "      <td>Yes</td>\n",
       "      <td>1</td>\n",
       "      <td>Other</td>\n",
       "      <td>RG282</td>\n",
       "      <td>20</td>\n",
       "    </tr>\n",
       "    <tr>\n",
       "      <th>1</th>\n",
       "      <td>15</td>\n",
       "      <td>33</td>\n",
       "      <td>517063</td>\n",
       "      <td>X2</td>\n",
       "      <td>Yes</td>\n",
       "      <td>Male</td>\n",
       "      <td>Yes</td>\n",
       "      <td>1</td>\n",
       "      <td>Self_Employed</td>\n",
       "      <td>RG268</td>\n",
       "      <td>69</td>\n",
       "    </tr>\n",
       "  </tbody>\n",
       "</table>\n",
       "</div>"
      ],
      "text/plain": [
       "   Unnamed: 0  Age  Avg_Account_Balance Channel_Code Credit_Product Gender  \\\n",
       "0           6   62              1056750           X3            Yes   Male   \n",
       "1          15   33               517063           X2            Yes   Male   \n",
       "\n",
       "  Is_Active  Is_Lead     Occupation Region_Code  Vintage  \n",
       "0       Yes        1          Other       RG282       20  \n",
       "1       Yes        1  Self_Employed       RG268       69  "
      ]
     },
     "execution_count": 125,
     "metadata": {},
     "output_type": "execute_result"
    }
   ],
   "source": [
    "df.head(2)"
   ]
  },
  {
   "cell_type": "code",
   "execution_count": 126,
   "metadata": {},
   "outputs": [
    {
     "data": {
      "text/plain": [
       "Unnamed: 0              int64\n",
       "Age                     int64\n",
       "Avg_Account_Balance     int64\n",
       "Channel_Code           object\n",
       "Credit_Product         object\n",
       "Gender                 object\n",
       "Is_Active              object\n",
       "Is_Lead                 int64\n",
       "Occupation             object\n",
       "Region_Code            object\n",
       "Vintage                 int64\n",
       "dtype: object"
      ]
     },
     "execution_count": 126,
     "metadata": {},
     "output_type": "execute_result"
    }
   ],
   "source": [
    "df.dtypes"
   ]
  },
  {
   "cell_type": "code",
   "execution_count": 127,
   "metadata": {},
   "outputs": [],
   "source": [
    "# Dropping the ID Columns\n",
    "df.drop(['Unnamed: 0'], axis=1,inplace=True )"
   ]
  },
  {
   "cell_type": "code",
   "execution_count": 128,
   "metadata": {},
   "outputs": [
    {
     "data": {
      "text/plain": [
       "Index(['Age', 'Avg_Account_Balance', 'Channel_Code', 'Credit_Product',\n",
       "       'Gender', 'Is_Active', 'Is_Lead', 'Occupation', 'Region_Code',\n",
       "       'Vintage'],\n",
       "      dtype='object')"
      ]
     },
     "execution_count": 128,
     "metadata": {},
     "output_type": "execute_result"
    }
   ],
   "source": [
    "df.columns"
   ]
  },
  {
   "cell_type": "markdown",
   "metadata": {},
   "source": [
    "### Duplicate Rows"
   ]
  },
  {
   "cell_type": "code",
   "execution_count": 129,
   "metadata": {},
   "outputs": [
    {
     "data": {
      "text/html": [
       "<div>\n",
       "<style scoped>\n",
       "    .dataframe tbody tr th:only-of-type {\n",
       "        vertical-align: middle;\n",
       "    }\n",
       "\n",
       "    .dataframe tbody tr th {\n",
       "        vertical-align: top;\n",
       "    }\n",
       "\n",
       "    .dataframe thead th {\n",
       "        text-align: right;\n",
       "    }\n",
       "</style>\n",
       "<table border=\"1\" class=\"dataframe\">\n",
       "  <thead>\n",
       "    <tr style=\"text-align: right;\">\n",
       "      <th></th>\n",
       "      <th>Age</th>\n",
       "      <th>Avg_Account_Balance</th>\n",
       "      <th>Channel_Code</th>\n",
       "      <th>Credit_Product</th>\n",
       "      <th>Gender</th>\n",
       "      <th>Is_Active</th>\n",
       "      <th>Is_Lead</th>\n",
       "      <th>Occupation</th>\n",
       "      <th>Region_Code</th>\n",
       "      <th>Vintage</th>\n",
       "    </tr>\n",
       "  </thead>\n",
       "  <tbody>\n",
       "    <tr>\n",
       "      <th>50598</th>\n",
       "      <td>39</td>\n",
       "      <td>1476563</td>\n",
       "      <td>X1</td>\n",
       "      <td>No</td>\n",
       "      <td>Female</td>\n",
       "      <td>No</td>\n",
       "      <td>0</td>\n",
       "      <td>Self_Employed</td>\n",
       "      <td>RG270</td>\n",
       "      <td>32</td>\n",
       "    </tr>\n",
       "    <tr>\n",
       "      <th>73618</th>\n",
       "      <td>31</td>\n",
       "      <td>1435587</td>\n",
       "      <td>X1</td>\n",
       "      <td>No</td>\n",
       "      <td>Female</td>\n",
       "      <td>No</td>\n",
       "      <td>0</td>\n",
       "      <td>Salaried</td>\n",
       "      <td>RG260</td>\n",
       "      <td>26</td>\n",
       "    </tr>\n",
       "    <tr>\n",
       "      <th>126034</th>\n",
       "      <td>28</td>\n",
       "      <td>1088995</td>\n",
       "      <td>X1</td>\n",
       "      <td>No</td>\n",
       "      <td>Female</td>\n",
       "      <td>Yes</td>\n",
       "      <td>0</td>\n",
       "      <td>Salaried</td>\n",
       "      <td>RG254</td>\n",
       "      <td>26</td>\n",
       "    </tr>\n",
       "    <tr>\n",
       "      <th>137651</th>\n",
       "      <td>27</td>\n",
       "      <td>739821</td>\n",
       "      <td>X3</td>\n",
       "      <td>Yes</td>\n",
       "      <td>Female</td>\n",
       "      <td>No</td>\n",
       "      <td>0</td>\n",
       "      <td>Salaried</td>\n",
       "      <td>RG268</td>\n",
       "      <td>20</td>\n",
       "    </tr>\n",
       "    <tr>\n",
       "      <th>141545</th>\n",
       "      <td>75</td>\n",
       "      <td>930610</td>\n",
       "      <td>X3</td>\n",
       "      <td>No</td>\n",
       "      <td>Male</td>\n",
       "      <td>Yes</td>\n",
       "      <td>0</td>\n",
       "      <td>Other</td>\n",
       "      <td>RG254</td>\n",
       "      <td>75</td>\n",
       "    </tr>\n",
       "  </tbody>\n",
       "</table>\n",
       "</div>"
      ],
      "text/plain": [
       "        Age  Avg_Account_Balance Channel_Code Credit_Product  Gender  \\\n",
       "50598    39              1476563           X1             No  Female   \n",
       "73618    31              1435587           X1             No  Female   \n",
       "126034   28              1088995           X1             No  Female   \n",
       "137651   27               739821           X3            Yes  Female   \n",
       "141545   75               930610           X3             No    Male   \n",
       "\n",
       "       Is_Active  Is_Lead     Occupation Region_Code  Vintage  \n",
       "50598         No        0  Self_Employed       RG270       32  \n",
       "73618         No        0       Salaried       RG260       26  \n",
       "126034       Yes        0       Salaried       RG254       26  \n",
       "137651        No        0       Salaried       RG268       20  \n",
       "141545       Yes        0          Other       RG254       75  "
      ]
     },
     "execution_count": 129,
     "metadata": {},
     "output_type": "execute_result"
    }
   ],
   "source": [
    "#Checking duplicate rows\n",
    "check_duplicate_rows= df[df.duplicated(keep='first')]\n",
    "check_duplicate_rows.head(5)"
   ]
  },
  {
   "cell_type": "code",
   "execution_count": 130,
   "metadata": {},
   "outputs": [
    {
     "data": {
      "text/html": [
       "<div>\n",
       "<style scoped>\n",
       "    .dataframe tbody tr th:only-of-type {\n",
       "        vertical-align: middle;\n",
       "    }\n",
       "\n",
       "    .dataframe tbody tr th {\n",
       "        vertical-align: top;\n",
       "    }\n",
       "\n",
       "    .dataframe thead th {\n",
       "        text-align: right;\n",
       "    }\n",
       "</style>\n",
       "<table border=\"1\" class=\"dataframe\">\n",
       "  <thead>\n",
       "    <tr style=\"text-align: right;\">\n",
       "      <th></th>\n",
       "      <th>Age</th>\n",
       "      <th>Avg_Account_Balance</th>\n",
       "      <th>Channel_Code</th>\n",
       "      <th>Credit_Product</th>\n",
       "      <th>Gender</th>\n",
       "      <th>Is_Active</th>\n",
       "      <th>Is_Lead</th>\n",
       "      <th>Occupation</th>\n",
       "      <th>Region_Code</th>\n",
       "      <th>Vintage</th>\n",
       "    </tr>\n",
       "  </thead>\n",
       "  <tbody>\n",
       "    <tr>\n",
       "      <th>29708</th>\n",
       "      <td>27</td>\n",
       "      <td>739821</td>\n",
       "      <td>X3</td>\n",
       "      <td>Yes</td>\n",
       "      <td>Female</td>\n",
       "      <td>No</td>\n",
       "      <td>0</td>\n",
       "      <td>Salaried</td>\n",
       "      <td>RG268</td>\n",
       "      <td>20</td>\n",
       "    </tr>\n",
       "    <tr>\n",
       "      <th>32903</th>\n",
       "      <td>39</td>\n",
       "      <td>1476563</td>\n",
       "      <td>X1</td>\n",
       "      <td>No</td>\n",
       "      <td>Female</td>\n",
       "      <td>No</td>\n",
       "      <td>0</td>\n",
       "      <td>Self_Employed</td>\n",
       "      <td>RG270</td>\n",
       "      <td>32</td>\n",
       "    </tr>\n",
       "    <tr>\n",
       "      <th>45522</th>\n",
       "      <td>28</td>\n",
       "      <td>1075582</td>\n",
       "      <td>X1</td>\n",
       "      <td>No</td>\n",
       "      <td>Male</td>\n",
       "      <td>No</td>\n",
       "      <td>0</td>\n",
       "      <td>Salaried</td>\n",
       "      <td>RG261</td>\n",
       "      <td>31</td>\n",
       "    </tr>\n",
       "    <tr>\n",
       "      <th>48788</th>\n",
       "      <td>28</td>\n",
       "      <td>1088995</td>\n",
       "      <td>X1</td>\n",
       "      <td>No</td>\n",
       "      <td>Female</td>\n",
       "      <td>Yes</td>\n",
       "      <td>0</td>\n",
       "      <td>Salaried</td>\n",
       "      <td>RG254</td>\n",
       "      <td>26</td>\n",
       "    </tr>\n",
       "    <tr>\n",
       "      <th>51200</th>\n",
       "      <td>32</td>\n",
       "      <td>3597985</td>\n",
       "      <td>X2</td>\n",
       "      <td>No</td>\n",
       "      <td>Male</td>\n",
       "      <td>Yes</td>\n",
       "      <td>0</td>\n",
       "      <td>Other</td>\n",
       "      <td>RG284</td>\n",
       "      <td>33</td>\n",
       "    </tr>\n",
       "  </tbody>\n",
       "</table>\n",
       "</div>"
      ],
      "text/plain": [
       "       Age  Avg_Account_Balance Channel_Code Credit_Product  Gender Is_Active  \\\n",
       "29708   27               739821           X3            Yes  Female        No   \n",
       "32903   39              1476563           X1             No  Female        No   \n",
       "45522   28              1075582           X1             No    Male        No   \n",
       "48788   28              1088995           X1             No  Female       Yes   \n",
       "51200   32              3597985           X2             No    Male       Yes   \n",
       "\n",
       "       Is_Lead     Occupation Region_Code  Vintage  \n",
       "29708        0       Salaried       RG268       20  \n",
       "32903        0  Self_Employed       RG270       32  \n",
       "45522        0       Salaried       RG261       31  \n",
       "48788        0       Salaried       RG254       26  \n",
       "51200        0          Other       RG284       33  "
      ]
     },
     "execution_count": 130,
     "metadata": {},
     "output_type": "execute_result"
    }
   ],
   "source": [
    "#Checking duplicate rows\n",
    "check_duplicate_rows= df[df.duplicated(keep='last')]\n",
    "check_duplicate_rows.head(5)"
   ]
  },
  {
   "cell_type": "code",
   "execution_count": 131,
   "metadata": {},
   "outputs": [
    {
     "data": {
      "text/plain": [
       "(245704, 10)"
      ]
     },
     "execution_count": 131,
     "metadata": {},
     "output_type": "execute_result"
    }
   ],
   "source": [
    "#Dropping duplicate rows\n",
    "df.drop_duplicates(keep='first',inplace=True)\n",
    "df.shape"
   ]
  },
  {
   "cell_type": "markdown",
   "metadata": {},
   "source": [
    "### Checking the count for each categorical data \n",
    "##### To check if anyone has biased feature"
   ]
  },
  {
   "cell_type": "code",
   "execution_count": 132,
   "metadata": {},
   "outputs": [
    {
     "data": {
      "text/plain": [
       "No     150489\n",
       "Yes     95215\n",
       "Name: Credit_Product, dtype: int64"
      ]
     },
     "execution_count": 132,
     "metadata": {},
     "output_type": "execute_result"
    }
   ],
   "source": [
    "df['Credit_Product'].value_counts()"
   ]
  },
  {
   "cell_type": "code",
   "execution_count": 133,
   "metadata": {},
   "outputs": [
    {
     "name": "stdout",
     "output_type": "stream",
     "text": [
      "Region_Code: 35\n",
      "Occupation: 4\n",
      "Channel_Code: 4\n",
      "Is_Active: 2\n",
      "Gender: 2\n"
     ]
    }
   ],
   "source": [
    "# Lokking at unique values in categotical column\n",
    "print(\"Region_Code: {}\".format(df['Region_Code'].nunique()))\n",
    "print(\"Occupation: {}\".format(df['Occupation'].nunique()))\n",
    "print(\"Channel_Code: {}\".format(df['Channel_Code'].nunique()))\n",
    "print(\"Is_Active: {}\".format(df['Is_Active'].nunique()))\n",
    "print(\"Gender: {}\".format(df['Gender'].nunique()))"
   ]
  },
  {
   "cell_type": "code",
   "execution_count": 134,
   "metadata": {},
   "outputs": [
    {
     "data": {
      "text/plain": [
       "RG268    35931\n",
       "RG283    29416\n",
       "RG254    26838\n",
       "RG284    19319\n",
       "RG277    12826\n",
       "RG280    12775\n",
       "RG269     7861\n",
       "RG270     7717\n",
       "RG261     7631\n",
       "RG257     6100\n",
       "RG251     5950\n",
       "RG282     5829\n",
       "RG274     5286\n",
       "RG272     5252\n",
       "RG281     5091\n",
       "RG273     4497\n",
       "RG252     4286\n",
       "RG279     3976\n",
       "RG263     3687\n",
       "RG275     3242\n",
       "RG260     3109\n",
       "RG256     2847\n",
       "RG264     2792\n",
       "RG276     2764\n",
       "RG259     2586\n",
       "RG250     2496\n",
       "RG255     2018\n",
       "RG258     1951\n",
       "RG253     1858\n",
       "RG278     1822\n",
       "RG262     1788\n",
       "RG266     1578\n",
       "RG265     1546\n",
       "RG271     1542\n",
       "RG267     1497\n",
       "Name: Region_Code, dtype: int64"
      ]
     },
     "execution_count": 134,
     "metadata": {},
     "output_type": "execute_result"
    }
   ],
   "source": [
    "df['Region_Code'].value_counts()"
   ]
  },
  {
   "cell_type": "code",
   "execution_count": 135,
   "metadata": {},
   "outputs": [
    {
     "data": {
      "text/plain": [
       "Self_Employed    100882\n",
       "Salaried          71984\n",
       "Other             70171\n",
       "Entrepreneur       2667\n",
       "Name: Occupation, dtype: int64"
      ]
     },
     "execution_count": 135,
     "metadata": {},
     "output_type": "execute_result"
    }
   ],
   "source": [
    "df['Occupation'].value_counts()"
   ]
  },
  {
   "cell_type": "code",
   "execution_count": 136,
   "metadata": {},
   "outputs": [
    {
     "data": {
      "text/plain": [
       "Male      134186\n",
       "Female    111518\n",
       "Name: Gender, dtype: int64"
      ]
     },
     "execution_count": 136,
     "metadata": {},
     "output_type": "execute_result"
    }
   ],
   "source": [
    "df['Gender'].value_counts()"
   ]
  },
  {
   "cell_type": "code",
   "execution_count": 137,
   "metadata": {},
   "outputs": [
    {
     "data": {
      "text/plain": [
       "X1    103702\n",
       "X3     68710\n",
       "X2     67723\n",
       "X4      5569\n",
       "Name: Channel_Code, dtype: int64"
      ]
     },
     "execution_count": 137,
     "metadata": {},
     "output_type": "execute_result"
    }
   ],
   "source": [
    "df['Channel_Code'].value_counts()"
   ]
  },
  {
   "cell_type": "code",
   "execution_count": 138,
   "metadata": {},
   "outputs": [
    {
     "data": {
      "text/plain": [
       "No     150274\n",
       "Yes     95430\n",
       "Name: Is_Active, dtype: int64"
      ]
     },
     "execution_count": 138,
     "metadata": {},
     "output_type": "execute_result"
    }
   ],
   "source": [
    "df['Is_Active'].value_counts()"
   ]
  },
  {
   "cell_type": "markdown",
   "metadata": {},
   "source": [
    "# Detecting Outliers"
   ]
  },
  {
   "cell_type": "code",
   "execution_count": 139,
   "metadata": {},
   "outputs": [
    {
     "data": {
      "text/plain": [
       "<matplotlib.axes._subplots.AxesSubplot at 0x189b16c81d0>"
      ]
     },
     "execution_count": 139,
     "metadata": {},
     "output_type": "execute_result"
    },
    {
     "data": {
      "image/png": "[encoded data removed]",
      "text/plain": [
       "<Figure size 1152x360 with 4 Axes>"
      ]
     },
     "metadata": {
      "needs_background": "light"
     },
     "output_type": "display_data"
    }
   ],
   "source": [
    "fig, (axes) = plt.subplots(nrows=1, ncols=4, figsize=(16, 5))\n",
    "\n",
    "sns.boxplot(data=df[['Age']], palette='Set2',ax=axes[0])\n",
    "sns.boxplot(data=df[['Vintage']], palette='Set2',ax=axes[1])\n",
    "sns.boxplot(data=df[['Avg_Account_Balance']], palette='Set2',ax=axes[2])\n",
    "sns.boxplot(data=df[['Is_Lead']], palette='Set2',ax=axes[3])  "
   ]
  },
  {
   "cell_type": "code",
   "execution_count": 140,
   "metadata": {},
   "outputs": [],
   "source": [
    "df_outlier =df[['Avg_Account_Balance']].copy()"
   ]
  },
  {
   "cell_type": "code",
   "execution_count": 141,
   "metadata": {},
   "outputs": [],
   "source": [
    "z=np.abs(stats.zscore(df_outlier))"
   ]
  },
  {
   "cell_type": "code",
   "execution_count": 142,
   "metadata": {},
   "outputs": [
    {
     "data": {
      "text/plain": [
       "(245704, 1)"
      ]
     },
     "execution_count": 142,
     "metadata": {},
     "output_type": "execute_result"
    }
   ],
   "source": [
    "z.shape"
   ]
  },
  {
   "cell_type": "code",
   "execution_count": 143,
   "metadata": {},
   "outputs": [],
   "source": [
    "Q1 = df_outlier.quantile(0.25)\n",
    "Q3 = df_outlier.quantile(0.75)\n",
    "IQR = Q3-Q1"
   ]
  },
  {
   "cell_type": "code",
   "execution_count": 144,
   "metadata": {},
   "outputs": [
    {
     "name": "stdout",
     "output_type": "stream",
     "text": [
      "IQR: Avg_Account_Balance    762356.0\n",
      "dtype: float64\n"
     ]
    }
   ],
   "source": [
    "print(\"IQR: {}\".format(IQR))"
   ]
  },
  {
   "cell_type": "code",
   "execution_count": 145,
   "metadata": {},
   "outputs": [],
   "source": [
    "col_name = 'Avg_Account_Balance'\n",
    "low = Q1[col_name] - 1.5* IQR[col_name]\n",
    "high = Q1[col_name] + 1.5* IQR[col_name]"
   ]
  },
  {
   "cell_type": "code",
   "execution_count": 146,
   "metadata": {},
   "outputs": [
    {
     "name": "stdout",
     "output_type": "stream",
     "text": [
      "High: 1747844.0\n",
      "Low: -539224.0\n"
     ]
    }
   ],
   "source": [
    "print('High: {}'.format(high))\n",
    "print('Low: {}'.format(low))"
   ]
  },
  {
   "cell_type": "code",
   "execution_count": 147,
   "metadata": {},
   "outputs": [],
   "source": [
    "query_string = '{} < @low or {} > @high'.format(col_name, col_name)\n",
    "outliers = df_outlier.query(query_string).index"
   ]
  },
  {
   "cell_type": "code",
   "execution_count": 148,
   "metadata": {},
   "outputs": [
    {
     "data": {
      "text/plain": [
       "(36239,)"
      ]
     },
     "execution_count": 148,
     "metadata": {},
     "output_type": "execute_result"
    }
   ],
   "source": [
    "outliers.shape"
   ]
  },
  {
   "cell_type": "code",
   "execution_count": 149,
   "metadata": {},
   "outputs": [],
   "source": [
    "outlier_data = df.loc[outliers]"
   ]
  },
  {
   "cell_type": "code",
   "execution_count": 150,
   "metadata": {},
   "outputs": [
    {
     "data": {
      "text/plain": [
       "0    26150\n",
       "1    10089\n",
       "Name: Is_Lead, dtype: int64"
      ]
     },
     "execution_count": 150,
     "metadata": {},
     "output_type": "execute_result"
    }
   ],
   "source": [
    "outlier_data['Is_Lead'].value_counts()"
   ]
  },
  {
   "cell_type": "code",
   "execution_count": 151,
   "metadata": {},
   "outputs": [
    {
     "data": {
      "text/plain": [
       "0"
      ]
     },
     "execution_count": 151,
     "metadata": {},
     "output_type": "execute_result"
    }
   ],
   "source": [
    "outlier_data['Credit_Product'].isnull().sum()"
   ]
  },
  {
   "cell_type": "code",
   "execution_count": 21,
   "metadata": {},
   "outputs": [
    {
     "data": {
      "text/plain": [
       "<matplotlib.axes._subplots.AxesSubplot at 0x189b0d6fac8>"
      ]
     },
     "execution_count": 21,
     "metadata": {},
     "output_type": "execute_result"
    },
    {
     "data": {
      "image/png": "[encoded data removed]",
      "text/plain": [
       "<Figure size 432x288 with 2 Axes>"
      ]
     },
     "metadata": {
      "needs_background": "light"
     },
     "output_type": "display_data"
    }
   ],
   "source": [
    "sns.heatmap(df.corr(), annot=True)"
   ]
  },
  {
   "cell_type": "markdown",
   "metadata": {},
   "source": [
    "### Missing Values"
   ]
  },
  {
   "cell_type": "code",
   "execution_count": 152,
   "metadata": {},
   "outputs": [
    {
     "data": {
      "text/plain": [
       "Age                    0\n",
       "Avg_Account_Balance    0\n",
       "Channel_Code           0\n",
       "Credit_Product         0\n",
       "Gender                 0\n",
       "Is_Active              0\n",
       "Is_Lead                0\n",
       "Occupation             0\n",
       "Region_Code            0\n",
       "Vintage                0\n",
       "dtype: int64"
      ]
     },
     "execution_count": 152,
     "metadata": {},
     "output_type": "execute_result"
    }
   ],
   "source": [
    "# Checking missing values\n",
    "df.isnull().sum()"
   ]
  },
  {
   "cell_type": "markdown",
   "metadata": {},
   "source": [
    "### Binning"
   ]
  },
  {
   "cell_type": "code",
   "execution_count": 39,
   "metadata": {},
   "outputs": [],
   "source": [
    "grouped_df_sum = df.groupby(['Age'])['Is_Lead'].sum()"
   ]
  },
  {
   "cell_type": "code",
   "execution_count": 40,
   "metadata": {},
   "outputs": [],
   "source": [
    "grouped_df = df.groupby(['Age'])['Is_Lead'].count()"
   ]
  },
  {
   "cell_type": "code",
   "execution_count": 58,
   "metadata": {},
   "outputs": [],
   "source": [
    "percentage= ((grouped_df-grouped_df_sum)*100)/grouped_df"
   ]
  },
  {
   "cell_type": "code",
   "execution_count": 68,
   "metadata": {},
   "outputs": [],
   "source": [
    "percentage_df= pd.DataFrame(percentage)"
   ]
  },
  {
   "cell_type": "code",
   "execution_count": 98,
   "metadata": {},
   "outputs": [
    {
     "data": {
      "image/png": "[encoded data removed]",
      "text/plain": [
       "<Figure size 1152x576 with 1 Axes>"
      ]
     },
     "metadata": {
      "needs_background": "light"
     },
     "output_type": "display_data"
    }
   ],
   "source": [
    "plt.figure(figsize = (16,8)) \n",
    "plt.xticks(rotation=90)\n",
    "plt.title('Ages')\n",
    "sns.countplot(x=df[\"Age\"],hue = 'Is_Lead',data=df);\n",
    "plt.xlabel('Ages')\n",
    "plt.ylabel('Is_Lead');"
   ]
  },
  {
   "cell_type": "code",
   "execution_count": 83,
   "metadata": {},
   "outputs": [
    {
     "data": {
      "text/html": [
       "<div>\n",
       "<style scoped>\n",
       "    .dataframe tbody tr th:only-of-type {\n",
       "        vertical-align: middle;\n",
       "    }\n",
       "\n",
       "    .dataframe tbody tr th {\n",
       "        vertical-align: top;\n",
       "    }\n",
       "\n",
       "    .dataframe thead th {\n",
       "        text-align: right;\n",
       "    }\n",
       "</style>\n",
       "<table border=\"1\" class=\"dataframe\">\n",
       "  <thead>\n",
       "    <tr style=\"text-align: right;\">\n",
       "      <th></th>\n",
       "      <th>Is_Lead</th>\n",
       "    </tr>\n",
       "    <tr>\n",
       "      <th>Age</th>\n",
       "      <th></th>\n",
       "    </tr>\n",
       "  </thead>\n",
       "  <tbody>\n",
       "    <tr>\n",
       "      <th>23</th>\n",
       "      <td>100.000000</td>\n",
       "    </tr>\n",
       "    <tr>\n",
       "      <th>24</th>\n",
       "      <td>94.173228</td>\n",
       "    </tr>\n",
       "    <tr>\n",
       "      <th>25</th>\n",
       "      <td>93.080694</td>\n",
       "    </tr>\n",
       "    <tr>\n",
       "      <th>26</th>\n",
       "      <td>93.458047</td>\n",
       "    </tr>\n",
       "    <tr>\n",
       "      <th>27</th>\n",
       "      <td>93.678868</td>\n",
       "    </tr>\n",
       "    <tr>\n",
       "      <th>28</th>\n",
       "      <td>92.849769</td>\n",
       "    </tr>\n",
       "    <tr>\n",
       "      <th>29</th>\n",
       "      <td>91.974705</td>\n",
       "    </tr>\n",
       "    <tr>\n",
       "      <th>30</th>\n",
       "      <td>92.227745</td>\n",
       "    </tr>\n",
       "    <tr>\n",
       "      <th>31</th>\n",
       "      <td>91.882577</td>\n",
       "    </tr>\n",
       "    <tr>\n",
       "      <th>32</th>\n",
       "      <td>90.361057</td>\n",
       "    </tr>\n",
       "    <tr>\n",
       "      <th>33</th>\n",
       "      <td>88.118418</td>\n",
       "    </tr>\n",
       "    <tr>\n",
       "      <th>34</th>\n",
       "      <td>84.509023</td>\n",
       "    </tr>\n",
       "    <tr>\n",
       "      <th>35</th>\n",
       "      <td>80.614152</td>\n",
       "    </tr>\n",
       "    <tr>\n",
       "      <th>36</th>\n",
       "      <td>76.668568</td>\n",
       "    </tr>\n",
       "    <tr>\n",
       "      <th>37</th>\n",
       "      <td>75.586854</td>\n",
       "    </tr>\n",
       "    <tr>\n",
       "      <th>38</th>\n",
       "      <td>72.804361</td>\n",
       "    </tr>\n",
       "    <tr>\n",
       "      <th>39</th>\n",
       "      <td>72.327044</td>\n",
       "    </tr>\n",
       "    <tr>\n",
       "      <th>40</th>\n",
       "      <td>71.889269</td>\n",
       "    </tr>\n",
       "    <tr>\n",
       "      <th>41</th>\n",
       "      <td>70.632648</td>\n",
       "    </tr>\n",
       "    <tr>\n",
       "      <th>42</th>\n",
       "      <td>67.136711</td>\n",
       "    </tr>\n",
       "    <tr>\n",
       "      <th>43</th>\n",
       "      <td>67.023368</td>\n",
       "    </tr>\n",
       "    <tr>\n",
       "      <th>44</th>\n",
       "      <td>66.934835</td>\n",
       "    </tr>\n",
       "    <tr>\n",
       "      <th>45</th>\n",
       "      <td>65.184788</td>\n",
       "    </tr>\n",
       "    <tr>\n",
       "      <th>46</th>\n",
       "      <td>63.765603</td>\n",
       "    </tr>\n",
       "    <tr>\n",
       "      <th>47</th>\n",
       "      <td>63.080371</td>\n",
       "    </tr>\n",
       "    <tr>\n",
       "      <th>48</th>\n",
       "      <td>62.810571</td>\n",
       "    </tr>\n",
       "    <tr>\n",
       "      <th>49</th>\n",
       "      <td>63.099573</td>\n",
       "    </tr>\n",
       "    <tr>\n",
       "      <th>50</th>\n",
       "      <td>62.316667</td>\n",
       "    </tr>\n",
       "    <tr>\n",
       "      <th>51</th>\n",
       "      <td>62.150320</td>\n",
       "    </tr>\n",
       "    <tr>\n",
       "      <th>52</th>\n",
       "      <td>63.121969</td>\n",
       "    </tr>\n",
       "    <tr>\n",
       "      <th>53</th>\n",
       "      <td>63.334627</td>\n",
       "    </tr>\n",
       "    <tr>\n",
       "      <th>54</th>\n",
       "      <td>62.575286</td>\n",
       "    </tr>\n",
       "    <tr>\n",
       "      <th>55</th>\n",
       "      <td>63.728129</td>\n",
       "    </tr>\n",
       "    <tr>\n",
       "      <th>56</th>\n",
       "      <td>64.841704</td>\n",
       "    </tr>\n",
       "    <tr>\n",
       "      <th>57</th>\n",
       "      <td>63.713290</td>\n",
       "    </tr>\n",
       "    <tr>\n",
       "      <th>58</th>\n",
       "      <td>63.502279</td>\n",
       "    </tr>\n",
       "    <tr>\n",
       "      <th>59</th>\n",
       "      <td>63.615228</td>\n",
       "    </tr>\n",
       "    <tr>\n",
       "      <th>60</th>\n",
       "      <td>64.152760</td>\n",
       "    </tr>\n",
       "    <tr>\n",
       "      <th>61</th>\n",
       "      <td>64.959944</td>\n",
       "    </tr>\n",
       "    <tr>\n",
       "      <th>62</th>\n",
       "      <td>64.506173</td>\n",
       "    </tr>\n",
       "    <tr>\n",
       "      <th>63</th>\n",
       "      <td>66.184971</td>\n",
       "    </tr>\n",
       "    <tr>\n",
       "      <th>64</th>\n",
       "      <td>65.341670</td>\n",
       "    </tr>\n",
       "    <tr>\n",
       "      <th>65</th>\n",
       "      <td>72.560647</td>\n",
       "    </tr>\n",
       "    <tr>\n",
       "      <th>66</th>\n",
       "      <td>73.782559</td>\n",
       "    </tr>\n",
       "    <tr>\n",
       "      <th>67</th>\n",
       "      <td>75.170279</td>\n",
       "    </tr>\n",
       "    <tr>\n",
       "      <th>68</th>\n",
       "      <td>74.932615</td>\n",
       "    </tr>\n",
       "    <tr>\n",
       "      <th>69</th>\n",
       "      <td>74.211633</td>\n",
       "    </tr>\n",
       "    <tr>\n",
       "      <th>70</th>\n",
       "      <td>73.455882</td>\n",
       "    </tr>\n",
       "    <tr>\n",
       "      <th>71</th>\n",
       "      <td>72.075472</td>\n",
       "    </tr>\n",
       "    <tr>\n",
       "      <th>72</th>\n",
       "      <td>74.608150</td>\n",
       "    </tr>\n",
       "    <tr>\n",
       "      <th>73</th>\n",
       "      <td>76.614881</td>\n",
       "    </tr>\n",
       "    <tr>\n",
       "      <th>74</th>\n",
       "      <td>75.387263</td>\n",
       "    </tr>\n",
       "    <tr>\n",
       "      <th>75</th>\n",
       "      <td>68.013758</td>\n",
       "    </tr>\n",
       "    <tr>\n",
       "      <th>76</th>\n",
       "      <td>68.771930</td>\n",
       "    </tr>\n",
       "    <tr>\n",
       "      <th>77</th>\n",
       "      <td>68.826620</td>\n",
       "    </tr>\n",
       "    <tr>\n",
       "      <th>78</th>\n",
       "      <td>67.146974</td>\n",
       "    </tr>\n",
       "    <tr>\n",
       "      <th>79</th>\n",
       "      <td>68.673565</td>\n",
       "    </tr>\n",
       "    <tr>\n",
       "      <th>80</th>\n",
       "      <td>67.419355</td>\n",
       "    </tr>\n",
       "    <tr>\n",
       "      <th>81</th>\n",
       "      <td>67.349398</td>\n",
       "    </tr>\n",
       "    <tr>\n",
       "      <th>82</th>\n",
       "      <td>65.954606</td>\n",
       "    </tr>\n",
       "  </tbody>\n",
       "</table>\n",
       "</div>"
      ],
      "text/plain": [
       "        Is_Lead\n",
       "Age            \n",
       "23   100.000000\n",
       "24    94.173228\n",
       "25    93.080694\n",
       "26    93.458047\n",
       "27    93.678868\n",
       "28    92.849769\n",
       "29    91.974705\n",
       "30    92.227745\n",
       "31    91.882577\n",
       "32    90.361057\n",
       "33    88.118418\n",
       "34    84.509023\n",
       "35    80.614152\n",
       "36    76.668568\n",
       "37    75.586854\n",
       "38    72.804361\n",
       "39    72.327044\n",
       "40    71.889269\n",
       "41    70.632648\n",
       "42    67.136711\n",
       "43    67.023368\n",
       "44    66.934835\n",
       "45    65.184788\n",
       "46    63.765603\n",
       "47    63.080371\n",
       "48    62.810571\n",
       "49    63.099573\n",
       "50    62.316667\n",
       "51    62.150320\n",
       "52    63.121969\n",
       "53    63.334627\n",
       "54    62.575286\n",
       "55    63.728129\n",
       "56    64.841704\n",
       "57    63.713290\n",
       "58    63.502279\n",
       "59    63.615228\n",
       "60    64.152760\n",
       "61    64.959944\n",
       "62    64.506173\n",
       "63    66.184971\n",
       "64    65.341670\n",
       "65    72.560647\n",
       "66    73.782559\n",
       "67    75.170279\n",
       "68    74.932615\n",
       "69    74.211633\n",
       "70    73.455882\n",
       "71    72.075472\n",
       "72    74.608150\n",
       "73    76.614881\n",
       "74    75.387263\n",
       "75    68.013758\n",
       "76    68.771930\n",
       "77    68.826620\n",
       "78    67.146974\n",
       "79    68.673565\n",
       "80    67.419355\n",
       "81    67.349398\n",
       "82    65.954606"
      ]
     },
     "execution_count": 83,
     "metadata": {},
     "output_type": "execute_result"
    }
   ],
   "source": [
    "percentage_df.head(60)\n",
    "# <=32 - 90% no\n",
    "#33-41 -90-70%\n",
    "#42-64 - 65% no\n",
    "#65-74 - 72-75% no\n",
    "# 75+  -"
   ]
  },
  {
   "cell_type": "code",
   "execution_count": 92,
   "metadata": {},
   "outputs": [
    {
     "data": {
      "image/png": "[encoded data removed]",
      "text/plain": [
       "<Figure size 864x432 with 1 Axes>"
      ]
     },
     "metadata": {
      "needs_background": "light"
     },
     "output_type": "display_data"
    }
   ],
   "source": [
    "#print(df.groupby('Region_Code')[\"Is_Lead\"].sum())\n",
    "plt.figure(figsize = (12,6)) \n",
    "sns.countplot(x=\"Is_Lead\",hue = \"Channel_Code\", data=df, palette=\"husl\");"
   ]
  },
  {
   "cell_type": "code",
   "execution_count": 102,
   "metadata": {},
   "outputs": [
    {
     "data": {
      "text/html": [
       "<div>\n",
       "<style scoped>\n",
       "    .dataframe tbody tr th:only-of-type {\n",
       "        vertical-align: middle;\n",
       "    }\n",
       "\n",
       "    .dataframe tbody tr th {\n",
       "        vertical-align: top;\n",
       "    }\n",
       "\n",
       "    .dataframe thead th {\n",
       "        text-align: right;\n",
       "    }\n",
       "</style>\n",
       "<table border=\"1\" class=\"dataframe\">\n",
       "  <thead>\n",
       "    <tr style=\"text-align: right;\">\n",
       "      <th></th>\n",
       "      <th>Is_Lead</th>\n",
       "    </tr>\n",
       "    <tr>\n",
       "      <th>Region_Code</th>\n",
       "      <th></th>\n",
       "    </tr>\n",
       "  </thead>\n",
       "  <tbody>\n",
       "    <tr>\n",
       "      <th>RG283</th>\n",
       "      <td>69.795349</td>\n",
       "    </tr>\n",
       "    <tr>\n",
       "      <th>RG284</th>\n",
       "      <td>69.894922</td>\n",
       "    </tr>\n",
       "    <tr>\n",
       "      <th>RG268</th>\n",
       "      <td>70.017534</td>\n",
       "    </tr>\n",
       "    <tr>\n",
       "      <th>RG276</th>\n",
       "      <td>72.214182</td>\n",
       "    </tr>\n",
       "    <tr>\n",
       "      <th>RG253</th>\n",
       "      <td>74.111948</td>\n",
       "    </tr>\n",
       "    <tr>\n",
       "      <th>RG265</th>\n",
       "      <td>74.126779</td>\n",
       "    </tr>\n",
       "    <tr>\n",
       "      <th>RG273</th>\n",
       "      <td>76.228597</td>\n",
       "    </tr>\n",
       "    <tr>\n",
       "      <th>RG280</th>\n",
       "      <td>76.446184</td>\n",
       "    </tr>\n",
       "    <tr>\n",
       "      <th>RG255</th>\n",
       "      <td>76.759167</td>\n",
       "    </tr>\n",
       "    <tr>\n",
       "      <th>RG251</th>\n",
       "      <td>76.789916</td>\n",
       "    </tr>\n",
       "    <tr>\n",
       "      <th>RG277</th>\n",
       "      <td>76.804927</td>\n",
       "    </tr>\n",
       "    <tr>\n",
       "      <th>RG279</th>\n",
       "      <td>77.439638</td>\n",
       "    </tr>\n",
       "    <tr>\n",
       "      <th>RG263</th>\n",
       "      <td>77.813941</td>\n",
       "    </tr>\n",
       "    <tr>\n",
       "      <th>RG269</th>\n",
       "      <td>77.827248</td>\n",
       "    </tr>\n",
       "    <tr>\n",
       "      <th>RG258</th>\n",
       "      <td>77.960021</td>\n",
       "    </tr>\n",
       "    <tr>\n",
       "      <th>RG272</th>\n",
       "      <td>78.008378</td>\n",
       "    </tr>\n",
       "    <tr>\n",
       "      <th>RG278</th>\n",
       "      <td>78.046103</td>\n",
       "    </tr>\n",
       "    <tr>\n",
       "      <th>RG281</th>\n",
       "      <td>78.118248</td>\n",
       "    </tr>\n",
       "    <tr>\n",
       "      <th>RG254</th>\n",
       "      <td>78.713019</td>\n",
       "    </tr>\n",
       "    <tr>\n",
       "      <th>RG259</th>\n",
       "      <td>80.626450</td>\n",
       "    </tr>\n",
       "    <tr>\n",
       "      <th>RG282</th>\n",
       "      <td>80.785727</td>\n",
       "    </tr>\n",
       "    <tr>\n",
       "      <th>RG257</th>\n",
       "      <td>80.819672</td>\n",
       "    </tr>\n",
       "    <tr>\n",
       "      <th>RG260</th>\n",
       "      <td>80.894178</td>\n",
       "    </tr>\n",
       "    <tr>\n",
       "      <th>RG262</th>\n",
       "      <td>81.935123</td>\n",
       "    </tr>\n",
       "    <tr>\n",
       "      <th>RG271</th>\n",
       "      <td>83.073930</td>\n",
       "    </tr>\n",
       "    <tr>\n",
       "      <th>RG261</th>\n",
       "      <td>83.200105</td>\n",
       "    </tr>\n",
       "    <tr>\n",
       "      <th>RG275</th>\n",
       "      <td>83.251080</td>\n",
       "    </tr>\n",
       "    <tr>\n",
       "      <th>RG274</th>\n",
       "      <td>83.503594</td>\n",
       "    </tr>\n",
       "    <tr>\n",
       "      <th>RG250</th>\n",
       "      <td>84.254808</td>\n",
       "    </tr>\n",
       "    <tr>\n",
       "      <th>RG267</th>\n",
       "      <td>85.103540</td>\n",
       "    </tr>\n",
       "    <tr>\n",
       "      <th>RG270</th>\n",
       "      <td>85.564338</td>\n",
       "    </tr>\n",
       "    <tr>\n",
       "      <th>RG256</th>\n",
       "      <td>85.914998</td>\n",
       "    </tr>\n",
       "    <tr>\n",
       "      <th>RG266</th>\n",
       "      <td>86.058302</td>\n",
       "    </tr>\n",
       "    <tr>\n",
       "      <th>RG252</th>\n",
       "      <td>86.187587</td>\n",
       "    </tr>\n",
       "    <tr>\n",
       "      <th>RG264</th>\n",
       "      <td>86.282235</td>\n",
       "    </tr>\n",
       "  </tbody>\n",
       "</table>\n",
       "</div>"
      ],
      "text/plain": [
       "               Is_Lead\n",
       "Region_Code           \n",
       "RG283        69.795349\n",
       "RG284        69.894922\n",
       "RG268        70.017534\n",
       "RG276        72.214182\n",
       "RG253        74.111948\n",
       "RG265        74.126779\n",
       "RG273        76.228597\n",
       "RG280        76.446184\n",
       "RG255        76.759167\n",
       "RG251        76.789916\n",
       "RG277        76.804927\n",
       "RG279        77.439638\n",
       "RG263        77.813941\n",
       "RG269        77.827248\n",
       "RG258        77.960021\n",
       "RG272        78.008378\n",
       "RG278        78.046103\n",
       "RG281        78.118248\n",
       "RG254        78.713019\n",
       "RG259        80.626450\n",
       "RG282        80.785727\n",
       "RG257        80.819672\n",
       "RG260        80.894178\n",
       "RG262        81.935123\n",
       "RG271        83.073930\n",
       "RG261        83.200105\n",
       "RG275        83.251080\n",
       "RG274        83.503594\n",
       "RG250        84.254808\n",
       "RG267        85.103540\n",
       "RG270        85.564338\n",
       "RG256        85.914998\n",
       "RG266        86.058302\n",
       "RG252        86.187587\n",
       "RG264        86.282235"
      ]
     },
     "execution_count": 102,
     "metadata": {},
     "output_type": "execute_result"
    }
   ],
   "source": [
    "region_sum = df.groupby('Region_Code')[\"Is_Lead\"].sum()\n",
    "region_count = df.groupby('Region_Code')[\"Is_Lead\"].count()\n",
    "region_percentage = ((region_count-region_sum)*100)/region_count\n",
    "region_df = pd.DataFrame(region_percentage)\n",
    "region_df.sort_values(by=['Is_Lead'])\n",
    "\n",
    "# INFERENCE\n",
    "# 85%+ i.e. <15% : Is_Lead:    RG267, RG270,RG256,RG266,RG252,RG264\n",
    "#85 to 80 i.e. 15-20% : Is_Lead:  RG259,RG282,RG257,RG260,RG262,RG271,RG261,RG275,RG274,RG250\n",
    "#80 to 75 i.e. 20-25% : Is_Lead: RG273,RG280,RG255,RG251,RG277,RG279,RG263,RG269,RG258,RG272,RG278,RG281,RG254\n",
    "#75%-  i.e >25 : Is_Lead:      RG283,RG284,RG268,RG276,RG253,RG265\n",
    "\n"
   ]
  },
  {
   "cell_type": "code",
   "execution_count": 99,
   "metadata": {},
   "outputs": [
    {
     "data": {
      "image/png": "[encoded data removed]",
      "text/plain": [
       "<Figure size 1152x576 with 1 Axes>"
      ]
     },
     "metadata": {
      "needs_background": "light"
     },
     "output_type": "display_data"
    }
   ],
   "source": [
    "plt.figure(figsize = (16,8)) \n",
    "plt.xticks(rotation=90)\n",
    "plt.title('Region')\n",
    "sns.countplot(x=df[\"Region_Code\"],hue = 'Is_Lead',data=df);\n",
    "plt.xlabel('Region_Code')\n",
    "plt.ylabel('Is_Lead');"
   ]
  },
  {
   "cell_type": "code",
   "execution_count": 115,
   "metadata": {},
   "outputs": [],
   "source": [
    "age_bins = [None] * len(df['Age'])"
   ]
  },
  {
   "cell_type": "code",
   "execution_count": null,
   "metadata": {},
   "outputs": [],
   "source": []
  },
  {
   "cell_type": "code",
   "execution_count": 154,
   "metadata": {},
   "outputs": [
    {
     "ename": "AttributeError",
     "evalue": "'list' object has no attribute 'set_value'",
     "output_type": "error",
     "traceback": [
      "\u001b[1;31m---------------------------------------------------------------------------\u001b[0m",
      "\u001b[1;31mAttributeError\u001b[0m                            Traceback (most recent call last)",
      "\u001b[1;32m<ipython-input-154-62cb04dcfcb8>\u001b[0m in \u001b[0;36m<module>\u001b[1;34m\u001b[0m\n\u001b[1;32m----> 1\u001b[1;33m \u001b[0mage_bins\u001b[0m\u001b[1;33m.\u001b[0m\u001b[0mset_value\u001b[0m\u001b[1;33m(\u001b[0m\u001b[1;36m0\u001b[0m\u001b[1;33m,\u001b[0m\u001b[1;36m2\u001b[0m\u001b[1;33m)\u001b[0m\u001b[1;33m\u001b[0m\u001b[1;33m\u001b[0m\u001b[0m\n\u001b[0m",
      "\u001b[1;31mAttributeError\u001b[0m: 'list' object has no attribute 'set_value'"
     ]
    }
   ],
   "source": [
    "age_bins.set_value(0,2)"
   ]
  },
  {
   "cell_type": "code",
   "execution_count": 116,
   "metadata": {},
   "outputs": [
    {
     "ename": "KeyError",
     "evalue": "50598",
     "output_type": "error",
     "traceback": [
      "\u001b[1;31m---------------------------------------------------------------------------\u001b[0m",
      "\u001b[1;31mKeyError\u001b[0m                                  Traceback (most recent call last)",
      "\u001b[1;32m<ipython-input-116-cc744820b76d>\u001b[0m in \u001b[0;36m<module>\u001b[1;34m\u001b[0m\n\u001b[0;32m      8\u001b[0m \u001b[1;31m#age_bins = [None] * len(df['Age'])\u001b[0m\u001b[1;33m\u001b[0m\u001b[1;33m\u001b[0m\u001b[1;33m\u001b[0m\u001b[0m\n\u001b[0;32m      9\u001b[0m \u001b[1;32mfor\u001b[0m \u001b[0mi\u001b[0m \u001b[1;32min\u001b[0m \u001b[0mrange\u001b[0m\u001b[1;33m(\u001b[0m\u001b[0mlen\u001b[0m\u001b[1;33m(\u001b[0m\u001b[0mdf\u001b[0m\u001b[1;33m[\u001b[0m\u001b[1;34m'Age'\u001b[0m\u001b[1;33m]\u001b[0m\u001b[1;33m)\u001b[0m\u001b[1;33m)\u001b[0m\u001b[1;33m:\u001b[0m\u001b[1;33m\u001b[0m\u001b[1;33m\u001b[0m\u001b[0m\n\u001b[1;32m---> 10\u001b[1;33m     \u001b[1;32mif\u001b[0m \u001b[0mdf\u001b[0m\u001b[1;33m[\u001b[0m\u001b[1;34m'Age'\u001b[0m\u001b[1;33m]\u001b[0m\u001b[1;33m[\u001b[0m\u001b[0mi\u001b[0m\u001b[1;33m]\u001b[0m \u001b[1;33m<\u001b[0m \u001b[1;36m33\u001b[0m\u001b[1;33m:\u001b[0m\u001b[1;33m\u001b[0m\u001b[1;33m\u001b[0m\u001b[0m\n\u001b[0m\u001b[0;32m     11\u001b[0m         \u001b[0mage_bins\u001b[0m\u001b[1;33m[\u001b[0m\u001b[0mi\u001b[0m\u001b[1;33m]\u001b[0m \u001b[1;33m=\u001b[0m \u001b[1;34m\"grp_1\"\u001b[0m\u001b[1;33m\u001b[0m\u001b[1;33m\u001b[0m\u001b[0m\n\u001b[0;32m     12\u001b[0m     \u001b[1;32melif\u001b[0m \u001b[0mdf\u001b[0m\u001b[1;33m[\u001b[0m\u001b[1;34m'Age'\u001b[0m\u001b[1;33m]\u001b[0m\u001b[1;33m[\u001b[0m\u001b[0mi\u001b[0m\u001b[1;33m]\u001b[0m \u001b[1;33m>=\u001b[0m\u001b[1;36m33\u001b[0m \u001b[1;32mand\u001b[0m \u001b[0mdf\u001b[0m\u001b[1;33m[\u001b[0m\u001b[1;34m'Age'\u001b[0m\u001b[1;33m]\u001b[0m\u001b[1;33m[\u001b[0m\u001b[0mi\u001b[0m\u001b[1;33m]\u001b[0m \u001b[1;33m<\u001b[0m \u001b[1;36m42\u001b[0m\u001b[1;33m:\u001b[0m\u001b[1;33m\u001b[0m\u001b[1;33m\u001b[0m\u001b[0m\n",
      "\u001b[1;32m~\\.conda\\envs\\cv\\lib\\site-packages\\pandas\\core\\series.py\u001b[0m in \u001b[0;36m__getitem__\u001b[1;34m(self, key)\u001b[0m\n\u001b[0;32m    869\u001b[0m         \u001b[0mkey\u001b[0m \u001b[1;33m=\u001b[0m \u001b[0mcom\u001b[0m\u001b[1;33m.\u001b[0m\u001b[0mapply_if_callable\u001b[0m\u001b[1;33m(\u001b[0m\u001b[0mkey\u001b[0m\u001b[1;33m,\u001b[0m \u001b[0mself\u001b[0m\u001b[1;33m)\u001b[0m\u001b[1;33m\u001b[0m\u001b[1;33m\u001b[0m\u001b[0m\n\u001b[0;32m    870\u001b[0m         \u001b[1;32mtry\u001b[0m\u001b[1;33m:\u001b[0m\u001b[1;33m\u001b[0m\u001b[1;33m\u001b[0m\u001b[0m\n\u001b[1;32m--> 871\u001b[1;33m             \u001b[0mresult\u001b[0m \u001b[1;33m=\u001b[0m \u001b[0mself\u001b[0m\u001b[1;33m.\u001b[0m\u001b[0mindex\u001b[0m\u001b[1;33m.\u001b[0m\u001b[0mget_value\u001b[0m\u001b[1;33m(\u001b[0m\u001b[0mself\u001b[0m\u001b[1;33m,\u001b[0m \u001b[0mkey\u001b[0m\u001b[1;33m)\u001b[0m\u001b[1;33m\u001b[0m\u001b[1;33m\u001b[0m\u001b[0m\n\u001b[0m\u001b[0;32m    872\u001b[0m \u001b[1;33m\u001b[0m\u001b[0m\n\u001b[0;32m    873\u001b[0m             \u001b[1;32mif\u001b[0m \u001b[1;32mnot\u001b[0m \u001b[0mis_scalar\u001b[0m\u001b[1;33m(\u001b[0m\u001b[0mresult\u001b[0m\u001b[1;33m)\u001b[0m\u001b[1;33m:\u001b[0m\u001b[1;33m\u001b[0m\u001b[1;33m\u001b[0m\u001b[0m\n",
      "\u001b[1;32m~\\.conda\\envs\\cv\\lib\\site-packages\\pandas\\core\\indexes\\base.py\u001b[0m in \u001b[0;36mget_value\u001b[1;34m(self, series, key)\u001b[0m\n\u001b[0;32m   4402\u001b[0m         \u001b[0mk\u001b[0m \u001b[1;33m=\u001b[0m \u001b[0mself\u001b[0m\u001b[1;33m.\u001b[0m\u001b[0m_convert_scalar_indexer\u001b[0m\u001b[1;33m(\u001b[0m\u001b[0mk\u001b[0m\u001b[1;33m,\u001b[0m \u001b[0mkind\u001b[0m\u001b[1;33m=\u001b[0m\u001b[1;34m\"getitem\"\u001b[0m\u001b[1;33m)\u001b[0m\u001b[1;33m\u001b[0m\u001b[1;33m\u001b[0m\u001b[0m\n\u001b[0;32m   4403\u001b[0m         \u001b[1;32mtry\u001b[0m\u001b[1;33m:\u001b[0m\u001b[1;33m\u001b[0m\u001b[1;33m\u001b[0m\u001b[0m\n\u001b[1;32m-> 4404\u001b[1;33m             \u001b[1;32mreturn\u001b[0m \u001b[0mself\u001b[0m\u001b[1;33m.\u001b[0m\u001b[0m_engine\u001b[0m\u001b[1;33m.\u001b[0m\u001b[0mget_value\u001b[0m\u001b[1;33m(\u001b[0m\u001b[0ms\u001b[0m\u001b[1;33m,\u001b[0m \u001b[0mk\u001b[0m\u001b[1;33m,\u001b[0m \u001b[0mtz\u001b[0m\u001b[1;33m=\u001b[0m\u001b[0mgetattr\u001b[0m\u001b[1;33m(\u001b[0m\u001b[0mseries\u001b[0m\u001b[1;33m.\u001b[0m\u001b[0mdtype\u001b[0m\u001b[1;33m,\u001b[0m \u001b[1;34m\"tz\"\u001b[0m\u001b[1;33m,\u001b[0m \u001b[1;32mNone\u001b[0m\u001b[1;33m)\u001b[0m\u001b[1;33m)\u001b[0m\u001b[1;33m\u001b[0m\u001b[1;33m\u001b[0m\u001b[0m\n\u001b[0m\u001b[0;32m   4405\u001b[0m         \u001b[1;32mexcept\u001b[0m \u001b[0mKeyError\u001b[0m \u001b[1;32mas\u001b[0m \u001b[0me1\u001b[0m\u001b[1;33m:\u001b[0m\u001b[1;33m\u001b[0m\u001b[1;33m\u001b[0m\u001b[0m\n\u001b[0;32m   4406\u001b[0m             \u001b[1;32mif\u001b[0m \u001b[0mlen\u001b[0m\u001b[1;33m(\u001b[0m\u001b[0mself\u001b[0m\u001b[1;33m)\u001b[0m \u001b[1;33m>\u001b[0m \u001b[1;36m0\u001b[0m \u001b[1;32mand\u001b[0m \u001b[1;33m(\u001b[0m\u001b[0mself\u001b[0m\u001b[1;33m.\u001b[0m\u001b[0mholds_integer\u001b[0m\u001b[1;33m(\u001b[0m\u001b[1;33m)\u001b[0m \u001b[1;32mor\u001b[0m \u001b[0mself\u001b[0m\u001b[1;33m.\u001b[0m\u001b[0mis_boolean\u001b[0m\u001b[1;33m(\u001b[0m\u001b[1;33m)\u001b[0m\u001b[1;33m)\u001b[0m\u001b[1;33m:\u001b[0m\u001b[1;33m\u001b[0m\u001b[1;33m\u001b[0m\u001b[0m\n",
      "\u001b[1;32mpandas\\_libs\\index.pyx\u001b[0m in \u001b[0;36mpandas._libs.index.IndexEngine.get_value\u001b[1;34m()\u001b[0m\n",
      "\u001b[1;32mpandas\\_libs\\index.pyx\u001b[0m in \u001b[0;36mpandas._libs.index.IndexEngine.get_value\u001b[1;34m()\u001b[0m\n",
      "\u001b[1;32mpandas\\_libs\\index.pyx\u001b[0m in \u001b[0;36mpandas._libs.index.IndexEngine.get_loc\u001b[1;34m()\u001b[0m\n",
      "\u001b[1;32mpandas\\_libs\\hashtable_class_helper.pxi\u001b[0m in \u001b[0;36mpandas._libs.hashtable.Int64HashTable.get_item\u001b[1;34m()\u001b[0m\n",
      "\u001b[1;32mpandas\\_libs\\hashtable_class_helper.pxi\u001b[0m in \u001b[0;36mpandas._libs.hashtable.Int64HashTable.get_item\u001b[1;34m()\u001b[0m\n",
      "\u001b[1;31mKeyError\u001b[0m: 50598"
     ]
    }
   ],
   "source": [
    "# <=32 - 90% no\n",
    "#33-41 -90-70%\n",
    "#42-64 - 65% no\n",
    "#65-74 - 72-75% no\n",
    "# 75+  -\n",
    "\n",
    "# Making age bins\n",
    "#age_bins = [None] * len(df['Age'])\n",
    "for i in range(len(df['Age'])):\n",
    "    if df['Age'][i] < 33:\n",
    "        df.loc[i, \"Age\"] = \"grp_1\"\n",
    "    elif df['Age'][i] >=33 and df['Age'][i] < 42:\n",
    "        df.loc[i, \"Age\"] = \"grp_2\"\n",
    "    elif df['Age'][i] >=42 and df['Age'][i] < 65:\n",
    "        df.loc[i, \"Age\"] = \"grp_3\"\n",
    "    elif df['Age'][i] >=65 and df['Age'][i] < 74:\n",
    "        df.loc[i, \"Age\"] = \"grp_4\"\n",
    "    else:\n",
    "        df.loc[i, \"Age\"] = \"grp_5\"\n",
    "\n",
    "#df['age_group'] = age_bins\n",
    "\n",
    "\n",
    "'''\n",
    "for i in range(len(df['Age'])):\n",
    "    if df['Age'][i] < 33:\n",
    "        age_bins[i] = 'grp_1'\n",
    "    elif df['Age'][i] >=33 and df['Age'][i] < 42:\n",
    "        age_bins[i] = 'grp_2'\n",
    "    elif df['Age'][i] >=42 and df['Age'][i] < 65:\n",
    "        age_bins[i] = 'grp_3'\n",
    "    elif df['Age'][i] >=65 and df['Age'][i] < 74:\n",
    "        age_bins[i] = 'grp_4'\n",
    "    else:\n",
    "        age_bins[i] = 'grp_5'\n",
    "'''"
   ]
  },
  {
   "cell_type": "code",
   "execution_count": 155,
   "metadata": {},
   "outputs": [],
   "source": [
    "temp = df.copy()"
   ]
  },
  {
   "cell_type": "code",
   "execution_count": 156,
   "metadata": {},
   "outputs": [
    {
     "data": {
      "text/plain": [
       "28    14531\n",
       "29    13283\n",
       "27    13004\n",
       "30    11065\n",
       "26     9034\n",
       "      ...  \n",
       "82      749\n",
       "83      694\n",
       "84      624\n",
       "85      604\n",
       "23        1\n",
       "Name: Age, Length: 63, dtype: int64"
      ]
     },
     "execution_count": 156,
     "metadata": {},
     "output_type": "execute_result"
    }
   ],
   "source": [
    "temp[\"Age\"].value_counts()"
   ]
  },
  {
   "cell_type": "code",
   "execution_count": 161,
   "metadata": {},
   "outputs": [
    {
     "ename": "KeyError",
     "evalue": "50598",
     "output_type": "error",
     "traceback": [
      "\u001b[1;31m---------------------------------------------------------------------------\u001b[0m",
      "\u001b[1;31mKeyError\u001b[0m                                  Traceback (most recent call last)",
      "\u001b[1;32m<ipython-input-161-36fb0ab3df3d>\u001b[0m in \u001b[0;36m<module>\u001b[1;34m\u001b[0m\n\u001b[0;32m      1\u001b[0m \u001b[1;32mfor\u001b[0m \u001b[0mi\u001b[0m \u001b[1;32min\u001b[0m \u001b[0mrange\u001b[0m\u001b[1;33m(\u001b[0m\u001b[0mlen\u001b[0m\u001b[1;33m(\u001b[0m\u001b[0mtemp\u001b[0m\u001b[1;33m[\u001b[0m\u001b[1;34m\"Age\"\u001b[0m\u001b[1;33m]\u001b[0m\u001b[1;33m)\u001b[0m\u001b[1;33m)\u001b[0m\u001b[1;33m:\u001b[0m\u001b[1;33m\u001b[0m\u001b[1;33m\u001b[0m\u001b[0m\n\u001b[1;32m----> 2\u001b[1;33m     \u001b[1;32mif\u001b[0m \u001b[0mtemp\u001b[0m\u001b[1;33m[\u001b[0m\u001b[1;34m\"Age\"\u001b[0m\u001b[1;33m]\u001b[0m\u001b[1;33m[\u001b[0m\u001b[0mi\u001b[0m\u001b[1;33m]\u001b[0m \u001b[1;33m<\u001b[0m \u001b[1;36m33\u001b[0m\u001b[1;33m:\u001b[0m\u001b[1;33m\u001b[0m\u001b[1;33m\u001b[0m\u001b[0m\n\u001b[0m\u001b[0;32m      3\u001b[0m         \u001b[0mtemp\u001b[0m\u001b[1;33m.\u001b[0m\u001b[0mloc\u001b[0m\u001b[1;33m[\u001b[0m\u001b[0mi\u001b[0m\u001b[1;33m,\u001b[0m \u001b[1;34m\"Age\"\u001b[0m\u001b[1;33m]\u001b[0m \u001b[1;33m=\u001b[0m \u001b[1;34m\"grp_1\"\u001b[0m\u001b[1;33m\u001b[0m\u001b[1;33m\u001b[0m\u001b[0m\n",
      "\u001b[1;32m~\\.conda\\envs\\cv\\lib\\site-packages\\pandas\\core\\series.py\u001b[0m in \u001b[0;36m__getitem__\u001b[1;34m(self, key)\u001b[0m\n\u001b[0;32m    869\u001b[0m         \u001b[0mkey\u001b[0m \u001b[1;33m=\u001b[0m \u001b[0mcom\u001b[0m\u001b[1;33m.\u001b[0m\u001b[0mapply_if_callable\u001b[0m\u001b[1;33m(\u001b[0m\u001b[0mkey\u001b[0m\u001b[1;33m,\u001b[0m \u001b[0mself\u001b[0m\u001b[1;33m)\u001b[0m\u001b[1;33m\u001b[0m\u001b[1;33m\u001b[0m\u001b[0m\n\u001b[0;32m    870\u001b[0m         \u001b[1;32mtry\u001b[0m\u001b[1;33m:\u001b[0m\u001b[1;33m\u001b[0m\u001b[1;33m\u001b[0m\u001b[0m\n\u001b[1;32m--> 871\u001b[1;33m             \u001b[0mresult\u001b[0m \u001b[1;33m=\u001b[0m \u001b[0mself\u001b[0m\u001b[1;33m.\u001b[0m\u001b[0mindex\u001b[0m\u001b[1;33m.\u001b[0m\u001b[0mget_value\u001b[0m\u001b[1;33m(\u001b[0m\u001b[0mself\u001b[0m\u001b[1;33m,\u001b[0m \u001b[0mkey\u001b[0m\u001b[1;33m)\u001b[0m\u001b[1;33m\u001b[0m\u001b[1;33m\u001b[0m\u001b[0m\n\u001b[0m\u001b[0;32m    872\u001b[0m \u001b[1;33m\u001b[0m\u001b[0m\n\u001b[0;32m    873\u001b[0m             \u001b[1;32mif\u001b[0m \u001b[1;32mnot\u001b[0m \u001b[0mis_scalar\u001b[0m\u001b[1;33m(\u001b[0m\u001b[0mresult\u001b[0m\u001b[1;33m)\u001b[0m\u001b[1;33m:\u001b[0m\u001b[1;33m\u001b[0m\u001b[1;33m\u001b[0m\u001b[0m\n",
      "\u001b[1;32m~\\.conda\\envs\\cv\\lib\\site-packages\\pandas\\core\\indexes\\base.py\u001b[0m in \u001b[0;36mget_value\u001b[1;34m(self, series, key)\u001b[0m\n\u001b[0;32m   4402\u001b[0m         \u001b[0mk\u001b[0m \u001b[1;33m=\u001b[0m \u001b[0mself\u001b[0m\u001b[1;33m.\u001b[0m\u001b[0m_convert_scalar_indexer\u001b[0m\u001b[1;33m(\u001b[0m\u001b[0mk\u001b[0m\u001b[1;33m,\u001b[0m \u001b[0mkind\u001b[0m\u001b[1;33m=\u001b[0m\u001b[1;34m\"getitem\"\u001b[0m\u001b[1;33m)\u001b[0m\u001b[1;33m\u001b[0m\u001b[1;33m\u001b[0m\u001b[0m\n\u001b[0;32m   4403\u001b[0m         \u001b[1;32mtry\u001b[0m\u001b[1;33m:\u001b[0m\u001b[1;33m\u001b[0m\u001b[1;33m\u001b[0m\u001b[0m\n\u001b[1;32m-> 4404\u001b[1;33m             \u001b[1;32mreturn\u001b[0m \u001b[0mself\u001b[0m\u001b[1;33m.\u001b[0m\u001b[0m_engine\u001b[0m\u001b[1;33m.\u001b[0m\u001b[0mget_value\u001b[0m\u001b[1;33m(\u001b[0m\u001b[0ms\u001b[0m\u001b[1;33m,\u001b[0m \u001b[0mk\u001b[0m\u001b[1;33m,\u001b[0m \u001b[0mtz\u001b[0m\u001b[1;33m=\u001b[0m\u001b[0mgetattr\u001b[0m\u001b[1;33m(\u001b[0m\u001b[0mseries\u001b[0m\u001b[1;33m.\u001b[0m\u001b[0mdtype\u001b[0m\u001b[1;33m,\u001b[0m \u001b[1;34m\"tz\"\u001b[0m\u001b[1;33m,\u001b[0m \u001b[1;32mNone\u001b[0m\u001b[1;33m)\u001b[0m\u001b[1;33m)\u001b[0m\u001b[1;33m\u001b[0m\u001b[1;33m\u001b[0m\u001b[0m\n\u001b[0m\u001b[0;32m   4405\u001b[0m         \u001b[1;32mexcept\u001b[0m \u001b[0mKeyError\u001b[0m \u001b[1;32mas\u001b[0m \u001b[0me1\u001b[0m\u001b[1;33m:\u001b[0m\u001b[1;33m\u001b[0m\u001b[1;33m\u001b[0m\u001b[0m\n\u001b[0;32m   4406\u001b[0m             \u001b[1;32mif\u001b[0m \u001b[0mlen\u001b[0m\u001b[1;33m(\u001b[0m\u001b[0mself\u001b[0m\u001b[1;33m)\u001b[0m \u001b[1;33m>\u001b[0m \u001b[1;36m0\u001b[0m \u001b[1;32mand\u001b[0m \u001b[1;33m(\u001b[0m\u001b[0mself\u001b[0m\u001b[1;33m.\u001b[0m\u001b[0mholds_integer\u001b[0m\u001b[1;33m(\u001b[0m\u001b[1;33m)\u001b[0m \u001b[1;32mor\u001b[0m \u001b[0mself\u001b[0m\u001b[1;33m.\u001b[0m\u001b[0mis_boolean\u001b[0m\u001b[1;33m(\u001b[0m\u001b[1;33m)\u001b[0m\u001b[1;33m)\u001b[0m\u001b[1;33m:\u001b[0m\u001b[1;33m\u001b[0m\u001b[1;33m\u001b[0m\u001b[0m\n",
      "\u001b[1;32mpandas\\_libs\\index.pyx\u001b[0m in \u001b[0;36mpandas._libs.index.IndexEngine.get_value\u001b[1;34m()\u001b[0m\n",
      "\u001b[1;32mpandas\\_libs\\index.pyx\u001b[0m in \u001b[0;36mpandas._libs.index.IndexEngine.get_value\u001b[1;34m()\u001b[0m\n",
      "\u001b[1;32mpandas\\_libs\\index.pyx\u001b[0m in \u001b[0;36mpandas._libs.index.IndexEngine.get_loc\u001b[1;34m()\u001b[0m\n",
      "\u001b[1;32mpandas\\_libs\\hashtable_class_helper.pxi\u001b[0m in \u001b[0;36mpandas._libs.hashtable.Int64HashTable.get_item\u001b[1;34m()\u001b[0m\n",
      "\u001b[1;32mpandas\\_libs\\hashtable_class_helper.pxi\u001b[0m in \u001b[0;36mpandas._libs.hashtable.Int64HashTable.get_item\u001b[1;34m()\u001b[0m\n",
      "\u001b[1;31mKeyError\u001b[0m: 50598"
     ]
    }
   ],
   "source": [
    "for i in range(len(temp[\"Age\"])):\n",
    "    if temp[\"Age\"][i] < 33:\n",
    "        temp.loc[i, \"Age\"] = \"grp_1\""
   ]
  },
  {
   "cell_type": "code",
   "execution_count": 118,
   "metadata": {},
   "outputs": [],
   "source": [
    "age_bins[0] = \"grp_1\""
   ]
  },
  {
   "cell_type": "markdown",
   "metadata": {},
   "source": [
    "### Encoding of the categorica Variables\n",
    "##### Except the Credit_product\n"
   ]
  },
  {
   "cell_type": "code",
   "execution_count": 36,
   "metadata": {},
   "outputs": [
    {
     "data": {
      "text/plain": [
       "Gender                 object\n",
       "Age                     int64\n",
       "Region_Code            object\n",
       "Occupation             object\n",
       "Channel_Code           object\n",
       "Vintage                 int64\n",
       "Credit_Product         object\n",
       "Avg_Account_Balance     int64\n",
       "Is_Active              object\n",
       "Is_Lead                 int64\n",
       "dtype: object"
      ]
     },
     "execution_count": 36,
     "metadata": {},
     "output_type": "execute_result"
    }
   ],
   "source": [
    "# Looking at the dtypes \n",
    "df.dtypes"
   ]
  },
  {
   "cell_type": "code",
   "execution_count": 37,
   "metadata": {},
   "outputs": [
    {
     "data": {
      "text/plain": [
       "Index(['Gender', 'Age', 'Region_Code', 'Occupation', 'Channel_Code', 'Vintage',\n",
       "       'Credit_Product', 'Avg_Account_Balance', 'Is_Active', 'Is_Lead'],\n",
       "      dtype='object')"
      ]
     },
     "execution_count": 37,
     "metadata": {},
     "output_type": "execute_result"
    }
   ],
   "source": [
    "#Specifying the columns\n",
    "df.columns"
   ]
  },
  {
   "cell_type": "code",
   "execution_count": 38,
   "metadata": {},
   "outputs": [],
   "source": [
    "#Encoding\n",
    "df_encoded=pd.get_dummies(df, columns=['Gender', 'Region_Code', 'Occupation', 'Channel_Code','Is_Active'])"
   ]
  },
  {
   "cell_type": "code",
   "execution_count": 39,
   "metadata": {},
   "outputs": [
    {
     "data": {
      "text/html": [
       "<div>\n",
       "<style scoped>\n",
       "    .dataframe tbody tr th:only-of-type {\n",
       "        vertical-align: middle;\n",
       "    }\n",
       "\n",
       "    .dataframe tbody tr th {\n",
       "        vertical-align: top;\n",
       "    }\n",
       "\n",
       "    .dataframe thead th {\n",
       "        text-align: right;\n",
       "    }\n",
       "</style>\n",
       "<table border=\"1\" class=\"dataframe\">\n",
       "  <thead>\n",
       "    <tr style=\"text-align: right;\">\n",
       "      <th></th>\n",
       "      <th>Age</th>\n",
       "      <th>Vintage</th>\n",
       "      <th>Credit_Product</th>\n",
       "      <th>Avg_Account_Balance</th>\n",
       "      <th>Is_Lead</th>\n",
       "      <th>Gender_Female</th>\n",
       "      <th>Gender_Male</th>\n",
       "      <th>Region_Code_RG250</th>\n",
       "      <th>Region_Code_RG251</th>\n",
       "      <th>Region_Code_RG252</th>\n",
       "      <th>...</th>\n",
       "      <th>Occupation_Entrepreneur</th>\n",
       "      <th>Occupation_Other</th>\n",
       "      <th>Occupation_Salaried</th>\n",
       "      <th>Occupation_Self_Employed</th>\n",
       "      <th>Channel_Code_X1</th>\n",
       "      <th>Channel_Code_X2</th>\n",
       "      <th>Channel_Code_X3</th>\n",
       "      <th>Channel_Code_X4</th>\n",
       "      <th>Is_Active_No</th>\n",
       "      <th>Is_Active_Yes</th>\n",
       "    </tr>\n",
       "  </thead>\n",
       "  <tbody>\n",
       "    <tr>\n",
       "      <th>0</th>\n",
       "      <td>73</td>\n",
       "      <td>43</td>\n",
       "      <td>No</td>\n",
       "      <td>1045696</td>\n",
       "      <td>0</td>\n",
       "      <td>1</td>\n",
       "      <td>0</td>\n",
       "      <td>0</td>\n",
       "      <td>0</td>\n",
       "      <td>0</td>\n",
       "      <td>...</td>\n",
       "      <td>0</td>\n",
       "      <td>1</td>\n",
       "      <td>0</td>\n",
       "      <td>0</td>\n",
       "      <td>0</td>\n",
       "      <td>0</td>\n",
       "      <td>1</td>\n",
       "      <td>0</td>\n",
       "      <td>1</td>\n",
       "      <td>0</td>\n",
       "    </tr>\n",
       "    <tr>\n",
       "      <th>1</th>\n",
       "      <td>30</td>\n",
       "      <td>32</td>\n",
       "      <td>No</td>\n",
       "      <td>581988</td>\n",
       "      <td>0</td>\n",
       "      <td>1</td>\n",
       "      <td>0</td>\n",
       "      <td>0</td>\n",
       "      <td>0</td>\n",
       "      <td>0</td>\n",
       "      <td>...</td>\n",
       "      <td>0</td>\n",
       "      <td>0</td>\n",
       "      <td>1</td>\n",
       "      <td>0</td>\n",
       "      <td>1</td>\n",
       "      <td>0</td>\n",
       "      <td>0</td>\n",
       "      <td>0</td>\n",
       "      <td>1</td>\n",
       "      <td>0</td>\n",
       "    </tr>\n",
       "  </tbody>\n",
       "</table>\n",
       "<p>2 rows × 52 columns</p>\n",
       "</div>"
      ],
      "text/plain": [
       "   Age  Vintage Credit_Product  Avg_Account_Balance  Is_Lead  Gender_Female  \\\n",
       "0   73       43             No              1045696        0              1   \n",
       "1   30       32             No               581988        0              1   \n",
       "\n",
       "   Gender_Male  Region_Code_RG250  Region_Code_RG251  Region_Code_RG252  ...  \\\n",
       "0            0                  0                  0                  0  ...   \n",
       "1            0                  0                  0                  0  ...   \n",
       "\n",
       "   Occupation_Entrepreneur  Occupation_Other  Occupation_Salaried  \\\n",
       "0                        0                 1                    0   \n",
       "1                        0                 0                    1   \n",
       "\n",
       "   Occupation_Self_Employed  Channel_Code_X1  Channel_Code_X2  \\\n",
       "0                         0                0                0   \n",
       "1                         0                1                0   \n",
       "\n",
       "   Channel_Code_X3  Channel_Code_X4  Is_Active_No  Is_Active_Yes  \n",
       "0                1                0             1              0  \n",
       "1                0                0             1              0  \n",
       "\n",
       "[2 rows x 52 columns]"
      ]
     },
     "execution_count": 39,
     "metadata": {},
     "output_type": "execute_result"
    }
   ],
   "source": [
    "# Looking at the data\n",
    "df_encoded.head(2)"
   ]
  },
  {
   "cell_type": "code",
   "execution_count": 40,
   "metadata": {},
   "outputs": [
    {
     "data": {
      "text/plain": [
       "Index(['Age', 'Vintage', 'Credit_Product', 'Avg_Account_Balance', 'Is_Lead',\n",
       "       'Gender_Female', 'Gender_Male', 'Region_Code_RG250',\n",
       "       'Region_Code_RG251', 'Region_Code_RG252', 'Region_Code_RG253',\n",
       "       'Region_Code_RG254', 'Region_Code_RG255', 'Region_Code_RG256',\n",
       "       'Region_Code_RG257', 'Region_Code_RG258', 'Region_Code_RG259',\n",
       "       'Region_Code_RG260', 'Region_Code_RG261', 'Region_Code_RG262',\n",
       "       'Region_Code_RG263', 'Region_Code_RG264', 'Region_Code_RG265',\n",
       "       'Region_Code_RG266', 'Region_Code_RG267', 'Region_Code_RG268',\n",
       "       'Region_Code_RG269', 'Region_Code_RG270', 'Region_Code_RG271',\n",
       "       'Region_Code_RG272', 'Region_Code_RG273', 'Region_Code_RG274',\n",
       "       'Region_Code_RG275', 'Region_Code_RG276', 'Region_Code_RG277',\n",
       "       'Region_Code_RG278', 'Region_Code_RG279', 'Region_Code_RG280',\n",
       "       'Region_Code_RG281', 'Region_Code_RG282', 'Region_Code_RG283',\n",
       "       'Region_Code_RG284', 'Occupation_Entrepreneur', 'Occupation_Other',\n",
       "       'Occupation_Salaried', 'Occupation_Self_Employed', 'Channel_Code_X1',\n",
       "       'Channel_Code_X2', 'Channel_Code_X3', 'Channel_Code_X4', 'Is_Active_No',\n",
       "       'Is_Active_Yes'],\n",
       "      dtype='object')"
      ]
     },
     "execution_count": 40,
     "metadata": {},
     "output_type": "execute_result"
    }
   ],
   "source": [
    "# Specifying Encoded Columns\n",
    "df_encoded.columns"
   ]
  },
  {
   "cell_type": "code",
   "execution_count": 41,
   "metadata": {},
   "outputs": [],
   "source": [
    "# Dropping last columns of each feature, to avoid dummy variable trap \n",
    "df_encoded.drop(['Gender_Female','Is_Active_No','Channel_Code_X4','Occupation_Entrepreneur','Region_Code_RG284'], axis=1, inplace=True)"
   ]
  },
  {
   "cell_type": "code",
   "execution_count": 42,
   "metadata": {},
   "outputs": [
    {
     "data": {
      "text/plain": [
       "Index(['Age', 'Vintage', 'Credit_Product', 'Avg_Account_Balance', 'Is_Lead',\n",
       "       'Gender_Male', 'Region_Code_RG250', 'Region_Code_RG251',\n",
       "       'Region_Code_RG252', 'Region_Code_RG253', 'Region_Code_RG254',\n",
       "       'Region_Code_RG255', 'Region_Code_RG256', 'Region_Code_RG257',\n",
       "       'Region_Code_RG258', 'Region_Code_RG259', 'Region_Code_RG260',\n",
       "       'Region_Code_RG261', 'Region_Code_RG262', 'Region_Code_RG263',\n",
       "       'Region_Code_RG264', 'Region_Code_RG265', 'Region_Code_RG266',\n",
       "       'Region_Code_RG267', 'Region_Code_RG268', 'Region_Code_RG269',\n",
       "       'Region_Code_RG270', 'Region_Code_RG271', 'Region_Code_RG272',\n",
       "       'Region_Code_RG273', 'Region_Code_RG274', 'Region_Code_RG275',\n",
       "       'Region_Code_RG276', 'Region_Code_RG277', 'Region_Code_RG278',\n",
       "       'Region_Code_RG279', 'Region_Code_RG280', 'Region_Code_RG281',\n",
       "       'Region_Code_RG282', 'Region_Code_RG283', 'Occupation_Other',\n",
       "       'Occupation_Salaried', 'Occupation_Self_Employed', 'Channel_Code_X1',\n",
       "       'Channel_Code_X2', 'Channel_Code_X3', 'Is_Active_Yes'],\n",
       "      dtype='object')"
      ]
     },
     "execution_count": 42,
     "metadata": {},
     "output_type": "execute_result"
    }
   ],
   "source": [
    "# Final Columns\n",
    "df_encoded.columns"
   ]
  },
  {
   "cell_type": "code",
   "execution_count": 43,
   "metadata": {},
   "outputs": [],
   "source": [
    "# Renaming Columns\n",
    "df_encoded.rename(columns = {'Gender_Male':'Gender', 'Is_Active_Yes':'Is_Active'}, inplace=True)"
   ]
  },
  {
   "cell_type": "code",
   "execution_count": 44,
   "metadata": {},
   "outputs": [
    {
     "data": {
      "text/plain": [
       "No         144341\n",
       "Yes         72038\n",
       "Missing     29325\n",
       "Name: Credit_Product, dtype: int64"
      ]
     },
     "execution_count": 44,
     "metadata": {},
     "output_type": "execute_result"
    }
   ],
   "source": [
    "# Count of each value in 'Credit_Product'\n",
    "df_encoded['Credit_Product'].value_counts()"
   ]
  },
  {
   "cell_type": "code",
   "execution_count": 45,
   "metadata": {},
   "outputs": [
    {
     "data": {
      "text/plain": [
       "Age                         0\n",
       "Vintage                     0\n",
       "Credit_Product              0\n",
       "Avg_Account_Balance         0\n",
       "Is_Lead                     0\n",
       "Gender                      0\n",
       "Region_Code_RG250           0\n",
       "Region_Code_RG251           0\n",
       "Region_Code_RG252           0\n",
       "Region_Code_RG253           0\n",
       "Region_Code_RG254           0\n",
       "Region_Code_RG255           0\n",
       "Region_Code_RG256           0\n",
       "Region_Code_RG257           0\n",
       "Region_Code_RG258           0\n",
       "Region_Code_RG259           0\n",
       "Region_Code_RG260           0\n",
       "Region_Code_RG261           0\n",
       "Region_Code_RG262           0\n",
       "Region_Code_RG263           0\n",
       "Region_Code_RG264           0\n",
       "Region_Code_RG265           0\n",
       "Region_Code_RG266           0\n",
       "Region_Code_RG267           0\n",
       "Region_Code_RG268           0\n",
       "Region_Code_RG269           0\n",
       "Region_Code_RG270           0\n",
       "Region_Code_RG271           0\n",
       "Region_Code_RG272           0\n",
       "Region_Code_RG273           0\n",
       "Region_Code_RG274           0\n",
       "Region_Code_RG275           0\n",
       "Region_Code_RG276           0\n",
       "Region_Code_RG277           0\n",
       "Region_Code_RG278           0\n",
       "Region_Code_RG279           0\n",
       "Region_Code_RG280           0\n",
       "Region_Code_RG281           0\n",
       "Region_Code_RG282           0\n",
       "Region_Code_RG283           0\n",
       "Occupation_Other            0\n",
       "Occupation_Salaried         0\n",
       "Occupation_Self_Employed    0\n",
       "Channel_Code_X1             0\n",
       "Channel_Code_X2             0\n",
       "Channel_Code_X3             0\n",
       "Is_Active                   0\n",
       "dtype: int64"
      ]
     },
     "execution_count": 45,
     "metadata": {},
     "output_type": "execute_result"
    }
   ],
   "source": [
    "#Verifying there is no null\n",
    "df_encoded.isnull().sum()"
   ]
  },
  {
   "cell_type": "markdown",
   "metadata": {},
   "source": [
    "##### Creating test and train data"
   ]
  },
  {
   "cell_type": "code",
   "execution_count": 46,
   "metadata": {},
   "outputs": [],
   "source": [
    "test = df_encoded[df_encoded['Credit_Product']=='Missing']"
   ]
  },
  {
   "cell_type": "code",
   "execution_count": 47,
   "metadata": {},
   "outputs": [
    {
     "data": {
      "text/plain": [
       "(29325, 47)"
      ]
     },
     "execution_count": 47,
     "metadata": {},
     "output_type": "execute_result"
    }
   ],
   "source": [
    "test.shape"
   ]
  },
  {
   "cell_type": "code",
   "execution_count": 48,
   "metadata": {},
   "outputs": [],
   "source": [
    "train = df_encoded[df_encoded['Credit_Product']!='Missing']"
   ]
  },
  {
   "cell_type": "code",
   "execution_count": 49,
   "metadata": {},
   "outputs": [
    {
     "data": {
      "text/plain": [
       "(216379, 47)"
      ]
     },
     "execution_count": 49,
     "metadata": {},
     "output_type": "execute_result"
    }
   ],
   "source": [
    "train.shape"
   ]
  },
  {
   "cell_type": "code",
   "execution_count": 50,
   "metadata": {},
   "outputs": [
    {
     "data": {
      "text/plain": [
       "Missing    29325\n",
       "Name: Credit_Product, dtype: int64"
      ]
     },
     "execution_count": 50,
     "metadata": {},
     "output_type": "execute_result"
    }
   ],
   "source": [
    "test['Credit_Product'].value_counts()"
   ]
  },
  {
   "cell_type": "code",
   "execution_count": 51,
   "metadata": {},
   "outputs": [],
   "source": [
    "X_train = train.drop(['Credit_Product'], axis=1)\n",
    "Y_train = pd.DataFrame(train['Credit_Product'], columns = ['Credit_Product'], index = train.index)\n",
    "X_test = test.drop(['Credit_Product'], axis=1)"
   ]
  },
  {
   "cell_type": "code",
   "execution_count": 52,
   "metadata": {},
   "outputs": [
    {
     "name": "stdout",
     "output_type": "stream",
     "text": [
      "X_train_shape:(216379, 46)\n",
      "Y_train_shape:(216379, 1)\n",
      "X_test_shape:(29325, 46)\n"
     ]
    }
   ],
   "source": [
    "print(\"X_train_shape:{}\".format(X_train.shape))\n",
    "print(\"Y_train_shape:{}\".format(Y_train.shape))\n",
    "print(\"X_test_shape:{}\".format(X_test.shape))"
   ]
  },
  {
   "cell_type": "code",
   "execution_count": 54,
   "metadata": {},
   "outputs": [
    {
     "data": {
      "text/plain": [
       "No     144341\n",
       "Yes     72038\n",
       "Name: Credit_Product, dtype: int64"
      ]
     },
     "execution_count": 54,
     "metadata": {},
     "output_type": "execute_result"
    }
   ],
   "source": [
    "Y_train['Credit_Product'].value_counts()"
   ]
  },
  {
   "cell_type": "code",
   "execution_count": 55,
   "metadata": {},
   "outputs": [],
   "source": [
    "#Encoding\n",
    "Y_train = pd.get_dummies(Y_train, columns=['Credit_Product'])"
   ]
  },
  {
   "cell_type": "code",
   "execution_count": 56,
   "metadata": {},
   "outputs": [
    {
     "data": {
      "text/plain": [
       "Index(['Credit_Product_No', 'Credit_Product_Yes'], dtype='object')"
      ]
     },
     "execution_count": 56,
     "metadata": {},
     "output_type": "execute_result"
    }
   ],
   "source": [
    "Y_train.columns"
   ]
  },
  {
   "cell_type": "code",
   "execution_count": 57,
   "metadata": {},
   "outputs": [],
   "source": [
    "Y_train.drop(['Credit_Product_No'],axis=1,inplace=True)\n",
    "Y_train.rename(columns = {'Credit_Product_Yes':'Credit_Product'}, inplace=True)"
   ]
  },
  {
   "cell_type": "code",
   "execution_count": 58,
   "metadata": {},
   "outputs": [],
   "source": [
    "Y_train = pd.DataFrame(Y_train, columns = ['Credit_Product'], index = train.index)"
   ]
  },
  {
   "cell_type": "code",
   "execution_count": 59,
   "metadata": {},
   "outputs": [
    {
     "data": {
      "text/html": [
       "<div>\n",
       "<style scoped>\n",
       "    .dataframe tbody tr th:only-of-type {\n",
       "        vertical-align: middle;\n",
       "    }\n",
       "\n",
       "    .dataframe tbody tr th {\n",
       "        vertical-align: top;\n",
       "    }\n",
       "\n",
       "    .dataframe thead th {\n",
       "        text-align: right;\n",
       "    }\n",
       "</style>\n",
       "<table border=\"1\" class=\"dataframe\">\n",
       "  <thead>\n",
       "    <tr style=\"text-align: right;\">\n",
       "      <th></th>\n",
       "      <th>Credit_Product</th>\n",
       "    </tr>\n",
       "  </thead>\n",
       "  <tbody>\n",
       "    <tr>\n",
       "      <th>0</th>\n",
       "      <td>0</td>\n",
       "    </tr>\n",
       "    <tr>\n",
       "      <th>1</th>\n",
       "      <td>0</td>\n",
       "    </tr>\n",
       "  </tbody>\n",
       "</table>\n",
       "</div>"
      ],
      "text/plain": [
       "   Credit_Product\n",
       "0               0\n",
       "1               0"
      ]
     },
     "execution_count": 59,
     "metadata": {},
     "output_type": "execute_result"
    }
   ],
   "source": [
    "Y_train.head(2)"
   ]
  },
  {
   "cell_type": "code",
   "execution_count": 60,
   "metadata": {},
   "outputs": [
    {
     "data": {
      "text/plain": [
       "Credit_Product    uint8\n",
       "dtype: object"
      ]
     },
     "execution_count": 60,
     "metadata": {},
     "output_type": "execute_result"
    }
   ],
   "source": [
    "Y_train.dtypes"
   ]
  },
  {
   "cell_type": "markdown",
   "metadata": {},
   "source": [
    "##### scaling"
   ]
  },
  {
   "cell_type": "code",
   "execution_count": 61,
   "metadata": {},
   "outputs": [],
   "source": [
    "X_train_temp = X_train.loc[:,['Age','Avg_Account_Balance','Vintage']]\n",
    "X_test_temp = X_test.loc[:,['Age','Avg_Account_Balance','Vintage']]"
   ]
  },
  {
   "cell_type": "code",
   "execution_count": 62,
   "metadata": {},
   "outputs": [
    {
     "data": {
      "text/html": [
       "<div>\n",
       "<style scoped>\n",
       "    .dataframe tbody tr th:only-of-type {\n",
       "        vertical-align: middle;\n",
       "    }\n",
       "\n",
       "    .dataframe tbody tr th {\n",
       "        vertical-align: top;\n",
       "    }\n",
       "\n",
       "    .dataframe thead th {\n",
       "        text-align: right;\n",
       "    }\n",
       "</style>\n",
       "<table border=\"1\" class=\"dataframe\">\n",
       "  <thead>\n",
       "    <tr style=\"text-align: right;\">\n",
       "      <th></th>\n",
       "      <th>Age</th>\n",
       "      <th>Avg_Account_Balance</th>\n",
       "      <th>Vintage</th>\n",
       "    </tr>\n",
       "  </thead>\n",
       "  <tbody>\n",
       "    <tr>\n",
       "      <th>0</th>\n",
       "      <td>2.032980</td>\n",
       "      <td>-0.081637</td>\n",
       "      <td>-0.041210</td>\n",
       "    </tr>\n",
       "    <tr>\n",
       "      <th>1</th>\n",
       "      <td>-0.862466</td>\n",
       "      <td>-0.627157</td>\n",
       "      <td>-0.393369</td>\n",
       "    </tr>\n",
       "    <tr>\n",
       "      <th>2</th>\n",
       "      <td>0.888269</td>\n",
       "      <td>0.434368</td>\n",
       "      <td>-0.585455</td>\n",
       "    </tr>\n",
       "    <tr>\n",
       "      <th>3</th>\n",
       "      <td>-0.593122</td>\n",
       "      <td>-0.758369</td>\n",
       "      <td>-0.809556</td>\n",
       "    </tr>\n",
       "    <tr>\n",
       "      <th>4</th>\n",
       "      <td>-0.862466</td>\n",
       "      <td>-0.268582</td>\n",
       "      <td>-0.361354</td>\n",
       "    </tr>\n",
       "  </tbody>\n",
       "</table>\n",
       "</div>"
      ],
      "text/plain": [
       "        Age  Avg_Account_Balance   Vintage\n",
       "0  2.032980            -0.081637 -0.041210\n",
       "1 -0.862466            -0.627157 -0.393369\n",
       "2  0.888269             0.434368 -0.585455\n",
       "3 -0.593122            -0.758369 -0.809556\n",
       "4 -0.862466            -0.268582 -0.361354"
      ]
     },
     "execution_count": 62,
     "metadata": {},
     "output_type": "execute_result"
    }
   ],
   "source": [
    "ct =ColumnTransformer(\n",
    "    [('std-sclr',StandardScaler(),['Age','Avg_Account_Balance','Vintage'])\n",
    "    ],\n",
    "    remainder = 'passthrough'\n",
    ")\n",
    "\n",
    "scaled_x_train = ct.fit_transform(X_train_temp)\n",
    "scaled_x_train_df = pd.DataFrame(scaled_x_train, columns=X_train_temp.columns,index=X_train_temp.index)\n",
    "scaled_x_train_df.head()"
   ]
  },
  {
   "cell_type": "code",
   "execution_count": 63,
   "metadata": {},
   "outputs": [
    {
     "data": {
      "text/html": [
       "<div>\n",
       "<style scoped>\n",
       "    .dataframe tbody tr th:only-of-type {\n",
       "        vertical-align: middle;\n",
       "    }\n",
       "\n",
       "    .dataframe tbody tr th {\n",
       "        vertical-align: top;\n",
       "    }\n",
       "\n",
       "    .dataframe thead th {\n",
       "        text-align: right;\n",
       "    }\n",
       "</style>\n",
       "<table border=\"1\" class=\"dataframe\">\n",
       "  <thead>\n",
       "    <tr style=\"text-align: right;\">\n",
       "      <th></th>\n",
       "      <th>Age</th>\n",
       "      <th>Avg_Account_Balance</th>\n",
       "      <th>Vintage</th>\n",
       "    </tr>\n",
       "  </thead>\n",
       "  <tbody>\n",
       "    <tr>\n",
       "      <th>6</th>\n",
       "      <td>0.858129</td>\n",
       "      <td>-0.195791</td>\n",
       "      <td>-1.389382</td>\n",
       "    </tr>\n",
       "    <tr>\n",
       "      <th>15</th>\n",
       "      <td>-1.534088</td>\n",
       "      <td>-0.817635</td>\n",
       "      <td>0.068779</td>\n",
       "    </tr>\n",
       "    <tr>\n",
       "      <th>31</th>\n",
       "      <td>-1.616578</td>\n",
       "      <td>-0.177240</td>\n",
       "      <td>-1.538173</td>\n",
       "    </tr>\n",
       "    <tr>\n",
       "      <th>36</th>\n",
       "      <td>-0.874166</td>\n",
       "      <td>-0.304523</td>\n",
       "      <td>-0.139530</td>\n",
       "    </tr>\n",
       "    <tr>\n",
       "      <th>40</th>\n",
       "      <td>0.940620</td>\n",
       "      <td>0.026093</td>\n",
       "      <td>1.080563</td>\n",
       "    </tr>\n",
       "  </tbody>\n",
       "</table>\n",
       "</div>"
      ],
      "text/plain": [
       "         Age  Avg_Account_Balance   Vintage\n",
       "6   0.858129            -0.195791 -1.389382\n",
       "15 -1.534088            -0.817635  0.068779\n",
       "31 -1.616578            -0.177240 -1.538173\n",
       "36 -0.874166            -0.304523 -0.139530\n",
       "40  0.940620             0.026093  1.080563"
      ]
     },
     "execution_count": 63,
     "metadata": {},
     "output_type": "execute_result"
    }
   ],
   "source": [
    "scaled_x_test = ct.fit_transform(X_test_temp)\n",
    "scaled_x_test_df = pd.DataFrame(scaled_x_test, columns=X_test_temp.columns,index=X_test_temp.index)\n",
    "scaled_x_test_df.head()"
   ]
  },
  {
   "cell_type": "code",
   "execution_count": 64,
   "metadata": {},
   "outputs": [],
   "source": [
    "X_train_sc=X_train.drop(['Age','Avg_Account_Balance','Vintage'], axis=1)\n",
    "X_test_sc =X_test.drop(['Age','Avg_Account_Balance','Vintage'], axis=1)\n",
    "\n",
    "X_train_sc =X_train_sc.join(scaled_x_train_df)\n",
    "X_test_sc =X_test_sc.join(scaled_x_test_df)"
   ]
  },
  {
   "cell_type": "markdown",
   "metadata": {},
   "source": [
    "### Datawig"
   ]
  },
  {
   "cell_type": "code",
   "execution_count": 554,
   "metadata": {},
   "outputs": [
    {
     "ename": "ModuleNotFoundError",
     "evalue": "No module named 'Datawig'",
     "output_type": "error",
     "traceback": [
      "\u001b[1;31m---------------------------------------------------------------------------\u001b[0m",
      "\u001b[1;31mModuleNotFoundError\u001b[0m                       Traceback (most recent call last)",
      "\u001b[1;32m<ipython-input-554-48f675f1a35a>\u001b[0m in \u001b[0;36m<module>\u001b[1;34m\u001b[0m\n\u001b[1;32m----> 1\u001b[1;33m \u001b[1;32mimport\u001b[0m \u001b[0mDatawig\u001b[0m\u001b[1;33m\u001b[0m\u001b[1;33m\u001b[0m\u001b[0m\n\u001b[0m",
      "\u001b[1;31mModuleNotFoundError\u001b[0m: No module named 'Datawig'"
     ]
    }
   ],
   "source": [
    "import Datawig"
   ]
  },
  {
   "cell_type": "code",
   "execution_count": 552,
   "metadata": {},
   "outputs": [
    {
     "data": {
      "text/html": [
       "<div>\n",
       "<style scoped>\n",
       "    .dataframe tbody tr th:only-of-type {\n",
       "        vertical-align: middle;\n",
       "    }\n",
       "\n",
       "    .dataframe tbody tr th {\n",
       "        vertical-align: top;\n",
       "    }\n",
       "\n",
       "    .dataframe thead th {\n",
       "        text-align: right;\n",
       "    }\n",
       "</style>\n",
       "<table border=\"1\" class=\"dataframe\">\n",
       "  <thead>\n",
       "    <tr style=\"text-align: right;\">\n",
       "      <th></th>\n",
       "      <th>Gender</th>\n",
       "      <th>Age</th>\n",
       "      <th>Region_Code</th>\n",
       "      <th>Occupation</th>\n",
       "      <th>Channel_Code</th>\n",
       "      <th>Vintage</th>\n",
       "      <th>Credit_Product</th>\n",
       "      <th>Avg_Account_Balance</th>\n",
       "      <th>Is_Active</th>\n",
       "      <th>Is_Lead</th>\n",
       "    </tr>\n",
       "  </thead>\n",
       "  <tbody>\n",
       "    <tr>\n",
       "      <th>0</th>\n",
       "      <td>Female</td>\n",
       "      <td>73</td>\n",
       "      <td>RG268</td>\n",
       "      <td>Other</td>\n",
       "      <td>X3</td>\n",
       "      <td>43</td>\n",
       "      <td>No</td>\n",
       "      <td>1045696</td>\n",
       "      <td>No</td>\n",
       "      <td>0</td>\n",
       "    </tr>\n",
       "    <tr>\n",
       "      <th>1</th>\n",
       "      <td>Female</td>\n",
       "      <td>30</td>\n",
       "      <td>RG277</td>\n",
       "      <td>Salaried</td>\n",
       "      <td>X1</td>\n",
       "      <td>32</td>\n",
       "      <td>No</td>\n",
       "      <td>581988</td>\n",
       "      <td>No</td>\n",
       "      <td>0</td>\n",
       "    </tr>\n",
       "    <tr>\n",
       "      <th>2</th>\n",
       "      <td>Female</td>\n",
       "      <td>56</td>\n",
       "      <td>RG268</td>\n",
       "      <td>Self_Employed</td>\n",
       "      <td>X3</td>\n",
       "      <td>26</td>\n",
       "      <td>No</td>\n",
       "      <td>1484315</td>\n",
       "      <td>Yes</td>\n",
       "      <td>0</td>\n",
       "    </tr>\n",
       "    <tr>\n",
       "      <th>3</th>\n",
       "      <td>Male</td>\n",
       "      <td>34</td>\n",
       "      <td>RG270</td>\n",
       "      <td>Salaried</td>\n",
       "      <td>X1</td>\n",
       "      <td>19</td>\n",
       "      <td>No</td>\n",
       "      <td>470454</td>\n",
       "      <td>No</td>\n",
       "      <td>0</td>\n",
       "    </tr>\n",
       "    <tr>\n",
       "      <th>4</th>\n",
       "      <td>Female</td>\n",
       "      <td>30</td>\n",
       "      <td>RG282</td>\n",
       "      <td>Salaried</td>\n",
       "      <td>X1</td>\n",
       "      <td>33</td>\n",
       "      <td>No</td>\n",
       "      <td>886787</td>\n",
       "      <td>No</td>\n",
       "      <td>0</td>\n",
       "    </tr>\n",
       "  </tbody>\n",
       "</table>\n",
       "</div>"
      ],
      "text/plain": [
       "   Gender  Age Region_Code     Occupation Channel_Code  Vintage  \\\n",
       "0  Female   73       RG268          Other           X3       43   \n",
       "1  Female   30       RG277       Salaried           X1       32   \n",
       "2  Female   56       RG268  Self_Employed           X3       26   \n",
       "3    Male   34       RG270       Salaried           X1       19   \n",
       "4  Female   30       RG282       Salaried           X1       33   \n",
       "\n",
       "  Credit_Product  Avg_Account_Balance Is_Active  Is_Lead  \n",
       "0             No              1045696        No        0  \n",
       "1             No               581988        No        0  \n",
       "2             No              1484315       Yes        0  \n",
       "3             No               470454        No        0  \n",
       "4             No               886787        No        0  "
      ]
     },
     "execution_count": 552,
     "metadata": {},
     "output_type": "execute_result"
    }
   ],
   "source": [
    "df.head()"
   ]
  },
  {
   "cell_type": "code",
   "execution_count": null,
   "metadata": {},
   "outputs": [],
   "source": [
    "#Initialize a SimpleImputer model\n",
    "imputer = SimpleImputer(\n",
    "    input_columns=['Gender', 'Age', 'Region_Code', 'Occupation', 'Channel_Code', 'Vintage',\n",
    "        'Avg_Account_Balance', 'Is_Active', 'Is_Lead'],\n",
    "    output_column='Credit_Product',\n",
    "    output_path = 'imputer_model'\n",
    ")\n",
    "\n",
    "#Fit an imputer model on the train data\n",
    "imputer.fit(train_df=df)"
   ]
  },
  {
   "cell_type": "code",
   "execution_count": null,
   "metadata": {},
   "outputs": [],
   "source": []
  },
  {
   "cell_type": "code",
   "execution_count": null,
   "metadata": {},
   "outputs": [],
   "source": []
  },
  {
   "cell_type": "code",
   "execution_count": null,
   "metadata": {},
   "outputs": [],
   "source": []
  },
  {
   "cell_type": "code",
   "execution_count": null,
   "metadata": {},
   "outputs": [],
   "source": []
  },
  {
   "cell_type": "markdown",
   "metadata": {},
   "source": [
    "### Building RF model"
   ]
  },
  {
   "cell_type": "code",
   "execution_count": 65,
   "metadata": {},
   "outputs": [
    {
     "name": "stderr",
     "output_type": "stream",
     "text": [
      "C:\\Users\\Sourabh\\.conda\\envs\\cv\\lib\\site-packages\\ipykernel_launcher.py:2: DataConversionWarning: A column-vector y was passed when a 1d array was expected. Please change the shape of y to (n_samples,), for example using ravel().\n",
      "  \n"
     ]
    }
   ],
   "source": [
    "rf_classifier = RandomForestClassifier()\n",
    "rf_classifier = rf_classifier.fit(X_train_sc, Y_train)\n",
    "pred_values = rf_classifier.predict(X_test_sc)\n"
   ]
  },
  {
   "cell_type": "code",
   "execution_count": 66,
   "metadata": {},
   "outputs": [],
   "source": [
    "y = pd.DataFrame(pred_values, columns=['Credit_Product'], index = X_test.index )"
   ]
  },
  {
   "cell_type": "code",
   "execution_count": 68,
   "metadata": {},
   "outputs": [
    {
     "data": {
      "text/plain": [
       "1    22795\n",
       "0     6530\n",
       "Name: Credit_Product, dtype: int64"
      ]
     },
     "execution_count": 68,
     "metadata": {},
     "output_type": "execute_result"
    }
   ],
   "source": [
    "#WIth scaling_rf\n",
    "y['Credit_Product'].value_counts()"
   ]
  },
  {
   "cell_type": "code",
   "execution_count": 69,
   "metadata": {},
   "outputs": [
    {
     "data": {
      "text/html": [
       "<div>\n",
       "<style scoped>\n",
       "    .dataframe tbody tr th:only-of-type {\n",
       "        vertical-align: middle;\n",
       "    }\n",
       "\n",
       "    .dataframe tbody tr th {\n",
       "        vertical-align: top;\n",
       "    }\n",
       "\n",
       "    .dataframe thead th {\n",
       "        text-align: right;\n",
       "    }\n",
       "</style>\n",
       "<table border=\"1\" class=\"dataframe\">\n",
       "  <thead>\n",
       "    <tr style=\"text-align: right;\">\n",
       "      <th></th>\n",
       "      <th>Credit_Product</th>\n",
       "    </tr>\n",
       "  </thead>\n",
       "  <tbody>\n",
       "    <tr>\n",
       "      <th>6</th>\n",
       "      <td>1</td>\n",
       "    </tr>\n",
       "    <tr>\n",
       "      <th>15</th>\n",
       "      <td>1</td>\n",
       "    </tr>\n",
       "    <tr>\n",
       "      <th>31</th>\n",
       "      <td>1</td>\n",
       "    </tr>\n",
       "    <tr>\n",
       "      <th>36</th>\n",
       "      <td>1</td>\n",
       "    </tr>\n",
       "    <tr>\n",
       "      <th>40</th>\n",
       "      <td>1</td>\n",
       "    </tr>\n",
       "  </tbody>\n",
       "</table>\n",
       "</div>"
      ],
      "text/plain": [
       "    Credit_Product\n",
       "6                1\n",
       "15               1\n",
       "31               1\n",
       "36               1\n",
       "40               1"
      ]
     },
     "execution_count": 69,
     "metadata": {},
     "output_type": "execute_result"
    }
   ],
   "source": [
    "y.head()"
   ]
  },
  {
   "cell_type": "code",
   "execution_count": 70,
   "metadata": {},
   "outputs": [
    {
     "data": {
      "text/plain": [
       "Credit_Product    uint8\n",
       "dtype: object"
      ]
     },
     "execution_count": 70,
     "metadata": {},
     "output_type": "execute_result"
    }
   ],
   "source": [
    "y.dtypes"
   ]
  },
  {
   "cell_type": "code",
   "execution_count": 71,
   "metadata": {},
   "outputs": [
    {
     "ename": "AttributeError",
     "evalue": "'DataFrame' object has no attribute 'value_counts'",
     "output_type": "error",
     "traceback": [
      "\u001b[1;31m---------------------------------------------------------------------------\u001b[0m",
      "\u001b[1;31mAttributeError\u001b[0m                            Traceback (most recent call last)",
      "\u001b[1;32m<ipython-input-71-0236b03ea8bc>\u001b[0m in \u001b[0;36m<module>\u001b[1;34m\u001b[0m\n\u001b[0;32m      1\u001b[0m \u001b[1;31m#WIthout scaling_rf\u001b[0m\u001b[1;33m\u001b[0m\u001b[1;33m\u001b[0m\u001b[1;33m\u001b[0m\u001b[0m\n\u001b[1;32m----> 2\u001b[1;33m \u001b[0my\u001b[0m\u001b[1;33m.\u001b[0m\u001b[0mvalue_counts\u001b[0m\u001b[1;33m(\u001b[0m\u001b[1;33m)\u001b[0m\u001b[1;33m\u001b[0m\u001b[1;33m\u001b[0m\u001b[0m\n\u001b[0m",
      "\u001b[1;32m~\\.conda\\envs\\cv\\lib\\site-packages\\pandas\\core\\generic.py\u001b[0m in \u001b[0;36m__getattr__\u001b[1;34m(self, name)\u001b[0m\n\u001b[0;32m   5272\u001b[0m             \u001b[1;32mif\u001b[0m \u001b[0mself\u001b[0m\u001b[1;33m.\u001b[0m\u001b[0m_info_axis\u001b[0m\u001b[1;33m.\u001b[0m\u001b[0m_can_hold_identifiers_and_holds_name\u001b[0m\u001b[1;33m(\u001b[0m\u001b[0mname\u001b[0m\u001b[1;33m)\u001b[0m\u001b[1;33m:\u001b[0m\u001b[1;33m\u001b[0m\u001b[1;33m\u001b[0m\u001b[0m\n\u001b[0;32m   5273\u001b[0m                 \u001b[1;32mreturn\u001b[0m \u001b[0mself\u001b[0m\u001b[1;33m[\u001b[0m\u001b[0mname\u001b[0m\u001b[1;33m]\u001b[0m\u001b[1;33m\u001b[0m\u001b[1;33m\u001b[0m\u001b[0m\n\u001b[1;32m-> 5274\u001b[1;33m             \u001b[1;32mreturn\u001b[0m \u001b[0mobject\u001b[0m\u001b[1;33m.\u001b[0m\u001b[0m__getattribute__\u001b[0m\u001b[1;33m(\u001b[0m\u001b[0mself\u001b[0m\u001b[1;33m,\u001b[0m \u001b[0mname\u001b[0m\u001b[1;33m)\u001b[0m\u001b[1;33m\u001b[0m\u001b[1;33m\u001b[0m\u001b[0m\n\u001b[0m\u001b[0;32m   5275\u001b[0m \u001b[1;33m\u001b[0m\u001b[0m\n\u001b[0;32m   5276\u001b[0m     \u001b[1;32mdef\u001b[0m \u001b[0m__setattr__\u001b[0m\u001b[1;33m(\u001b[0m\u001b[0mself\u001b[0m\u001b[1;33m,\u001b[0m \u001b[0mname\u001b[0m\u001b[1;33m:\u001b[0m \u001b[0mstr\u001b[0m\u001b[1;33m,\u001b[0m \u001b[0mvalue\u001b[0m\u001b[1;33m)\u001b[0m \u001b[1;33m->\u001b[0m \u001b[1;32mNone\u001b[0m\u001b[1;33m:\u001b[0m\u001b[1;33m\u001b[0m\u001b[1;33m\u001b[0m\u001b[0m\n",
      "\u001b[1;31mAttributeError\u001b[0m: 'DataFrame' object has no attribute 'value_counts'"
     ]
    }
   ],
   "source": [
    "#WIthout scaling_rf\n",
    "y.value_counts()"
   ]
  },
  {
   "cell_type": "markdown",
   "metadata": {},
   "source": [
    "### Used this one"
   ]
  },
  {
   "cell_type": "code",
   "execution_count": 175,
   "metadata": {},
   "outputs": [],
   "source": [
    "classifier = RandomForestClassifier(n_estimators = 100, criterion = 'gini')\n",
    "classifier.fit(X_train, Y_train)\n",
    "# Predicting the Test set results\n",
    "y_pred = classifier.predict(X_test)\n"
   ]
  },
  {
   "cell_type": "code",
   "execution_count": 176,
   "metadata": {},
   "outputs": [],
   "source": [
    "y = pd.DataFrame(y_pred, columns=['Credit_Product'], index = X_test.index )"
   ]
  },
  {
   "cell_type": "code",
   "execution_count": 177,
   "metadata": {},
   "outputs": [
    {
     "data": {
      "text/plain": [
       "Yes    22096\n",
       "No      7229\n",
       "dtype: int64"
      ]
     },
     "execution_count": 177,
     "metadata": {},
     "output_type": "execute_result"
    }
   ],
   "source": [
    "#without scaing\n",
    "y.value_counts()"
   ]
  },
  {
   "cell_type": "code",
   "execution_count": 622,
   "metadata": {},
   "outputs": [
    {
     "data": {
      "text/plain": [
       "Credit_Product\n",
       "No                18703\n",
       "Yes               10622\n",
       "dtype: int64"
      ]
     },
     "execution_count": 622,
     "metadata": {},
     "output_type": "execute_result"
    }
   ],
   "source": [
    "#with scaling\n",
    "y.value_counts()"
   ]
  },
  {
   "cell_type": "code",
   "execution_count": 72,
   "metadata": {},
   "outputs": [
    {
     "data": {
      "text/plain": [
       "Credit_Product    0\n",
       "dtype: int64"
      ]
     },
     "execution_count": 72,
     "metadata": {},
     "output_type": "execute_result"
    }
   ],
   "source": [
    "y.isnull().sum()"
   ]
  },
  {
   "cell_type": "code",
   "execution_count": 73,
   "metadata": {},
   "outputs": [
    {
     "data": {
      "text/html": [
       "<div>\n",
       "<style scoped>\n",
       "    .dataframe tbody tr th:only-of-type {\n",
       "        vertical-align: middle;\n",
       "    }\n",
       "\n",
       "    .dataframe tbody tr th {\n",
       "        vertical-align: top;\n",
       "    }\n",
       "\n",
       "    .dataframe thead th {\n",
       "        text-align: right;\n",
       "    }\n",
       "</style>\n",
       "<table border=\"1\" class=\"dataframe\">\n",
       "  <thead>\n",
       "    <tr style=\"text-align: right;\">\n",
       "      <th></th>\n",
       "      <th>Credit_Product</th>\n",
       "    </tr>\n",
       "  </thead>\n",
       "  <tbody>\n",
       "    <tr>\n",
       "      <th>6</th>\n",
       "      <td>1</td>\n",
       "    </tr>\n",
       "    <tr>\n",
       "      <th>15</th>\n",
       "      <td>1</td>\n",
       "    </tr>\n",
       "    <tr>\n",
       "      <th>31</th>\n",
       "      <td>1</td>\n",
       "    </tr>\n",
       "  </tbody>\n",
       "</table>\n",
       "</div>"
      ],
      "text/plain": [
       "    Credit_Product\n",
       "6                1\n",
       "15               1\n",
       "31               1"
      ]
     },
     "execution_count": 73,
     "metadata": {},
     "output_type": "execute_result"
    }
   ],
   "source": [
    "y.head(3)"
   ]
  },
  {
   "cell_type": "code",
   "execution_count": 74,
   "metadata": {},
   "outputs": [
    {
     "data": {
      "text/plain": [
       "Index(['Is_Lead', 'Gender', 'Region_Code_RG250', 'Region_Code_RG251',\n",
       "       'Region_Code_RG252', 'Region_Code_RG253', 'Region_Code_RG254',\n",
       "       'Region_Code_RG255', 'Region_Code_RG256', 'Region_Code_RG257',\n",
       "       'Region_Code_RG258', 'Region_Code_RG259', 'Region_Code_RG260',\n",
       "       'Region_Code_RG261', 'Region_Code_RG262', 'Region_Code_RG263',\n",
       "       'Region_Code_RG264', 'Region_Code_RG265', 'Region_Code_RG266',\n",
       "       'Region_Code_RG267', 'Region_Code_RG268', 'Region_Code_RG269',\n",
       "       'Region_Code_RG270', 'Region_Code_RG271', 'Region_Code_RG272',\n",
       "       'Region_Code_RG273', 'Region_Code_RG274', 'Region_Code_RG275',\n",
       "       'Region_Code_RG276', 'Region_Code_RG277', 'Region_Code_RG278',\n",
       "       'Region_Code_RG279', 'Region_Code_RG280', 'Region_Code_RG281',\n",
       "       'Region_Code_RG282', 'Region_Code_RG283', 'Occupation_Other',\n",
       "       'Occupation_Salaried', 'Occupation_Self_Employed', 'Channel_Code_X1',\n",
       "       'Channel_Code_X2', 'Channel_Code_X3', 'Is_Active', 'Age',\n",
       "       'Avg_Account_Balance', 'Vintage'],\n",
       "      dtype='object')"
      ]
     },
     "execution_count": 74,
     "metadata": {},
     "output_type": "execute_result"
    }
   ],
   "source": [
    "X_test_sc.columns"
   ]
  },
  {
   "cell_type": "code",
   "execution_count": 75,
   "metadata": {},
   "outputs": [
    {
     "data": {
      "text/html": [
       "<div>\n",
       "<style scoped>\n",
       "    .dataframe tbody tr th:only-of-type {\n",
       "        vertical-align: middle;\n",
       "    }\n",
       "\n",
       "    .dataframe tbody tr th {\n",
       "        vertical-align: top;\n",
       "    }\n",
       "\n",
       "    .dataframe thead th {\n",
       "        text-align: right;\n",
       "    }\n",
       "</style>\n",
       "<table border=\"1\" class=\"dataframe\">\n",
       "  <thead>\n",
       "    <tr style=\"text-align: right;\">\n",
       "      <th></th>\n",
       "      <th>Is_Lead</th>\n",
       "      <th>Gender</th>\n",
       "      <th>Region_Code_RG250</th>\n",
       "      <th>Region_Code_RG251</th>\n",
       "      <th>Region_Code_RG252</th>\n",
       "      <th>Region_Code_RG253</th>\n",
       "      <th>Region_Code_RG254</th>\n",
       "      <th>Region_Code_RG255</th>\n",
       "      <th>Region_Code_RG256</th>\n",
       "      <th>Region_Code_RG257</th>\n",
       "      <th>...</th>\n",
       "      <th>Occupation_Other</th>\n",
       "      <th>Occupation_Salaried</th>\n",
       "      <th>Occupation_Self_Employed</th>\n",
       "      <th>Channel_Code_X1</th>\n",
       "      <th>Channel_Code_X2</th>\n",
       "      <th>Channel_Code_X3</th>\n",
       "      <th>Is_Active</th>\n",
       "      <th>Age</th>\n",
       "      <th>Avg_Account_Balance</th>\n",
       "      <th>Vintage</th>\n",
       "    </tr>\n",
       "  </thead>\n",
       "  <tbody>\n",
       "    <tr>\n",
       "      <th>6</th>\n",
       "      <td>1</td>\n",
       "      <td>1</td>\n",
       "      <td>0</td>\n",
       "      <td>0</td>\n",
       "      <td>0</td>\n",
       "      <td>0</td>\n",
       "      <td>0</td>\n",
       "      <td>0</td>\n",
       "      <td>0</td>\n",
       "      <td>0</td>\n",
       "      <td>...</td>\n",
       "      <td>1</td>\n",
       "      <td>0</td>\n",
       "      <td>0</td>\n",
       "      <td>0</td>\n",
       "      <td>0</td>\n",
       "      <td>1</td>\n",
       "      <td>1</td>\n",
       "      <td>0.858129</td>\n",
       "      <td>-0.195791</td>\n",
       "      <td>-1.389382</td>\n",
       "    </tr>\n",
       "    <tr>\n",
       "      <th>15</th>\n",
       "      <td>1</td>\n",
       "      <td>1</td>\n",
       "      <td>0</td>\n",
       "      <td>0</td>\n",
       "      <td>0</td>\n",
       "      <td>0</td>\n",
       "      <td>0</td>\n",
       "      <td>0</td>\n",
       "      <td>0</td>\n",
       "      <td>0</td>\n",
       "      <td>...</td>\n",
       "      <td>0</td>\n",
       "      <td>0</td>\n",
       "      <td>1</td>\n",
       "      <td>0</td>\n",
       "      <td>1</td>\n",
       "      <td>0</td>\n",
       "      <td>1</td>\n",
       "      <td>-1.534088</td>\n",
       "      <td>-0.817635</td>\n",
       "      <td>0.068779</td>\n",
       "    </tr>\n",
       "    <tr>\n",
       "      <th>31</th>\n",
       "      <td>1</td>\n",
       "      <td>0</td>\n",
       "      <td>0</td>\n",
       "      <td>0</td>\n",
       "      <td>0</td>\n",
       "      <td>0</td>\n",
       "      <td>0</td>\n",
       "      <td>0</td>\n",
       "      <td>0</td>\n",
       "      <td>0</td>\n",
       "      <td>...</td>\n",
       "      <td>0</td>\n",
       "      <td>1</td>\n",
       "      <td>0</td>\n",
       "      <td>0</td>\n",
       "      <td>0</td>\n",
       "      <td>0</td>\n",
       "      <td>1</td>\n",
       "      <td>-1.616578</td>\n",
       "      <td>-0.177240</td>\n",
       "      <td>-1.538173</td>\n",
       "    </tr>\n",
       "  </tbody>\n",
       "</table>\n",
       "<p>3 rows × 46 columns</p>\n",
       "</div>"
      ],
      "text/plain": [
       "    Is_Lead  Gender  Region_Code_RG250  Region_Code_RG251  Region_Code_RG252  \\\n",
       "6         1       1                  0                  0                  0   \n",
       "15        1       1                  0                  0                  0   \n",
       "31        1       0                  0                  0                  0   \n",
       "\n",
       "    Region_Code_RG253  Region_Code_RG254  Region_Code_RG255  \\\n",
       "6                   0                  0                  0   \n",
       "15                  0                  0                  0   \n",
       "31                  0                  0                  0   \n",
       "\n",
       "    Region_Code_RG256  Region_Code_RG257  ...  Occupation_Other  \\\n",
       "6                   0                  0  ...                 1   \n",
       "15                  0                  0  ...                 0   \n",
       "31                  0                  0  ...                 0   \n",
       "\n",
       "    Occupation_Salaried  Occupation_Self_Employed  Channel_Code_X1  \\\n",
       "6                     0                         0                0   \n",
       "15                    0                         1                0   \n",
       "31                    1                         0                0   \n",
       "\n",
       "    Channel_Code_X2  Channel_Code_X3  Is_Active       Age  \\\n",
       "6                 0                1          1  0.858129   \n",
       "15                1                0          1 -1.534088   \n",
       "31                0                0          1 -1.616578   \n",
       "\n",
       "    Avg_Account_Balance   Vintage  \n",
       "6             -0.195791 -1.389382  \n",
       "15            -0.817635  0.068779  \n",
       "31            -0.177240 -1.538173  \n",
       "\n",
       "[3 rows x 46 columns]"
      ]
     },
     "execution_count": 75,
     "metadata": {},
     "output_type": "execute_result"
    }
   ],
   "source": [
    "X_test_sc.head(3)"
   ]
  },
  {
   "cell_type": "code",
   "execution_count": 76,
   "metadata": {},
   "outputs": [],
   "source": [
    "df_test_part = pd.DataFrame(index=X_test.index)\n",
    "df_train_part = pd.DataFrame(index=X_train.index)"
   ]
  },
  {
   "cell_type": "code",
   "execution_count": 77,
   "metadata": {},
   "outputs": [],
   "source": [
    "df_test_part = y"
   ]
  },
  {
   "cell_type": "code",
   "execution_count": 78,
   "metadata": {},
   "outputs": [],
   "source": [
    "df_test_part.index = X_test.index"
   ]
  },
  {
   "cell_type": "code",
   "execution_count": 79,
   "metadata": {},
   "outputs": [
    {
     "data": {
      "text/html": [
       "<div>\n",
       "<style scoped>\n",
       "    .dataframe tbody tr th:only-of-type {\n",
       "        vertical-align: middle;\n",
       "    }\n",
       "\n",
       "    .dataframe tbody tr th {\n",
       "        vertical-align: top;\n",
       "    }\n",
       "\n",
       "    .dataframe thead th {\n",
       "        text-align: right;\n",
       "    }\n",
       "</style>\n",
       "<table border=\"1\" class=\"dataframe\">\n",
       "  <thead>\n",
       "    <tr style=\"text-align: right;\">\n",
       "      <th></th>\n",
       "      <th>Credit_Product</th>\n",
       "    </tr>\n",
       "  </thead>\n",
       "  <tbody>\n",
       "    <tr>\n",
       "      <th>6</th>\n",
       "      <td>1</td>\n",
       "    </tr>\n",
       "    <tr>\n",
       "      <th>15</th>\n",
       "      <td>1</td>\n",
       "    </tr>\n",
       "    <tr>\n",
       "      <th>31</th>\n",
       "      <td>1</td>\n",
       "    </tr>\n",
       "    <tr>\n",
       "      <th>36</th>\n",
       "      <td>1</td>\n",
       "    </tr>\n",
       "    <tr>\n",
       "      <th>40</th>\n",
       "      <td>1</td>\n",
       "    </tr>\n",
       "  </tbody>\n",
       "</table>\n",
       "</div>"
      ],
      "text/plain": [
       "    Credit_Product\n",
       "6                1\n",
       "15               1\n",
       "31               1\n",
       "36               1\n",
       "40               1"
      ]
     },
     "execution_count": 79,
     "metadata": {},
     "output_type": "execute_result"
    }
   ],
   "source": [
    "df_test_part.head()"
   ]
  },
  {
   "cell_type": "code",
   "execution_count": 80,
   "metadata": {},
   "outputs": [],
   "source": [
    "df_train_part = X_train_sc.join(Y_train)\n",
    "df_test_part = X_test_sc.join(df_test_part)"
   ]
  },
  {
   "cell_type": "code",
   "execution_count": 81,
   "metadata": {},
   "outputs": [
    {
     "data": {
      "text/plain": [
       "Credit_Product    uint8\n",
       "dtype: object"
      ]
     },
     "execution_count": 81,
     "metadata": {},
     "output_type": "execute_result"
    }
   ],
   "source": [
    "Y_train.dtypes"
   ]
  },
  {
   "cell_type": "code",
   "execution_count": 82,
   "metadata": {},
   "outputs": [
    {
     "data": {
      "text/plain": [
       "Is_Lead                       int64\n",
       "Gender                        uint8\n",
       "Region_Code_RG250             uint8\n",
       "Region_Code_RG251             uint8\n",
       "Region_Code_RG252             uint8\n",
       "Region_Code_RG253             uint8\n",
       "Region_Code_RG254             uint8\n",
       "Region_Code_RG255             uint8\n",
       "Region_Code_RG256             uint8\n",
       "Region_Code_RG257             uint8\n",
       "Region_Code_RG258             uint8\n",
       "Region_Code_RG259             uint8\n",
       "Region_Code_RG260             uint8\n",
       "Region_Code_RG261             uint8\n",
       "Region_Code_RG262             uint8\n",
       "Region_Code_RG263             uint8\n",
       "Region_Code_RG264             uint8\n",
       "Region_Code_RG265             uint8\n",
       "Region_Code_RG266             uint8\n",
       "Region_Code_RG267             uint8\n",
       "Region_Code_RG268             uint8\n",
       "Region_Code_RG269             uint8\n",
       "Region_Code_RG270             uint8\n",
       "Region_Code_RG271             uint8\n",
       "Region_Code_RG272             uint8\n",
       "Region_Code_RG273             uint8\n",
       "Region_Code_RG274             uint8\n",
       "Region_Code_RG275             uint8\n",
       "Region_Code_RG276             uint8\n",
       "Region_Code_RG277             uint8\n",
       "Region_Code_RG278             uint8\n",
       "Region_Code_RG279             uint8\n",
       "Region_Code_RG280             uint8\n",
       "Region_Code_RG281             uint8\n",
       "Region_Code_RG282             uint8\n",
       "Region_Code_RG283             uint8\n",
       "Occupation_Other              uint8\n",
       "Occupation_Salaried           uint8\n",
       "Occupation_Self_Employed      uint8\n",
       "Channel_Code_X1               uint8\n",
       "Channel_Code_X2               uint8\n",
       "Channel_Code_X3               uint8\n",
       "Is_Active                     uint8\n",
       "Age                         float64\n",
       "Avg_Account_Balance         float64\n",
       "Vintage                     float64\n",
       "Credit_Product                uint8\n",
       "dtype: object"
      ]
     },
     "execution_count": 82,
     "metadata": {},
     "output_type": "execute_result"
    }
   ],
   "source": [
    "df_test_part.dtypes"
   ]
  },
  {
   "cell_type": "code",
   "execution_count": 83,
   "metadata": {},
   "outputs": [],
   "source": [
    "final_df = df_train_part.append(df_test_part)"
   ]
  },
  {
   "cell_type": "code",
   "execution_count": 84,
   "metadata": {},
   "outputs": [
    {
     "data": {
      "text/plain": [
       "Is_Lead                       int64\n",
       "Gender                        uint8\n",
       "Region_Code_RG250             uint8\n",
       "Region_Code_RG251             uint8\n",
       "Region_Code_RG252             uint8\n",
       "Region_Code_RG253             uint8\n",
       "Region_Code_RG254             uint8\n",
       "Region_Code_RG255             uint8\n",
       "Region_Code_RG256             uint8\n",
       "Region_Code_RG257             uint8\n",
       "Region_Code_RG258             uint8\n",
       "Region_Code_RG259             uint8\n",
       "Region_Code_RG260             uint8\n",
       "Region_Code_RG261             uint8\n",
       "Region_Code_RG262             uint8\n",
       "Region_Code_RG263             uint8\n",
       "Region_Code_RG264             uint8\n",
       "Region_Code_RG265             uint8\n",
       "Region_Code_RG266             uint8\n",
       "Region_Code_RG267             uint8\n",
       "Region_Code_RG268             uint8\n",
       "Region_Code_RG269             uint8\n",
       "Region_Code_RG270             uint8\n",
       "Region_Code_RG271             uint8\n",
       "Region_Code_RG272             uint8\n",
       "Region_Code_RG273             uint8\n",
       "Region_Code_RG274             uint8\n",
       "Region_Code_RG275             uint8\n",
       "Region_Code_RG276             uint8\n",
       "Region_Code_RG277             uint8\n",
       "Region_Code_RG278             uint8\n",
       "Region_Code_RG279             uint8\n",
       "Region_Code_RG280             uint8\n",
       "Region_Code_RG281             uint8\n",
       "Region_Code_RG282             uint8\n",
       "Region_Code_RG283             uint8\n",
       "Occupation_Other              uint8\n",
       "Occupation_Salaried           uint8\n",
       "Occupation_Self_Employed      uint8\n",
       "Channel_Code_X1               uint8\n",
       "Channel_Code_X2               uint8\n",
       "Channel_Code_X3               uint8\n",
       "Is_Active                     uint8\n",
       "Age                         float64\n",
       "Avg_Account_Balance         float64\n",
       "Vintage                     float64\n",
       "Credit_Product                uint8\n",
       "dtype: object"
      ]
     },
     "execution_count": 84,
     "metadata": {},
     "output_type": "execute_result"
    }
   ],
   "source": [
    "final_df.dtypes"
   ]
  },
  {
   "cell_type": "code",
   "execution_count": 85,
   "metadata": {},
   "outputs": [
    {
     "data": {
      "text/plain": [
       "Is_Lead                     0\n",
       "Gender                      0\n",
       "Region_Code_RG250           0\n",
       "Region_Code_RG251           0\n",
       "Region_Code_RG252           0\n",
       "Region_Code_RG253           0\n",
       "Region_Code_RG254           0\n",
       "Region_Code_RG255           0\n",
       "Region_Code_RG256           0\n",
       "Region_Code_RG257           0\n",
       "Region_Code_RG258           0\n",
       "Region_Code_RG259           0\n",
       "Region_Code_RG260           0\n",
       "Region_Code_RG261           0\n",
       "Region_Code_RG262           0\n",
       "Region_Code_RG263           0\n",
       "Region_Code_RG264           0\n",
       "Region_Code_RG265           0\n",
       "Region_Code_RG266           0\n",
       "Region_Code_RG267           0\n",
       "Region_Code_RG268           0\n",
       "Region_Code_RG269           0\n",
       "Region_Code_RG270           0\n",
       "Region_Code_RG271           0\n",
       "Region_Code_RG272           0\n",
       "Region_Code_RG273           0\n",
       "Region_Code_RG274           0\n",
       "Region_Code_RG275           0\n",
       "Region_Code_RG276           0\n",
       "Region_Code_RG277           0\n",
       "Region_Code_RG278           0\n",
       "Region_Code_RG279           0\n",
       "Region_Code_RG280           0\n",
       "Region_Code_RG281           0\n",
       "Region_Code_RG282           0\n",
       "Region_Code_RG283           0\n",
       "Occupation_Other            0\n",
       "Occupation_Salaried         0\n",
       "Occupation_Self_Employed    0\n",
       "Channel_Code_X1             0\n",
       "Channel_Code_X2             0\n",
       "Channel_Code_X3             0\n",
       "Is_Active                   0\n",
       "Age                         0\n",
       "Avg_Account_Balance         0\n",
       "Vintage                     0\n",
       "Credit_Product              0\n",
       "dtype: int64"
      ]
     },
     "execution_count": 85,
     "metadata": {},
     "output_type": "execute_result"
    }
   ],
   "source": [
    "final_df.isnull().sum()"
   ]
  },
  {
   "cell_type": "code",
   "execution_count": 86,
   "metadata": {},
   "outputs": [
    {
     "data": {
      "text/plain": [
       "(245704, 47)"
      ]
     },
     "execution_count": 86,
     "metadata": {},
     "output_type": "execute_result"
    }
   ],
   "source": [
    "final_df.shape"
   ]
  },
  {
   "cell_type": "code",
   "execution_count": 87,
   "metadata": {},
   "outputs": [
    {
     "data": {
      "text/plain": [
       "Is_Lead                       int64\n",
       "Gender                        uint8\n",
       "Region_Code_RG250             uint8\n",
       "Region_Code_RG251             uint8\n",
       "Region_Code_RG252             uint8\n",
       "Region_Code_RG253             uint8\n",
       "Region_Code_RG254             uint8\n",
       "Region_Code_RG255             uint8\n",
       "Region_Code_RG256             uint8\n",
       "Region_Code_RG257             uint8\n",
       "Region_Code_RG258             uint8\n",
       "Region_Code_RG259             uint8\n",
       "Region_Code_RG260             uint8\n",
       "Region_Code_RG261             uint8\n",
       "Region_Code_RG262             uint8\n",
       "Region_Code_RG263             uint8\n",
       "Region_Code_RG264             uint8\n",
       "Region_Code_RG265             uint8\n",
       "Region_Code_RG266             uint8\n",
       "Region_Code_RG267             uint8\n",
       "Region_Code_RG268             uint8\n",
       "Region_Code_RG269             uint8\n",
       "Region_Code_RG270             uint8\n",
       "Region_Code_RG271             uint8\n",
       "Region_Code_RG272             uint8\n",
       "Region_Code_RG273             uint8\n",
       "Region_Code_RG274             uint8\n",
       "Region_Code_RG275             uint8\n",
       "Region_Code_RG276             uint8\n",
       "Region_Code_RG277             uint8\n",
       "Region_Code_RG278             uint8\n",
       "Region_Code_RG279             uint8\n",
       "Region_Code_RG280             uint8\n",
       "Region_Code_RG281             uint8\n",
       "Region_Code_RG282             uint8\n",
       "Region_Code_RG283             uint8\n",
       "Occupation_Other              uint8\n",
       "Occupation_Salaried           uint8\n",
       "Occupation_Self_Employed      uint8\n",
       "Channel_Code_X1               uint8\n",
       "Channel_Code_X2               uint8\n",
       "Channel_Code_X3               uint8\n",
       "Is_Active                     uint8\n",
       "Age                         float64\n",
       "Avg_Account_Balance         float64\n",
       "Vintage                     float64\n",
       "Credit_Product                uint8\n",
       "dtype: object"
      ]
     },
     "execution_count": 87,
     "metadata": {},
     "output_type": "execute_result"
    }
   ],
   "source": [
    "final_df.dtypes"
   ]
  },
  {
   "cell_type": "markdown",
   "metadata": {},
   "source": [
    "##### Creating a copy of final_df"
   ]
  },
  {
   "cell_type": "code",
   "execution_count": 88,
   "metadata": {},
   "outputs": [],
   "source": [
    "df_2 = final_df.copy()"
   ]
  },
  {
   "cell_type": "code",
   "execution_count": 89,
   "metadata": {},
   "outputs": [
    {
     "data": {
      "text/html": [
       "<div>\n",
       "<style scoped>\n",
       "    .dataframe tbody tr th:only-of-type {\n",
       "        vertical-align: middle;\n",
       "    }\n",
       "\n",
       "    .dataframe tbody tr th {\n",
       "        vertical-align: top;\n",
       "    }\n",
       "\n",
       "    .dataframe thead th {\n",
       "        text-align: right;\n",
       "    }\n",
       "</style>\n",
       "<table border=\"1\" class=\"dataframe\">\n",
       "  <thead>\n",
       "    <tr style=\"text-align: right;\">\n",
       "      <th></th>\n",
       "      <th>Is_Lead</th>\n",
       "      <th>Gender</th>\n",
       "      <th>Region_Code_RG250</th>\n",
       "      <th>Region_Code_RG251</th>\n",
       "      <th>Region_Code_RG252</th>\n",
       "      <th>Region_Code_RG253</th>\n",
       "      <th>Region_Code_RG254</th>\n",
       "      <th>Region_Code_RG255</th>\n",
       "      <th>Region_Code_RG256</th>\n",
       "      <th>Region_Code_RG257</th>\n",
       "      <th>...</th>\n",
       "      <th>Occupation_Salaried</th>\n",
       "      <th>Occupation_Self_Employed</th>\n",
       "      <th>Channel_Code_X1</th>\n",
       "      <th>Channel_Code_X2</th>\n",
       "      <th>Channel_Code_X3</th>\n",
       "      <th>Is_Active</th>\n",
       "      <th>Age</th>\n",
       "      <th>Avg_Account_Balance</th>\n",
       "      <th>Vintage</th>\n",
       "      <th>Credit_Product</th>\n",
       "    </tr>\n",
       "  </thead>\n",
       "  <tbody>\n",
       "    <tr>\n",
       "      <th>0</th>\n",
       "      <td>0</td>\n",
       "      <td>0</td>\n",
       "      <td>0</td>\n",
       "      <td>0</td>\n",
       "      <td>0</td>\n",
       "      <td>0</td>\n",
       "      <td>0</td>\n",
       "      <td>0</td>\n",
       "      <td>0</td>\n",
       "      <td>0</td>\n",
       "      <td>...</td>\n",
       "      <td>0</td>\n",
       "      <td>0</td>\n",
       "      <td>0</td>\n",
       "      <td>0</td>\n",
       "      <td>1</td>\n",
       "      <td>0</td>\n",
       "      <td>2.032980</td>\n",
       "      <td>-0.081637</td>\n",
       "      <td>-0.041210</td>\n",
       "      <td>0</td>\n",
       "    </tr>\n",
       "    <tr>\n",
       "      <th>1</th>\n",
       "      <td>0</td>\n",
       "      <td>0</td>\n",
       "      <td>0</td>\n",
       "      <td>0</td>\n",
       "      <td>0</td>\n",
       "      <td>0</td>\n",
       "      <td>0</td>\n",
       "      <td>0</td>\n",
       "      <td>0</td>\n",
       "      <td>0</td>\n",
       "      <td>...</td>\n",
       "      <td>1</td>\n",
       "      <td>0</td>\n",
       "      <td>1</td>\n",
       "      <td>0</td>\n",
       "      <td>0</td>\n",
       "      <td>0</td>\n",
       "      <td>-0.862466</td>\n",
       "      <td>-0.627157</td>\n",
       "      <td>-0.393369</td>\n",
       "      <td>0</td>\n",
       "    </tr>\n",
       "    <tr>\n",
       "      <th>2</th>\n",
       "      <td>0</td>\n",
       "      <td>0</td>\n",
       "      <td>0</td>\n",
       "      <td>0</td>\n",
       "      <td>0</td>\n",
       "      <td>0</td>\n",
       "      <td>0</td>\n",
       "      <td>0</td>\n",
       "      <td>0</td>\n",
       "      <td>0</td>\n",
       "      <td>...</td>\n",
       "      <td>0</td>\n",
       "      <td>1</td>\n",
       "      <td>0</td>\n",
       "      <td>0</td>\n",
       "      <td>1</td>\n",
       "      <td>1</td>\n",
       "      <td>0.888269</td>\n",
       "      <td>0.434368</td>\n",
       "      <td>-0.585455</td>\n",
       "      <td>0</td>\n",
       "    </tr>\n",
       "    <tr>\n",
       "      <th>3</th>\n",
       "      <td>0</td>\n",
       "      <td>1</td>\n",
       "      <td>0</td>\n",
       "      <td>0</td>\n",
       "      <td>0</td>\n",
       "      <td>0</td>\n",
       "      <td>0</td>\n",
       "      <td>0</td>\n",
       "      <td>0</td>\n",
       "      <td>0</td>\n",
       "      <td>...</td>\n",
       "      <td>1</td>\n",
       "      <td>0</td>\n",
       "      <td>1</td>\n",
       "      <td>0</td>\n",
       "      <td>0</td>\n",
       "      <td>0</td>\n",
       "      <td>-0.593122</td>\n",
       "      <td>-0.758369</td>\n",
       "      <td>-0.809556</td>\n",
       "      <td>0</td>\n",
       "    </tr>\n",
       "    <tr>\n",
       "      <th>4</th>\n",
       "      <td>0</td>\n",
       "      <td>0</td>\n",
       "      <td>0</td>\n",
       "      <td>0</td>\n",
       "      <td>0</td>\n",
       "      <td>0</td>\n",
       "      <td>0</td>\n",
       "      <td>0</td>\n",
       "      <td>0</td>\n",
       "      <td>0</td>\n",
       "      <td>...</td>\n",
       "      <td>1</td>\n",
       "      <td>0</td>\n",
       "      <td>1</td>\n",
       "      <td>0</td>\n",
       "      <td>0</td>\n",
       "      <td>0</td>\n",
       "      <td>-0.862466</td>\n",
       "      <td>-0.268582</td>\n",
       "      <td>-0.361354</td>\n",
       "      <td>0</td>\n",
       "    </tr>\n",
       "  </tbody>\n",
       "</table>\n",
       "<p>5 rows × 47 columns</p>\n",
       "</div>"
      ],
      "text/plain": [
       "   Is_Lead  Gender  Region_Code_RG250  Region_Code_RG251  Region_Code_RG252  \\\n",
       "0        0       0                  0                  0                  0   \n",
       "1        0       0                  0                  0                  0   \n",
       "2        0       0                  0                  0                  0   \n",
       "3        0       1                  0                  0                  0   \n",
       "4        0       0                  0                  0                  0   \n",
       "\n",
       "   Region_Code_RG253  Region_Code_RG254  Region_Code_RG255  Region_Code_RG256  \\\n",
       "0                  0                  0                  0                  0   \n",
       "1                  0                  0                  0                  0   \n",
       "2                  0                  0                  0                  0   \n",
       "3                  0                  0                  0                  0   \n",
       "4                  0                  0                  0                  0   \n",
       "\n",
       "   Region_Code_RG257  ...  Occupation_Salaried  Occupation_Self_Employed  \\\n",
       "0                  0  ...                    0                         0   \n",
       "1                  0  ...                    1                         0   \n",
       "2                  0  ...                    0                         1   \n",
       "3                  0  ...                    1                         0   \n",
       "4                  0  ...                    1                         0   \n",
       "\n",
       "   Channel_Code_X1  Channel_Code_X2  Channel_Code_X3  Is_Active       Age  \\\n",
       "0                0                0                1          0  2.032980   \n",
       "1                1                0                0          0 -0.862466   \n",
       "2                0                0                1          1  0.888269   \n",
       "3                1                0                0          0 -0.593122   \n",
       "4                1                0                0          0 -0.862466   \n",
       "\n",
       "   Avg_Account_Balance   Vintage  Credit_Product  \n",
       "0            -0.081637 -0.041210               0  \n",
       "1            -0.627157 -0.393369               0  \n",
       "2             0.434368 -0.585455               0  \n",
       "3            -0.758369 -0.809556               0  \n",
       "4            -0.268582 -0.361354               0  \n",
       "\n",
       "[5 rows x 47 columns]"
      ]
     },
     "execution_count": 89,
     "metadata": {},
     "output_type": "execute_result"
    }
   ],
   "source": [
    "df_2.head()"
   ]
  },
  {
   "cell_type": "code",
   "execution_count": 308,
   "metadata": {},
   "outputs": [
    {
     "data": {
      "text/plain": [
       "<seaborn.axisgrid.PairGrid at 0x1e480d60470>"
      ]
     },
     "execution_count": 308,
     "metadata": {},
     "output_type": "execute_result"
    },
    {
     "data": {
      "image/png": "[encoded data removed]",
      "text/plain": [
       "<Figure size 504x504 with 1 Axes>"
      ]
     },
     "metadata": {
      "needs_background": "light"
     },
     "output_type": "display_data"
    }
   ],
   "source": [
    "sns.pairplot(df_2,\n",
    "            x_vars=['Avg_Account_Balance'],\n",
    "            y_vars=['Is_Lead'],\n",
    "             height=7,\n",
    "            aspect=1,\n",
    "            kind='reg')"
   ]
  },
  {
   "cell_type": "code",
   "execution_count": 169,
   "metadata": {},
   "outputs": [
    {
     "data": {
      "text/plain": [
       "<AxesSubplot:>"
      ]
     },
     "execution_count": 169,
     "metadata": {},
     "output_type": "execute_result"
    },
    {
     "data": {
      "image/png": "[encoded data removed]",
      "text/plain": [
       "<Figure size 432x288 with 2 Axes>"
      ]
     },
     "metadata": {
      "needs_background": "light"
     },
     "output_type": "display_data"
    }
   ],
   "source": [
    "sns.heatmap(df_2.corr(), annot=True)"
   ]
  },
  {
   "cell_type": "code",
   "execution_count": 469,
   "metadata": {},
   "outputs": [],
   "source": [
    "df_2.to_csv('removed_missing_data_and_scaled.csv')"
   ]
  },
  {
   "cell_type": "markdown",
   "metadata": {},
   "source": [
    "#Encoding (already done)\n",
    "df_2 = pd.get_dummies(df_2, columns=['Credit_Product'])"
   ]
  },
  {
   "cell_type": "code",
   "execution_count": 90,
   "metadata": {},
   "outputs": [
    {
     "data": {
      "text/plain": [
       "Index(['Is_Lead', 'Gender', 'Region_Code_RG250', 'Region_Code_RG251',\n",
       "       'Region_Code_RG252', 'Region_Code_RG253', 'Region_Code_RG254',\n",
       "       'Region_Code_RG255', 'Region_Code_RG256', 'Region_Code_RG257',\n",
       "       'Region_Code_RG258', 'Region_Code_RG259', 'Region_Code_RG260',\n",
       "       'Region_Code_RG261', 'Region_Code_RG262', 'Region_Code_RG263',\n",
       "       'Region_Code_RG264', 'Region_Code_RG265', 'Region_Code_RG266',\n",
       "       'Region_Code_RG267', 'Region_Code_RG268', 'Region_Code_RG269',\n",
       "       'Region_Code_RG270', 'Region_Code_RG271', 'Region_Code_RG272',\n",
       "       'Region_Code_RG273', 'Region_Code_RG274', 'Region_Code_RG275',\n",
       "       'Region_Code_RG276', 'Region_Code_RG277', 'Region_Code_RG278',\n",
       "       'Region_Code_RG279', 'Region_Code_RG280', 'Region_Code_RG281',\n",
       "       'Region_Code_RG282', 'Region_Code_RG283', 'Occupation_Other',\n",
       "       'Occupation_Salaried', 'Occupation_Self_Employed', 'Channel_Code_X1',\n",
       "       'Channel_Code_X2', 'Channel_Code_X3', 'Is_Active', 'Age',\n",
       "       'Avg_Account_Balance', 'Vintage', 'Credit_Product'],\n",
       "      dtype='object')"
      ]
     },
     "execution_count": 90,
     "metadata": {},
     "output_type": "execute_result"
    }
   ],
   "source": [
    "df_2.columns"
   ]
  },
  {
   "cell_type": "code",
   "execution_count": 312,
   "metadata": {},
   "outputs": [],
   "source": [
    "df_2.drop(['Credit_Product_No'],axis=1,inplace=True)"
   ]
  },
  {
   "cell_type": "code",
   "execution_count": 313,
   "metadata": {},
   "outputs": [],
   "source": [
    "# Renaming Columns\n",
    "df_2.rename(columns = {'Credit_Product_Yes':'Credit_Product'}, inplace=True)"
   ]
  },
  {
   "cell_type": "markdown",
   "metadata": {},
   "source": [
    "### Splitting Data"
   ]
  },
  {
   "cell_type": "code",
   "execution_count": 91,
   "metadata": {},
   "outputs": [],
   "source": [
    "x_train = df_2.drop(['Is_Lead'],axis=1)\n",
    "y_train = df_2['Is_Lead']"
   ]
  },
  {
   "cell_type": "code",
   "execution_count": 92,
   "metadata": {},
   "outputs": [],
   "source": [
    "from sklearn.model_selection import train_test_split\n",
    "x_train,x_valid,y_train,y_valid=train_test_split(x_train,y_train, test_size=0.2,random_state=42)"
   ]
  },
  {
   "cell_type": "code",
   "execution_count": 93,
   "metadata": {},
   "outputs": [
    {
     "data": {
      "text/plain": [
       "Gender                        uint8\n",
       "Region_Code_RG250             uint8\n",
       "Region_Code_RG251             uint8\n",
       "Region_Code_RG252             uint8\n",
       "Region_Code_RG253             uint8\n",
       "Region_Code_RG254             uint8\n",
       "Region_Code_RG255             uint8\n",
       "Region_Code_RG256             uint8\n",
       "Region_Code_RG257             uint8\n",
       "Region_Code_RG258             uint8\n",
       "Region_Code_RG259             uint8\n",
       "Region_Code_RG260             uint8\n",
       "Region_Code_RG261             uint8\n",
       "Region_Code_RG262             uint8\n",
       "Region_Code_RG263             uint8\n",
       "Region_Code_RG264             uint8\n",
       "Region_Code_RG265             uint8\n",
       "Region_Code_RG266             uint8\n",
       "Region_Code_RG267             uint8\n",
       "Region_Code_RG268             uint8\n",
       "Region_Code_RG269             uint8\n",
       "Region_Code_RG270             uint8\n",
       "Region_Code_RG271             uint8\n",
       "Region_Code_RG272             uint8\n",
       "Region_Code_RG273             uint8\n",
       "Region_Code_RG274             uint8\n",
       "Region_Code_RG275             uint8\n",
       "Region_Code_RG276             uint8\n",
       "Region_Code_RG277             uint8\n",
       "Region_Code_RG278             uint8\n",
       "Region_Code_RG279             uint8\n",
       "Region_Code_RG280             uint8\n",
       "Region_Code_RG281             uint8\n",
       "Region_Code_RG282             uint8\n",
       "Region_Code_RG283             uint8\n",
       "Occupation_Other              uint8\n",
       "Occupation_Salaried           uint8\n",
       "Occupation_Self_Employed      uint8\n",
       "Channel_Code_X1               uint8\n",
       "Channel_Code_X2               uint8\n",
       "Channel_Code_X3               uint8\n",
       "Is_Active                     uint8\n",
       "Age                         float64\n",
       "Avg_Account_Balance         float64\n",
       "Vintage                     float64\n",
       "Credit_Product                uint8\n",
       "dtype: object"
      ]
     },
     "execution_count": 93,
     "metadata": {},
     "output_type": "execute_result"
    }
   ],
   "source": [
    "x_train.dtypes"
   ]
  },
  {
   "cell_type": "markdown",
   "metadata": {},
   "source": [
    "### Model"
   ]
  },
  {
   "cell_type": "code",
   "execution_count": 94,
   "metadata": {},
   "outputs": [],
   "source": [
    "from sklearn.linear_model import LogisticRegression\n",
    "from sklearn import metrics\n",
    "from sklearn.metrics import roc_auc_score\n",
    "from sklearn.metrics import f1_score , accuracy_score\n",
    "from sklearn.metrics import roc_auc_score,classification_report,accuracy_score"
   ]
  },
  {
   "cell_type": "code",
   "execution_count": 95,
   "metadata": {},
   "outputs": [],
   "source": [
    "def print_stats(y_true,y_pred,y_pred_prob):\n",
    "    print(roc_auc_score(y_true,y_pred_prob))\n",
    "    print(classification_report(y_true, y_pred))\n",
    "    print(accuracy_score(y_true, y_pred))"
   ]
  },
  {
   "cell_type": "markdown",
   "metadata": {},
   "source": [
    "### Logistic Regression"
   ]
  },
  {
   "cell_type": "code",
   "execution_count": 96,
   "metadata": {},
   "outputs": [],
   "source": [
    "def logistic_regression(x_train,y_train):\n",
    "  clf = LogisticRegression()\n",
    "  clf.fit(x_train,y_train)\n",
    "  return clf"
   ]
  },
  {
   "cell_type": "code",
   "execution_count": 97,
   "metadata": {},
   "outputs": [],
   "source": [
    "clf_lr = logistic_regression(x_train,y_train)\n",
    "y_pred = clf_lr.predict(x_valid)\n",
    "y_pred_prob=clf_lr.predict_proba(x_valid)[:, 1]\n",
    "#y_pred[y_pred >=0.5] = 1\n",
    "#y_pred[y_pred<0.5] = 0"
   ]
  },
  {
   "cell_type": "code",
   "execution_count": 98,
   "metadata": {},
   "outputs": [
    {
     "data": {
      "text/plain": [
       "array([0.13658046, 0.15964936, 0.39794782, ..., 0.41404051, 0.06433802,\n",
       "       0.47493565])"
      ]
     },
     "execution_count": 98,
     "metadata": {},
     "output_type": "execute_result"
    }
   ],
   "source": [
    "y_pred_prob"
   ]
  },
  {
   "cell_type": "code",
   "execution_count": 99,
   "metadata": {},
   "outputs": [
    {
     "name": "stdout",
     "output_type": "stream",
     "text": [
      "AUC: 0.688\n",
      "accuracy_score test: 0.8093241895769316\n",
      "F1 score 0.5336452319331078\n"
     ]
    }
   ],
   "source": [
    "auc = roc_auc_score(y_valid, y_pred)\n",
    "print('AUC: %.3f' % auc)\n",
    "print('accuracy_score test:', accuracy_score(y_valid,y_pred))  \n",
    "print('F1 score',f1_score(y_valid, y_pred))"
   ]
  },
  {
   "cell_type": "code",
   "execution_count": 100,
   "metadata": {},
   "outputs": [
    {
     "name": "stdout",
     "output_type": "stream",
     "text": [
      "0.8095824461289499\n",
      "              precision    recall  f1-score   support\n",
      "\n",
      "           0       0.84      0.92      0.88     37400\n",
      "           1       0.64      0.46      0.53     11741\n",
      "\n",
      "    accuracy                           0.81     49141\n",
      "   macro avg       0.74      0.69      0.71     49141\n",
      "weighted avg       0.80      0.81      0.80     49141\n",
      "\n",
      "0.8093241895769316\n"
     ]
    }
   ],
   "source": [
    "print_stats(y_valid,y_pred,y_pred_prob)"
   ]
  },
  {
   "cell_type": "markdown",
   "metadata": {},
   "source": [
    "### Decision Tree"
   ]
  },
  {
   "cell_type": "code",
   "execution_count": 477,
   "metadata": {},
   "outputs": [],
   "source": [
    "from sklearn.tree import DecisionTreeClassifier "
   ]
  },
  {
   "cell_type": "code",
   "execution_count": 478,
   "metadata": {},
   "outputs": [],
   "source": [
    "def decision_tree(x_train,y_train):\n",
    "  clf_dt = DecisionTreeClassifier(criterion='gini',\n",
    "              min_samples_split=1000,\n",
    "              class_weight='balanced')\n",
    "  clf_dt.fit(x_train,y_train) \n",
    "  clf_dt.fit(x_train, y_train) \n",
    "  return clf_dt"
   ]
  },
  {
   "cell_type": "code",
   "execution_count": 544,
   "metadata": {},
   "outputs": [],
   "source": [
    "clf_dt = decision_tree(x_train,y_train)\n",
    "y_pred = clf_dt.predict(x_valid)\n",
    "y_pred_prob=clf_dt.predict_proba(x_valid)[:, 1]"
   ]
  },
  {
   "cell_type": "code",
   "execution_count": 480,
   "metadata": {},
   "outputs": [
    {
     "name": "stdout",
     "output_type": "stream",
     "text": [
      "AUC: 0.789\n",
      "accuracy_score test: 0.7992104352780773\n",
      "F1 score 0.6466100784355862\n"
     ]
    }
   ],
   "source": [
    "auc = roc_auc_score(y_valid, y_pred)\n",
    "print('AUC: %.3f' % auc)\n",
    "print('accuracy_score test:', accuracy_score(y_valid,y_pred))  \n",
    "print('F1 score',f1_score(y_valid, y_pred))"
   ]
  },
  {
   "cell_type": "code",
   "execution_count": 545,
   "metadata": {},
   "outputs": [
    {
     "name": "stdout",
     "output_type": "stream",
     "text": [
      "0.8580765355828358\n",
      "              precision    recall  f1-score   support\n",
      "\n",
      "           0       0.92      0.81      0.86     37400\n",
      "           1       0.56      0.77      0.65     11741\n",
      "\n",
      "    accuracy                           0.80     49141\n",
      "   macro avg       0.74      0.79      0.75     49141\n",
      "weighted avg       0.83      0.80      0.81     49141\n",
      "\n",
      "0.7992104352780773\n"
     ]
    }
   ],
   "source": [
    "print_stats(y_valid,y_pred,y_pred_prob)"
   ]
  },
  {
   "cell_type": "markdown",
   "metadata": {},
   "source": [
    "### Xgboost"
   ]
  },
  {
   "cell_type": "code",
   "execution_count": 326,
   "metadata": {},
   "outputs": [],
   "source": [
    "from xgboost import XGBClassifier\n",
    "clf_xgb = XGBClassifier()\n",
    "clf_xgb.fit(x_train, y_train)\n",
    "y_pred = clf_xgb.predict(x_valid)"
   ]
  },
  {
   "cell_type": "code",
   "execution_count": 327,
   "metadata": {},
   "outputs": [
    {
     "name": "stdout",
     "output_type": "stream",
     "text": [
      "AUC: 0.751\n",
      "accuracy_score test: 0.8598115626462628\n",
      "F1 score 0.6485024746160518\n"
     ]
    }
   ],
   "source": [
    "auc = roc_auc_score(y_valid, y_pred)\n",
    "print('AUC: %.3f' % auc)\n",
    "print('accuracy_score test:', accuracy_score(y_valid,y_pred))  \n",
    "print('F1 score',f1_score(y_valid, y_pred))"
   ]
  },
  {
   "cell_type": "markdown",
   "metadata": {},
   "source": [
    "### Random Forest"
   ]
  },
  {
   "cell_type": "code",
   "execution_count": 328,
   "metadata": {},
   "outputs": [],
   "source": [
    "clf_rf = RandomForestClassifier()\n",
    "clf_rf = clf_rf.fit(x_train, y_train)\n",
    "y_pred = clf_rf.predict(x_valid)"
   ]
  },
  {
   "cell_type": "code",
   "execution_count": 329,
   "metadata": {},
   "outputs": [
    {
     "name": "stdout",
     "output_type": "stream",
     "text": [
      "AUC: 0.734\n",
      "accuracy_score test: 0.8374676950001018\n",
      "F1 score 0.6116972142544606\n"
     ]
    }
   ],
   "source": [
    "auc = roc_auc_score(y_valid, y_pred)\n",
    "print('AUC: %.3f' % auc)\n",
    "print('accuracy_score test:', accuracy_score(y_valid,y_pred))  \n",
    "print('F1 score',f1_score(y_valid, y_pred))"
   ]
  },
  {
   "cell_type": "markdown",
   "metadata": {},
   "source": [
    "### Naive Bias"
   ]
  },
  {
   "cell_type": "code",
   "execution_count": 330,
   "metadata": {},
   "outputs": [],
   "source": [
    "from sklearn.naive_bayes import GaussianNB\n",
    "clf_nb= GaussianNB()\n",
    "clf_nb=clf_nb.fit(x_train, y_train)\n",
    "y_pred = clf_nb.predict(x_valid)"
   ]
  },
  {
   "cell_type": "code",
   "execution_count": 331,
   "metadata": {},
   "outputs": [
    {
     "name": "stdout",
     "output_type": "stream",
     "text": [
      "AUC: 0.652\n",
      "accuracy_score test: 0.6004354815734315\n",
      "F1 score 0.4729000563743256\n"
     ]
    }
   ],
   "source": [
    "auc = roc_auc_score(y_valid, y_pred)\n",
    "print('AUC: %.3f' % auc)\n",
    "print('accuracy_score test:', accuracy_score(y_valid,y_pred))  \n",
    "print('F1 score',f1_score(y_valid, y_pred))"
   ]
  },
  {
   "cell_type": "markdown",
   "metadata": {},
   "source": [
    "### KNN"
   ]
  },
  {
   "cell_type": "code",
   "execution_count": 332,
   "metadata": {},
   "outputs": [],
   "source": [
    "from sklearn.neighbors import KNeighborsClassifier\n",
    "clf_knn = KNeighborsClassifier(n_neighbors = 7, metric = 'minkowski', p = 2)\n",
    "clf_knn = clf_knn.fit(x_train, y_train)\n",
    "y_pred = clf_knn.predict(x_valid)"
   ]
  },
  {
   "cell_type": "code",
   "execution_count": 333,
   "metadata": {},
   "outputs": [
    {
     "name": "stdout",
     "output_type": "stream",
     "text": [
      "AUC: 0.699\n",
      "accuracy_score test: 0.8105248163448038\n",
      "F1 score 0.5508658530702812\n"
     ]
    }
   ],
   "source": [
    "auc = roc_auc_score(y_valid, y_pred)\n",
    "print('AUC: %.3f' % auc)\n",
    "print('accuracy_score test:', accuracy_score(y_valid,y_pred))  \n",
    "print('F1 score',f1_score(y_valid, y_pred))"
   ]
  },
  {
   "cell_type": "markdown",
   "metadata": {},
   "source": [
    "### SVM kernel"
   ]
  },
  {
   "cell_type": "code",
   "execution_count": 334,
   "metadata": {},
   "outputs": [],
   "source": [
    "from sklearn.svm import SVC\n",
    "clf_svm = SVC(kernel = 'rbf', random_state = 0)\n",
    "clf_svm = clf_svm.fit(x_train, y_train)\n",
    "y_pred = clf_svm.predict(x_valid)"
   ]
  },
  {
   "cell_type": "code",
   "execution_count": 335,
   "metadata": {},
   "outputs": [
    {
     "name": "stdout",
     "output_type": "stream",
     "text": [
      "AUC: 0.713\n",
      "accuracy_score test: 0.8303046336053397\n",
      "F1 score 0.5793694829760404\n"
     ]
    }
   ],
   "source": [
    "auc = roc_auc_score(y_valid, y_pred)\n",
    "print('AUC: %.3f' % auc)\n",
    "print('accuracy_score test:', accuracy_score(y_valid,y_pred))  \n",
    "print('F1 score',f1_score(y_valid, y_pred))"
   ]
  },
  {
   "cell_type": "markdown",
   "metadata": {},
   "source": [
    "### Neural Net"
   ]
  },
  {
   "cell_type": "code",
   "execution_count": 188,
   "metadata": {},
   "outputs": [],
   "source": [
    "import keras\n",
    "from keras.models import Sequential\n",
    "from keras.layers import Dense\n",
    "import tensorflow as tf\n",
    "from keras.layers import Dropout"
   ]
  },
  {
   "cell_type": "code",
   "execution_count": 189,
   "metadata": {},
   "outputs": [
    {
     "data": {
      "text/plain": [
       "(196563, 46)"
      ]
     },
     "execution_count": 189,
     "metadata": {},
     "output_type": "execute_result"
    }
   ],
   "source": [
    "x_train.shape"
   ]
  },
  {
   "cell_type": "code",
   "execution_count": 241,
   "metadata": {},
   "outputs": [
    {
     "name": "stderr",
     "output_type": "stream",
     "text": [
      "C:\\Users\\Sourabh\\.conda\\envs\\cv\\lib\\site-packages\\ipykernel_launcher.py:4: UserWarning: Update your `Dropout` call to the Keras 2 API: `Dropout(rate=0.1)`\n",
      "  after removing the cwd from sys.path.\n",
      "C:\\Users\\Sourabh\\.conda\\envs\\cv\\lib\\site-packages\\ipykernel_launcher.py:7: UserWarning: Update your `Dropout` call to the Keras 2 API: `Dropout(rate=0.1)`\n",
      "  import sys\n"
     ]
    }
   ],
   "source": [
    "classifier = Sequential()  \n",
    "classifier.add(Dense(units = 6, kernel_initializer = 'he_uniform', \n",
    "                     activation = 'relu', input_dim = 46))  \n",
    "classifier.add(Dropout(p = 0.1))\n",
    "classifier.add(Dense(units = 6, kernel_initializer = 'he_uniform', \n",
    "                     activation = 'relu'))\n",
    "classifier.add(Dropout(p = 0.1))\n",
    "classifier.add(Dense(units = 1, kernel_initializer = 'he_uniform', \n",
    "                     activation = 'sigmoid'))   \n"
   ]
  },
  {
   "cell_type": "code",
   "execution_count": 242,
   "metadata": {},
   "outputs": [],
   "source": [
    "opt=tf.keras.optimizers.Ftrl()\n",
    "classifier.compile(optimizer = opt, loss = 'binary_crossentropy',\n",
    "                   metrics = [tf.keras.metrics.AUC()])"
   ]
  },
  {
   "cell_type": "code",
   "execution_count": 223,
   "metadata": {},
   "outputs": [
    {
     "name": "stdout",
     "output_type": "stream",
     "text": [
      "Epoch 1/20\n",
      "196563/196563 [==============================] - 11s 54us/step - loss: 0.6734 - auc_11: 0.5032\n",
      "Epoch 2/20\n",
      "196563/196563 [==============================] - 11s 58us/step - loss: 0.6562 - auc_11: 0.5002\n",
      "Epoch 3/20\n",
      "196563/196563 [==============================] - 11s 56us/step - loss: 0.6388 - auc_11: 0.4999\n",
      "Epoch 4/20\n",
      "196563/196563 [==============================] - 11s 58us/step - loss: 0.6209 - auc_11: 0.5000\n",
      "Epoch 5/20\n",
      "196563/196563 [==============================] - 11s 54us/step - loss: 0.6056 - auc_11: 0.4998\n",
      "Epoch 6/20\n",
      "196563/196563 [==============================] - 11s 54us/step - loss: 0.5930 - auc_11: 0.5000\n",
      "Epoch 7/20\n",
      "196563/196563 [==============================] - 11s 58us/step - loss: 0.5803 - auc_11: 0.5004\n",
      "Epoch 8/20\n",
      "196563/196563 [==============================] - 11s 57us/step - loss: 0.5606 - auc_11: 0.5017\n",
      "Epoch 9/20\n",
      "196563/196563 [==============================] - 11s 57us/step - loss: 0.5371 - auc_11: 0.5049\n",
      "Epoch 10/20\n",
      "196563/196563 [==============================] - 12s 59us/step - loss: 0.5211 - auc_11: 0.5095\n",
      "Epoch 11/20\n",
      "196563/196563 [==============================] - 12s 59us/step - loss: 0.5115 - auc_11: 0.5153\n",
      "Epoch 12/20\n",
      "196563/196563 [==============================] - 11s 57us/step - loss: 0.5044 - auc_11: 0.5225\n",
      "Epoch 13/20\n",
      "196563/196563 [==============================] - 11s 55us/step - loss: 0.4985 - auc_11: 0.5304\n",
      "Epoch 14/20\n",
      "196563/196563 [==============================] - 11s 56us/step - loss: 0.4931 - auc_11: 0.5389\n",
      "Epoch 15/20\n",
      "196563/196563 [==============================] - 11s 54us/step - loss: 0.4885 - auc_11: 0.5477\n",
      "Epoch 16/20\n",
      "196563/196563 [==============================] - 11s 55us/step - loss: 0.4842 - auc_11: 0.5567\n",
      "Epoch 17/20\n",
      "196563/196563 [==============================] - 11s 55us/step - loss: 0.4806 - auc_11: 0.5656\n",
      "Epoch 18/20\n",
      "196563/196563 [==============================] - 11s 57us/step - loss: 0.4777 - auc_11: 0.57420s - los\n",
      "Epoch 19/20\n",
      "196563/196563 [==============================] - 11s 56us/step - loss: 0.4747 - auc_11: 0.5827\n",
      "Epoch 20/20\n",
      "196563/196563 [==============================] - 11s 57us/step - loss: 0.4726 - auc_11: 0.5907\n"
     ]
    },
    {
     "data": {
      "text/plain": [
       "<keras.callbacks.callbacks.History at 0x2a265f0e208>"
      ]
     },
     "execution_count": 223,
     "metadata": {},
     "output_type": "execute_result"
    }
   ],
   "source": [
    "classifier.fit(x_train, y_train, batch_size = 50, epochs = 20)  "
   ]
  },
  {
   "cell_type": "code",
   "execution_count": 229,
   "metadata": {},
   "outputs": [],
   "source": [
    "y_pred_prob = classifier.predict(x_valid)     #it will return probability\n",
    "y_pred = (y_pred_prob > 0.5)                     "
   ]
  },
  {
   "cell_type": "code",
   "execution_count": 230,
   "metadata": {},
   "outputs": [
    {
     "name": "stdout",
     "output_type": "stream",
     "text": [
      "AUC: 0.808\n",
      "accuracy_score test: 0.7610752731934637\n",
      "F1 score 0.0\n"
     ]
    }
   ],
   "source": [
    "auc = roc_auc_score(y_valid, y_pred_prob)\n",
    "print('AUC: %.3f' % auc)\n",
    "print('accuracy_score test:', accuracy_score(y_valid,y_pred))  \n",
    "print('F1 score',f1_score(y_valid, y_pred))"
   ]
  },
  {
   "cell_type": "code",
   "execution_count": 231,
   "metadata": {},
   "outputs": [
    {
     "name": "stdout",
     "output_type": "stream",
     "text": [
      "0.8081085705879165\n",
      "              precision    recall  f1-score   support\n",
      "\n",
      "           0       0.76      1.00      0.86     37400\n",
      "           1       0.00      0.00      0.00     11741\n",
      "\n",
      "    accuracy                           0.76     49141\n",
      "   macro avg       0.38      0.50      0.43     49141\n",
      "weighted avg       0.58      0.76      0.66     49141\n",
      "\n",
      "0.7610752731934637\n"
     ]
    },
    {
     "name": "stderr",
     "output_type": "stream",
     "text": [
      "C:\\Users\\Sourabh\\.conda\\envs\\cv\\lib\\site-packages\\sklearn\\metrics\\_classification.py:1272: UndefinedMetricWarning: Precision and F-score are ill-defined and being set to 0.0 in labels with no predicted samples. Use `zero_division` parameter to control this behavior.\n",
      "  _warn_prf(average, modifier, msg_start, len(result))\n"
     ]
    }
   ],
   "source": [
    "print_stats(y_valid,y_pred,y_pred_prob)"
   ]
  },
  {
   "cell_type": "markdown",
   "metadata": {},
   "source": [
    "## Training on whole ds"
   ]
  },
  {
   "cell_type": "code",
   "execution_count": 227,
   "metadata": {},
   "outputs": [],
   "source": [
    "x_whole = df_2.drop(['Is_Lead'],axis=1)\n",
    "y_whole = df_2['Is_Lead']"
   ]
  },
  {
   "cell_type": "code",
   "execution_count": 243,
   "metadata": {},
   "outputs": [
    {
     "name": "stdout",
     "output_type": "stream",
     "text": [
      "Epoch 1/100\n",
      "245704/245704 [==============================] - 19s 76us/step - loss: 0.6542 - auc_12: 0.5010\n",
      "Epoch 2/100\n",
      "245704/245704 [==============================] - 19s 77us/step - loss: 0.5935 - auc_12: 0.5066\n",
      "Epoch 3/100\n",
      "245704/245704 [==============================] - 19s 77us/step - loss: 0.5377 - auc_12: 0.5204\n",
      "Epoch 4/100\n",
      "245704/245704 [==============================] - 19s 78us/step - loss: 0.5134 - auc_12: 0.5412\n",
      "Epoch 5/100\n",
      "245704/245704 [==============================] - 20s 80us/step - loss: 0.5005 - auc_12: 0.5642\n",
      "Epoch 6/100\n",
      "245704/245704 [==============================] - 20s 80us/step - loss: 0.4907 - auc_12: 0.5865\n",
      "Epoch 7/100\n",
      "245704/245704 [==============================] - 20s 83us/step - loss: 0.4829 - auc_12: 0.6070\n",
      "Epoch 8/100\n",
      "245704/245704 [==============================] - 20s 83us/step - loss: 0.4770 - auc_12: 0.6251\n",
      "Epoch 9/100\n",
      "245704/245704 [==============================] - 20s 83us/step - loss: 0.4725 - auc_12: 0.6410\n",
      "Epoch 10/100\n",
      "245704/245704 [==============================] - 21s 85us/step - loss: 0.4690 - auc_12: 0.6546\n",
      "Epoch 11/100\n",
      "245704/245704 [==============================] - 21s 84us/step - loss: 0.4664 - auc_12: 0.6663\n",
      "Epoch 12/100\n",
      "245704/245704 [==============================] - 21s 84us/step - loss: 0.4640 - auc_12: 0.6763\n",
      "Epoch 13/100\n",
      "245704/245704 [==============================] - 21s 86us/step - loss: 0.4623 - auc_12: 0.6850\n",
      "Epoch 14/100\n",
      "245704/245704 [==============================] - 22s 89us/step - loss: 0.4607 - auc_12: 0.6926\n",
      "Epoch 15/100\n",
      "245704/245704 [==============================] - 21s 85us/step - loss: 0.4589 - auc_12: 0.6993\n",
      "Epoch 16/100\n",
      "245704/245704 [==============================] - 22s 88us/step - loss: 0.4579 - auc_12: 0.7052\n",
      "Epoch 17/100\n",
      "245704/245704 [==============================] - 21s 87us/step - loss: 0.4565 - auc_12: 0.7105\n",
      "Epoch 18/100\n",
      "245704/245704 [==============================] - 20s 83us/step - loss: 0.4557 - auc_12: 0.7152\n",
      "Epoch 19/100\n",
      "245704/245704 [==============================] - 21s 85us/step - loss: 0.4548 - auc_12: 0.7194\n",
      "Epoch 20/100\n",
      "245704/245704 [==============================] - 21s 84us/step - loss: 0.4541 - auc_12: 0.7233\n",
      "Epoch 21/100\n",
      "245704/245704 [==============================] - 21s 85us/step - loss: 0.4540 - auc_12: 0.7267\n",
      "Epoch 22/100\n",
      "245704/245704 [==============================] - 21s 86us/step - loss: 0.4529 - auc_12: 0.7299\n",
      "Epoch 23/100\n",
      "245704/245704 [==============================] - 21s 85us/step - loss: 0.4525 - auc_12: 0.7328\n",
      "Epoch 24/100\n",
      "245704/245704 [==============================] - 21s 86us/step - loss: 0.4520 - auc_12: 0.7354\n",
      "Epoch 25/100\n",
      "245704/245704 [==============================] - 21s 86us/step - loss: 0.4520 - auc_12: 0.7378\n",
      "Epoch 26/100\n",
      "245704/245704 [==============================] - 21s 87us/step - loss: 0.4512 - auc_12: 0.7400\n",
      "Epoch 27/100\n",
      "245704/245704 [==============================] - 21s 87us/step - loss: 0.4509 - auc_12: 0.7421\n",
      "Epoch 28/100\n",
      "245704/245704 [==============================] - 21s 86us/step - loss: 0.4509 - auc_12: 0.7440\n",
      "Epoch 29/100\n",
      "245704/245704 [==============================] - 22s 88us/step - loss: 0.4502 - auc_12: 0.7458\n",
      "Epoch 30/100\n",
      "245704/245704 [==============================] - 21s 87us/step - loss: 0.4500 - auc_12: 0.7474\n",
      "Epoch 31/100\n",
      "245704/245704 [==============================] - 21s 87us/step - loss: 0.4493 - auc_12: 0.7490\n",
      "Epoch 32/100\n",
      "245704/245704 [==============================] - 22s 89us/step - loss: 0.4490 - auc_12: 0.7505\n",
      "Epoch 33/100\n",
      "245704/245704 [==============================] - 21s 87us/step - loss: 0.4484 - auc_12: 0.7519\n",
      "Epoch 34/100\n",
      "245704/245704 [==============================] - 21s 87us/step - loss: 0.4483 - auc_12: 0.7532\n",
      "Epoch 35/100\n",
      "245704/245704 [==============================] - 22s 88us/step - loss: 0.4482 - auc_12: 0.7545\n",
      "Epoch 36/100\n",
      "245704/245704 [==============================] - 22s 90us/step - loss: 0.4483 - auc_12: 0.7557\n",
      "Epoch 37/100\n",
      "245704/245704 [==============================] - 22s 88us/step - loss: 0.4478 - auc_12: 0.7568\n",
      "Epoch 38/100\n",
      "245704/245704 [==============================] - 22s 90us/step - loss: 0.4478 - auc_12: 0.7579\n",
      "Epoch 39/100\n",
      "245704/245704 [==============================] - 22s 89us/step - loss: 0.4478 - auc_12: 0.7589\n",
      "Epoch 40/100\n",
      "245704/245704 [==============================] - 22s 89us/step - loss: 0.4472 - auc_12: 0.7599\n",
      "Epoch 41/100\n",
      "245704/245704 [==============================] - 22s 90us/step - loss: 0.4472 - auc_12: 0.7608\n",
      "Epoch 42/100\n",
      "245704/245704 [==============================] - 22s 89us/step - loss: 0.4463 - auc_12: 0.7616\n",
      "Epoch 43/100\n",
      "245704/245704 [==============================] - 22s 89us/step - loss: 0.4465 - auc_12: 0.7625\n",
      "Epoch 44/100\n",
      "245704/245704 [==============================] - 22s 89us/step - loss: 0.4465 - auc_12: 0.7633\n",
      "Epoch 45/100\n",
      "245704/245704 [==============================] - 22s 88us/step - loss: 0.4465 - auc_12: 0.7641\n",
      "Epoch 46/100\n",
      "245704/245704 [==============================] - 21s 87us/step - loss: 0.4463 - auc_12: 0.7649\n",
      "Epoch 47/100\n",
      "245704/245704 [==============================] - 22s 89us/step - loss: 0.4456 - auc_12: 0.7655\n",
      "Epoch 48/100\n",
      "245704/245704 [==============================] - 22s 88us/step - loss: 0.4458 - auc_12: 0.7663\n",
      "Epoch 49/100\n",
      "245704/245704 [==============================] - 22s 88us/step - loss: 0.4456 - auc_12: 0.7669\n",
      "Epoch 50/100\n",
      "245704/245704 [==============================] - 22s 89us/step - loss: 0.4456 - auc_12: 0.7676\n",
      "Epoch 51/100\n",
      "245704/245704 [==============================] - 22s 88us/step - loss: 0.4456 - auc_12: 0.7683\n",
      "Epoch 52/100\n",
      "245704/245704 [==============================] - 21s 87us/step - loss: 0.4455 - auc_12: 0.7688\n",
      "Epoch 53/100\n",
      "245704/245704 [==============================] - 22s 89us/step - loss: 0.4459 - auc_12: 0.7694\n",
      "Epoch 54/100\n",
      "245704/245704 [==============================] - 22s 88us/step - loss: 0.4454 - auc_12: 0.7699\n",
      "Epoch 55/100\n",
      "245704/245704 [==============================] - 22s 89us/step - loss: 0.4454 - auc_12: 0.7705\n",
      "Epoch 56/100\n",
      "245704/245704 [==============================] - 22s 89us/step - loss: 0.4452 - auc_12: 0.7710\n",
      "Epoch 57/100\n",
      "245704/245704 [==============================] - 22s 88us/step - loss: 0.4450 - auc_12: 0.7715\n",
      "Epoch 58/100\n",
      "245704/245704 [==============================] - 22s 88us/step - loss: 0.4455 - auc_12: 0.7720\n",
      "Epoch 59/100\n",
      "245704/245704 [==============================] - 22s 90us/step - loss: 0.4452 - auc_12: 0.7724\n",
      "Epoch 60/100\n",
      "245704/245704 [==============================] - 22s 88us/step - loss: 0.4453 - auc_12: 0.7729\n",
      "Epoch 61/100\n",
      "245704/245704 [==============================] - 22s 88us/step - loss: 0.4450 - auc_12: 0.7734\n",
      "Epoch 62/100\n",
      "245704/245704 [==============================] - 22s 89us/step - loss: 0.4449 - auc_12: 0.7738\n",
      "Epoch 63/100\n",
      "245704/245704 [==============================] - 21s 87us/step - loss: 0.4449 - auc_12: 0.7743\n",
      "Epoch 64/100\n",
      "245704/245704 [==============================] - 22s 88us/step - loss: 0.4449 - auc_12: 0.7747\n",
      "Epoch 65/100\n",
      "245704/245704 [==============================] - 22s 89us/step - loss: 0.4452 - auc_12: 0.7751\n",
      "Epoch 66/100\n",
      "245704/245704 [==============================] - 21s 87us/step - loss: 0.4448 - auc_12: 0.7754\n",
      "Epoch 67/100\n",
      "245704/245704 [==============================] - 22s 88us/step - loss: 0.4449 - auc_12: 0.7758\n",
      "Epoch 68/100\n",
      "245704/245704 [==============================] - 22s 90us/step - loss: 0.4448 - auc_12: 0.7762\n",
      "Epoch 69/100\n",
      "245704/245704 [==============================] - 22s 90us/step - loss: 0.4448 - auc_12: 0.7766\n",
      "Epoch 70/100\n",
      "245704/245704 [==============================] - 22s 89us/step - loss: 0.4450 - auc_12: 0.7768\n",
      "Epoch 71/100\n",
      "245704/245704 [==============================] - 22s 90us/step - loss: 0.4450 - auc_12: 0.7772\n",
      "Epoch 72/100\n",
      "245704/245704 [==============================] - 22s 91us/step - loss: 0.4448 - auc_12: 0.7776\n",
      "Epoch 73/100\n",
      "245704/245704 [==============================] - 22s 90us/step - loss: 0.4448 - auc_12: 0.7778\n",
      "Epoch 74/100\n",
      "245704/245704 [==============================] - 22s 91us/step - loss: 0.4449 - auc_12: 0.7781\n",
      "Epoch 75/100\n",
      "245704/245704 [==============================] - 22s 90us/step - loss: 0.4442 - auc_12: 0.7784\n",
      "Epoch 76/100\n",
      "245704/245704 [==============================] - 21s 86us/step - loss: 0.4446 - auc_12: 0.7787\n",
      "Epoch 77/100\n",
      "245704/245704 [==============================] - 21s 87us/step - loss: 0.4451 - auc_12: 0.7791\n",
      "Epoch 78/100\n",
      "245704/245704 [==============================] - 21s 86us/step - loss: 0.4444 - auc_12: 0.7793\n",
      "Epoch 79/100\n",
      "245704/245704 [==============================] - 21s 86us/step - loss: 0.4447 - auc_12: 0.7796\n",
      "Epoch 80/100\n",
      "245704/245704 [==============================] - 22s 89us/step - loss: 0.4445 - auc_12: 0.7798\n",
      "Epoch 81/100\n",
      "245704/245704 [==============================] - 21s 86us/step - loss: 0.4446 - auc_12: 0.7801\n",
      "Epoch 82/100\n",
      "245704/245704 [==============================] - 21s 87us/step - loss: 0.4441 - auc_12: 0.7803\n",
      "Epoch 83/100\n",
      "245704/245704 [==============================] - 22s 89us/step - loss: 0.4446 - auc_12: 0.7806\n",
      "Epoch 84/100\n",
      "245704/245704 [==============================] - 21s 86us/step - loss: 0.4442 - auc_12: 0.7808\n",
      "Epoch 85/100\n",
      "245704/245704 [==============================] - 21s 87us/step - loss: 0.4446 - auc_12: 0.7811\n",
      "Epoch 86/100\n",
      "245704/245704 [==============================] - 22s 89us/step - loss: 0.4441 - auc_12: 0.7812\n",
      "Epoch 87/100\n",
      "245704/245704 [==============================] - 21s 87us/step - loss: 0.4444 - auc_12: 0.7815\n",
      "Epoch 88/100\n",
      "245704/245704 [==============================] - 21s 87us/step - loss: 0.4438 - auc_12: 0.7817\n",
      "Epoch 89/100\n",
      "245704/245704 [==============================] - 22s 88us/step - loss: 0.4445 - auc_12: 0.7819\n",
      "Epoch 90/100\n",
      "245704/245704 [==============================] - 21s 87us/step - loss: 0.4446 - auc_12: 0.7821\n",
      "Epoch 91/100\n",
      "245704/245704 [==============================] - 21s 87us/step - loss: 0.4441 - auc_12: 0.7822\n",
      "Epoch 92/100\n",
      "245704/245704 [==============================] - 22s 88us/step - loss: 0.4441 - auc_12: 0.7825\n",
      "Epoch 93/100\n",
      "245704/245704 [==============================] - 22s 88us/step - loss: 0.4438 - auc_12: 0.7827\n",
      "Epoch 94/100\n",
      "245704/245704 [==============================] - 21s 87us/step - loss: 0.4442 - auc_12: 0.7829\n",
      "Epoch 95/100\n",
      "245704/245704 [==============================] - 21s 87us/step - loss: 0.4437 - auc_12: 0.7831\n",
      "Epoch 96/100\n",
      "245704/245704 [==============================] - 22s 89us/step - loss: 0.4438 - auc_12: 0.7832\n",
      "Epoch 97/100\n",
      "245704/245704 [==============================] - 21s 87us/step - loss: 0.4445 - auc_12: 0.7835\n",
      "Epoch 98/100\n",
      "245704/245704 [==============================] - 21s 87us/step - loss: 0.4448 - auc_12: 0.7836\n",
      "Epoch 99/100\n",
      "245704/245704 [==============================] - 21s 87us/step - loss: 0.4445 - auc_12: 0.7837\n",
      "Epoch 100/100\n",
      "245704/245704 [==============================] - 21s 87us/step - loss: 0.4445 - auc_12: 0.7840\n"
     ]
    },
    {
     "data": {
      "text/plain": [
       "<keras.callbacks.callbacks.History at 0x2a26f0a74a8>"
      ]
     },
     "execution_count": 243,
     "metadata": {},
     "output_type": "execute_result"
    }
   ],
   "source": [
    "classifier.fit(x_whole, y_whole, batch_size = 32, epochs = 100)  "
   ]
  },
  {
   "cell_type": "markdown",
   "metadata": {},
   "source": [
    "### Test data"
   ]
  },
  {
   "cell_type": "code",
   "execution_count": 172,
   "metadata": {},
   "outputs": [],
   "source": [
    "df_test = pd.read_csv('test_formatted.csv')"
   ]
  },
  {
   "cell_type": "code",
   "execution_count": 173,
   "metadata": {},
   "outputs": [],
   "source": [
    "df_test.drop(['Unnamed: 0'], axis=1, inplace=True)"
   ]
  },
  {
   "cell_type": "code",
   "execution_count": 174,
   "metadata": {},
   "outputs": [
    {
     "data": {
      "text/html": [
       "<div>\n",
       "<style scoped>\n",
       "    .dataframe tbody tr th:only-of-type {\n",
       "        vertical-align: middle;\n",
       "    }\n",
       "\n",
       "    .dataframe tbody tr th {\n",
       "        vertical-align: top;\n",
       "    }\n",
       "\n",
       "    .dataframe thead th {\n",
       "        text-align: right;\n",
       "    }\n",
       "</style>\n",
       "<table border=\"1\" class=\"dataframe\">\n",
       "  <thead>\n",
       "    <tr style=\"text-align: right;\">\n",
       "      <th></th>\n",
       "      <th>Age</th>\n",
       "      <th>Avg_Account_Balance</th>\n",
       "      <th>Vintage</th>\n",
       "      <th>Gender</th>\n",
       "      <th>Region_Code_RG250</th>\n",
       "      <th>Region_Code_RG251</th>\n",
       "      <th>Region_Code_RG252</th>\n",
       "      <th>Region_Code_RG253</th>\n",
       "      <th>Region_Code_RG254</th>\n",
       "      <th>Region_Code_RG255</th>\n",
       "      <th>...</th>\n",
       "      <th>Region_Code_RG283</th>\n",
       "      <th>Occupation_Other</th>\n",
       "      <th>Occupation_Salaried</th>\n",
       "      <th>Occupation_Self_Employed</th>\n",
       "      <th>Channel_Code_X1</th>\n",
       "      <th>Channel_Code_X2</th>\n",
       "      <th>Channel_Code_X3</th>\n",
       "      <th>Is_Active</th>\n",
       "      <th>Credit_Product</th>\n",
       "      <th>ID</th>\n",
       "    </tr>\n",
       "  </thead>\n",
       "  <tbody>\n",
       "    <tr>\n",
       "      <th>0</th>\n",
       "      <td>-0.058563</td>\n",
       "      <td>-0.240878</td>\n",
       "      <td>0.066841</td>\n",
       "      <td>1</td>\n",
       "      <td>0</td>\n",
       "      <td>0</td>\n",
       "      <td>0</td>\n",
       "      <td>0</td>\n",
       "      <td>0</td>\n",
       "      <td>0</td>\n",
       "      <td>...</td>\n",
       "      <td>0</td>\n",
       "      <td>1</td>\n",
       "      <td>0</td>\n",
       "      <td>0</td>\n",
       "      <td>0</td>\n",
       "      <td>1</td>\n",
       "      <td>0</td>\n",
       "      <td>0</td>\n",
       "      <td>0</td>\n",
       "      <td>CCMEWNKY</td>\n",
       "    </tr>\n",
       "    <tr>\n",
       "      <th>1</th>\n",
       "      <td>-0.058563</td>\n",
       "      <td>-0.153494</td>\n",
       "      <td>1.058367</td>\n",
       "      <td>1</td>\n",
       "      <td>0</td>\n",
       "      <td>0</td>\n",
       "      <td>0</td>\n",
       "      <td>0</td>\n",
       "      <td>0</td>\n",
       "      <td>0</td>\n",
       "      <td>...</td>\n",
       "      <td>0</td>\n",
       "      <td>0</td>\n",
       "      <td>1</td>\n",
       "      <td>0</td>\n",
       "      <td>0</td>\n",
       "      <td>0</td>\n",
       "      <td>1</td>\n",
       "      <td>1</td>\n",
       "      <td>1</td>\n",
       "      <td>VVUKMUJT</td>\n",
       "    </tr>\n",
       "    <tr>\n",
       "      <th>2</th>\n",
       "      <td>-0.125800</td>\n",
       "      <td>1.232570</td>\n",
       "      <td>0.686545</td>\n",
       "      <td>0</td>\n",
       "      <td>0</td>\n",
       "      <td>0</td>\n",
       "      <td>0</td>\n",
       "      <td>0</td>\n",
       "      <td>0</td>\n",
       "      <td>0</td>\n",
       "      <td>...</td>\n",
       "      <td>0</td>\n",
       "      <td>0</td>\n",
       "      <td>0</td>\n",
       "      <td>1</td>\n",
       "      <td>0</td>\n",
       "      <td>1</td>\n",
       "      <td>0</td>\n",
       "      <td>0</td>\n",
       "      <td>0</td>\n",
       "      <td>EAHDPXEJ</td>\n",
       "    </tr>\n",
       "    <tr>\n",
       "      <th>3</th>\n",
       "      <td>2.093013</td>\n",
       "      <td>-0.615561</td>\n",
       "      <td>1.430189</td>\n",
       "      <td>1</td>\n",
       "      <td>0</td>\n",
       "      <td>0</td>\n",
       "      <td>0</td>\n",
       "      <td>0</td>\n",
       "      <td>0</td>\n",
       "      <td>0</td>\n",
       "      <td>...</td>\n",
       "      <td>0</td>\n",
       "      <td>1</td>\n",
       "      <td>0</td>\n",
       "      <td>0</td>\n",
       "      <td>0</td>\n",
       "      <td>1</td>\n",
       "      <td>0</td>\n",
       "      <td>0</td>\n",
       "      <td>0</td>\n",
       "      <td>MPXK6TVE</td>\n",
       "    </tr>\n",
       "    <tr>\n",
       "      <th>4</th>\n",
       "      <td>1.958539</td>\n",
       "      <td>-0.336469</td>\n",
       "      <td>1.182308</td>\n",
       "      <td>1</td>\n",
       "      <td>0</td>\n",
       "      <td>0</td>\n",
       "      <td>0</td>\n",
       "      <td>0</td>\n",
       "      <td>0</td>\n",
       "      <td>0</td>\n",
       "      <td>...</td>\n",
       "      <td>0</td>\n",
       "      <td>1</td>\n",
       "      <td>0</td>\n",
       "      <td>0</td>\n",
       "      <td>0</td>\n",
       "      <td>1</td>\n",
       "      <td>0</td>\n",
       "      <td>0</td>\n",
       "      <td>1</td>\n",
       "      <td>HGDIBAKA</td>\n",
       "    </tr>\n",
       "  </tbody>\n",
       "</table>\n",
       "<p>5 rows × 47 columns</p>\n",
       "</div>"
      ],
      "text/plain": [
       "        Age  Avg_Account_Balance   Vintage  Gender  Region_Code_RG250  \\\n",
       "0 -0.058563            -0.240878  0.066841       1                  0   \n",
       "1 -0.058563            -0.153494  1.058367       1                  0   \n",
       "2 -0.125800             1.232570  0.686545       0                  0   \n",
       "3  2.093013            -0.615561  1.430189       1                  0   \n",
       "4  1.958539            -0.336469  1.182308       1                  0   \n",
       "\n",
       "   Region_Code_RG251  Region_Code_RG252  Region_Code_RG253  Region_Code_RG254  \\\n",
       "0                  0                  0                  0                  0   \n",
       "1                  0                  0                  0                  0   \n",
       "2                  0                  0                  0                  0   \n",
       "3                  0                  0                  0                  0   \n",
       "4                  0                  0                  0                  0   \n",
       "\n",
       "   Region_Code_RG255  ...  Region_Code_RG283  Occupation_Other  \\\n",
       "0                  0  ...                  0                 1   \n",
       "1                  0  ...                  0                 0   \n",
       "2                  0  ...                  0                 0   \n",
       "3                  0  ...                  0                 1   \n",
       "4                  0  ...                  0                 1   \n",
       "\n",
       "   Occupation_Salaried  Occupation_Self_Employed  Channel_Code_X1  \\\n",
       "0                    0                         0                0   \n",
       "1                    1                         0                0   \n",
       "2                    0                         1                0   \n",
       "3                    0                         0                0   \n",
       "4                    0                         0                0   \n",
       "\n",
       "   Channel_Code_X2  Channel_Code_X3  Is_Active  Credit_Product        ID  \n",
       "0                1                0          0               0  CCMEWNKY  \n",
       "1                0                1          1               1  VVUKMUJT  \n",
       "2                1                0          0               0  EAHDPXEJ  \n",
       "3                1                0          0               0  MPXK6TVE  \n",
       "4                1                0          0               1  HGDIBAKA  \n",
       "\n",
       "[5 rows x 47 columns]"
      ]
     },
     "execution_count": 174,
     "metadata": {},
     "output_type": "execute_result"
    }
   ],
   "source": [
    "df_test.head()"
   ]
  },
  {
   "cell_type": "code",
   "execution_count": 175,
   "metadata": {},
   "outputs": [
    {
     "data": {
      "text/plain": [
       "Age                         0\n",
       "Avg_Account_Balance         0\n",
       "Vintage                     0\n",
       "Gender                      0\n",
       "Region_Code_RG250           0\n",
       "Region_Code_RG251           0\n",
       "Region_Code_RG252           0\n",
       "Region_Code_RG253           0\n",
       "Region_Code_RG254           0\n",
       "Region_Code_RG255           0\n",
       "Region_Code_RG256           0\n",
       "Region_Code_RG257           0\n",
       "Region_Code_RG258           0\n",
       "Region_Code_RG259           0\n",
       "Region_Code_RG260           0\n",
       "Region_Code_RG261           0\n",
       "Region_Code_RG262           0\n",
       "Region_Code_RG263           0\n",
       "Region_Code_RG264           0\n",
       "Region_Code_RG265           0\n",
       "Region_Code_RG266           0\n",
       "Region_Code_RG267           0\n",
       "Region_Code_RG268           0\n",
       "Region_Code_RG269           0\n",
       "Region_Code_RG270           0\n",
       "Region_Code_RG271           0\n",
       "Region_Code_RG272           0\n",
       "Region_Code_RG273           0\n",
       "Region_Code_RG274           0\n",
       "Region_Code_RG275           0\n",
       "Region_Code_RG276           0\n",
       "Region_Code_RG277           0\n",
       "Region_Code_RG278           0\n",
       "Region_Code_RG279           0\n",
       "Region_Code_RG280           0\n",
       "Region_Code_RG281           0\n",
       "Region_Code_RG282           0\n",
       "Region_Code_RG283           0\n",
       "Occupation_Other            0\n",
       "Occupation_Salaried         0\n",
       "Occupation_Self_Employed    0\n",
       "Channel_Code_X1             0\n",
       "Channel_Code_X2             0\n",
       "Channel_Code_X3             0\n",
       "Is_Active                   0\n",
       "Credit_Product              0\n",
       "ID                          0\n",
       "dtype: int64"
      ]
     },
     "execution_count": 175,
     "metadata": {},
     "output_type": "execute_result"
    }
   ],
   "source": [
    "df_test.isnull().sum()"
   ]
  },
  {
   "cell_type": "code",
   "execution_count": 176,
   "metadata": {},
   "outputs": [],
   "source": [
    "df_id = df_test.loc[:,['ID']]"
   ]
  },
  {
   "cell_type": "code",
   "execution_count": 177,
   "metadata": {},
   "outputs": [
    {
     "data": {
      "text/plain": [
       "(105312, 1)"
      ]
     },
     "execution_count": 177,
     "metadata": {},
     "output_type": "execute_result"
    }
   ],
   "source": [
    "df_id.shape"
   ]
  },
  {
   "cell_type": "code",
   "execution_count": 178,
   "metadata": {},
   "outputs": [],
   "source": [
    "df_test_2 = df_test.drop(['ID'],axis=1)"
   ]
  },
  {
   "cell_type": "code",
   "execution_count": 179,
   "metadata": {},
   "outputs": [
    {
     "data": {
      "text/plain": [
       "Age                         float64\n",
       "Avg_Account_Balance         float64\n",
       "Vintage                     float64\n",
       "Gender                        int64\n",
       "Region_Code_RG250             int64\n",
       "Region_Code_RG251             int64\n",
       "Region_Code_RG252             int64\n",
       "Region_Code_RG253             int64\n",
       "Region_Code_RG254             int64\n",
       "Region_Code_RG255             int64\n",
       "Region_Code_RG256             int64\n",
       "Region_Code_RG257             int64\n",
       "Region_Code_RG258             int64\n",
       "Region_Code_RG259             int64\n",
       "Region_Code_RG260             int64\n",
       "Region_Code_RG261             int64\n",
       "Region_Code_RG262             int64\n",
       "Region_Code_RG263             int64\n",
       "Region_Code_RG264             int64\n",
       "Region_Code_RG265             int64\n",
       "Region_Code_RG266             int64\n",
       "Region_Code_RG267             int64\n",
       "Region_Code_RG268             int64\n",
       "Region_Code_RG269             int64\n",
       "Region_Code_RG270             int64\n",
       "Region_Code_RG271             int64\n",
       "Region_Code_RG272             int64\n",
       "Region_Code_RG273             int64\n",
       "Region_Code_RG274             int64\n",
       "Region_Code_RG275             int64\n",
       "Region_Code_RG276             int64\n",
       "Region_Code_RG277             int64\n",
       "Region_Code_RG278             int64\n",
       "Region_Code_RG279             int64\n",
       "Region_Code_RG280             int64\n",
       "Region_Code_RG281             int64\n",
       "Region_Code_RG282             int64\n",
       "Region_Code_RG283             int64\n",
       "Occupation_Other              int64\n",
       "Occupation_Salaried           int64\n",
       "Occupation_Self_Employed      int64\n",
       "Channel_Code_X1               int64\n",
       "Channel_Code_X2               int64\n",
       "Channel_Code_X3               int64\n",
       "Is_Active                     int64\n",
       "Credit_Product                int64\n",
       "dtype: object"
      ]
     },
     "execution_count": 179,
     "metadata": {},
     "output_type": "execute_result"
    }
   ],
   "source": [
    "df_test_2.dtypes"
   ]
  },
  {
   "cell_type": "code",
   "execution_count": 156,
   "metadata": {},
   "outputs": [
    {
     "ename": "NameError",
     "evalue": "name 'clf_dt' is not defined",
     "output_type": "error",
     "traceback": [
      "\u001b[1;31m---------------------------------------------------------------------------\u001b[0m",
      "\u001b[1;31mNameError\u001b[0m                                 Traceback (most recent call last)",
      "\u001b[1;32m<ipython-input-156-291765bfc69a>\u001b[0m in \u001b[0;36m<module>\u001b[1;34m\u001b[0m\n\u001b[1;32m----> 1\u001b[1;33m \u001b[0mdf_test_y\u001b[0m \u001b[1;33m=\u001b[0m \u001b[0mclf_dt\u001b[0m\u001b[1;33m.\u001b[0m\u001b[0mpredict\u001b[0m\u001b[1;33m(\u001b[0m\u001b[0mdf_test_2\u001b[0m\u001b[1;33m)\u001b[0m\u001b[1;33m\u001b[0m\u001b[1;33m\u001b[0m\u001b[0m\n\u001b[0m",
      "\u001b[1;31mNameError\u001b[0m: name 'clf_dt' is not defined"
     ]
    }
   ],
   "source": [
    "df_test_y = clf_dt.predict(df_test_2)"
   ]
  },
  {
   "cell_type": "code",
   "execution_count": 546,
   "metadata": {},
   "outputs": [],
   "source": [
    "df_test_y_prob=clf_dt.predict_proba(df_test_2)[:, 1]"
   ]
  },
  {
   "cell_type": "code",
   "execution_count": 244,
   "metadata": {},
   "outputs": [],
   "source": [
    "df_test_y_prob = classifier.predict(df_test_2)\n"
   ]
  },
  {
   "cell_type": "code",
   "execution_count": 245,
   "metadata": {},
   "outputs": [
    {
     "data": {
      "text/plain": [
       "(105312, 1)"
      ]
     },
     "execution_count": 245,
     "metadata": {},
     "output_type": "execute_result"
    }
   ],
   "source": [
    "df_test_y_prob.shape"
   ]
  },
  {
   "cell_type": "code",
   "execution_count": 246,
   "metadata": {},
   "outputs": [],
   "source": [
    "#df_test_y = pd.DataFrame(df_test_y, columns=['Is_Lead'], index=df_test_2.index)\n",
    "df_test_y_prob= pd.DataFrame(df_test_y_prob, columns=['Is_Lead'], index=df_test_2.index)"
   ]
  },
  {
   "cell_type": "code",
   "execution_count": 247,
   "metadata": {},
   "outputs": [],
   "source": [
    "#output_df= df_id.join(df_test_y)\n",
    "output_df= df_id.join(df_test_y_prob)"
   ]
  },
  {
   "cell_type": "code",
   "execution_count": 248,
   "metadata": {},
   "outputs": [
    {
     "data": {
      "text/html": [
       "<div>\n",
       "<style scoped>\n",
       "    .dataframe tbody tr th:only-of-type {\n",
       "        vertical-align: middle;\n",
       "    }\n",
       "\n",
       "    .dataframe tbody tr th {\n",
       "        vertical-align: top;\n",
       "    }\n",
       "\n",
       "    .dataframe thead th {\n",
       "        text-align: right;\n",
       "    }\n",
       "</style>\n",
       "<table border=\"1\" class=\"dataframe\">\n",
       "  <thead>\n",
       "    <tr style=\"text-align: right;\">\n",
       "      <th></th>\n",
       "      <th>ID</th>\n",
       "      <th>Is_Lead</th>\n",
       "    </tr>\n",
       "  </thead>\n",
       "  <tbody>\n",
       "    <tr>\n",
       "      <th>0</th>\n",
       "      <td>CCMEWNKY</td>\n",
       "      <td>0.060442</td>\n",
       "    </tr>\n",
       "    <tr>\n",
       "      <th>1</th>\n",
       "      <td>VVUKMUJT</td>\n",
       "      <td>0.499215</td>\n",
       "    </tr>\n",
       "    <tr>\n",
       "      <th>2</th>\n",
       "      <td>EAHDPXEJ</td>\n",
       "      <td>0.146733</td>\n",
       "    </tr>\n",
       "    <tr>\n",
       "      <th>3</th>\n",
       "      <td>MPXK6TVE</td>\n",
       "      <td>0.065415</td>\n",
       "    </tr>\n",
       "    <tr>\n",
       "      <th>4</th>\n",
       "      <td>HGDIBAKA</td>\n",
       "      <td>0.296150</td>\n",
       "    </tr>\n",
       "  </tbody>\n",
       "</table>\n",
       "</div>"
      ],
      "text/plain": [
       "         ID   Is_Lead\n",
       "0  CCMEWNKY  0.060442\n",
       "1  VVUKMUJT  0.499215\n",
       "2  EAHDPXEJ  0.146733\n",
       "3  MPXK6TVE  0.065415\n",
       "4  HGDIBAKA  0.296150"
      ]
     },
     "execution_count": 248,
     "metadata": {},
     "output_type": "execute_result"
    }
   ],
   "source": [
    "output_df.head()"
   ]
  },
  {
   "cell_type": "code",
   "execution_count": 249,
   "metadata": {},
   "outputs": [
    {
     "data": {
      "text/plain": [
       "(105312, 2)"
      ]
     },
     "execution_count": 249,
     "metadata": {},
     "output_type": "execute_result"
    }
   ],
   "source": [
    "output_df.shape"
   ]
  },
  {
   "cell_type": "code",
   "execution_count": 250,
   "metadata": {},
   "outputs": [
    {
     "data": {
      "text/plain": [
       "0.499215    19810\n",
       "0.095696        3\n",
       "0.244625        2\n",
       "0.227288        2\n",
       "0.064333        2\n",
       "            ...  \n",
       "0.291417        1\n",
       "0.165811        1\n",
       "0.104105        1\n",
       "0.088480        1\n",
       "0.288650        1\n",
       "Name: Is_Lead, Length: 85200, dtype: int64"
      ]
     },
     "execution_count": 250,
     "metadata": {},
     "output_type": "execute_result"
    }
   ],
   "source": [
    "output_df['Is_Lead'].value_counts()"
   ]
  },
  {
   "cell_type": "code",
   "execution_count": 251,
   "metadata": {},
   "outputs": [],
   "source": [
    "output_df.to_csv('output_10.csv', index=None)"
   ]
  },
  {
   "cell_type": "code",
   "execution_count": null,
   "metadata": {},
   "outputs": [],
   "source": [
    "y_pred = clf_lr.predict(x_valid)"
   ]
  }
 ],
 "metadata": {
  "kernelspec": {
   "display_name": "Python 3",
   "language": "python",
   "name": "python3"
  },
  "language_info": {
   "codemirror_mode": {
    "name": "ipython",
    "version": 3
   },
   "file_extension": ".py",
   "mimetype": "text/x-python",
   "name": "python",
   "nbconvert_exporter": "python",
   "pygments_lexer": "ipython3",
   "version": "3.6.10"
  }
 },
 "nbformat": 4,
 "nbformat_minor": 5
}
