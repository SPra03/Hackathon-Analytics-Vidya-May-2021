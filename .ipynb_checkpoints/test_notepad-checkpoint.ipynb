{
 "cells": [
  {
   "cell_type": "code",
   "execution_count": 193,
   "id": "aef653fc",
   "metadata": {},
   "outputs": [],
   "source": [
    "# Importing Libraries\n",
    "import pandas as pd\n",
    "import numpy as np\n",
    "import seaborn as sns\n",
    "from sklearn.preprocessing import OneHotEncoder, StandardScaler\n",
    "from sklearn.ensemble import RandomForestClassifier\n",
    "from sklearn.compose import ColumnTransformer, make_column_transformer\n",
    "import matplotlib.pyplot as plt\n",
    "from scipy import stats"
   ]
  },
  {
   "cell_type": "code",
   "execution_count": 194,
   "id": "18468049",
   "metadata": {},
   "outputs": [],
   "source": [
    "df_test = pd.read_csv('test.csv')"
   ]
  },
  {
   "cell_type": "code",
   "execution_count": 195,
   "id": "9d0d631c",
   "metadata": {},
   "outputs": [
    {
     "data": {
      "text/html": [
       "<div>\n",
       "<style scoped>\n",
       "    .dataframe tbody tr th:only-of-type {\n",
       "        vertical-align: middle;\n",
       "    }\n",
       "\n",
       "    .dataframe tbody tr th {\n",
       "        vertical-align: top;\n",
       "    }\n",
       "\n",
       "    .dataframe thead th {\n",
       "        text-align: right;\n",
       "    }\n",
       "</style>\n",
       "<table border=\"1\" class=\"dataframe\">\n",
       "  <thead>\n",
       "    <tr style=\"text-align: right;\">\n",
       "      <th></th>\n",
       "      <th>ID</th>\n",
       "      <th>Gender</th>\n",
       "      <th>Age</th>\n",
       "      <th>Region_Code</th>\n",
       "      <th>Occupation</th>\n",
       "      <th>Channel_Code</th>\n",
       "      <th>Vintage</th>\n",
       "      <th>Credit_Product</th>\n",
       "      <th>Avg_Account_Balance</th>\n",
       "      <th>Is_Active</th>\n",
       "    </tr>\n",
       "  </thead>\n",
       "  <tbody>\n",
       "    <tr>\n",
       "      <th>0</th>\n",
       "      <td>VBENBARO</td>\n",
       "      <td>Male</td>\n",
       "      <td>29</td>\n",
       "      <td>RG254</td>\n",
       "      <td>Other</td>\n",
       "      <td>X1</td>\n",
       "      <td>25</td>\n",
       "      <td>Yes</td>\n",
       "      <td>742366</td>\n",
       "      <td>No</td>\n",
       "    </tr>\n",
       "    <tr>\n",
       "      <th>1</th>\n",
       "      <td>CCMEWNKY</td>\n",
       "      <td>Male</td>\n",
       "      <td>43</td>\n",
       "      <td>RG268</td>\n",
       "      <td>Other</td>\n",
       "      <td>X2</td>\n",
       "      <td>49</td>\n",
       "      <td>NaN</td>\n",
       "      <td>925537</td>\n",
       "      <td>No</td>\n",
       "    </tr>\n",
       "    <tr>\n",
       "      <th>2</th>\n",
       "      <td>VK3KGA9M</td>\n",
       "      <td>Male</td>\n",
       "      <td>31</td>\n",
       "      <td>RG270</td>\n",
       "      <td>Salaried</td>\n",
       "      <td>X1</td>\n",
       "      <td>14</td>\n",
       "      <td>No</td>\n",
       "      <td>215949</td>\n",
       "      <td>No</td>\n",
       "    </tr>\n",
       "    <tr>\n",
       "      <th>3</th>\n",
       "      <td>TT8RPZVC</td>\n",
       "      <td>Male</td>\n",
       "      <td>29</td>\n",
       "      <td>RG272</td>\n",
       "      <td>Other</td>\n",
       "      <td>X1</td>\n",
       "      <td>33</td>\n",
       "      <td>No</td>\n",
       "      <td>868070</td>\n",
       "      <td>No</td>\n",
       "    </tr>\n",
       "    <tr>\n",
       "      <th>4</th>\n",
       "      <td>SHQZEYTZ</td>\n",
       "      <td>Female</td>\n",
       "      <td>29</td>\n",
       "      <td>RG270</td>\n",
       "      <td>Other</td>\n",
       "      <td>X1</td>\n",
       "      <td>19</td>\n",
       "      <td>No</td>\n",
       "      <td>657087</td>\n",
       "      <td>No</td>\n",
       "    </tr>\n",
       "    <tr>\n",
       "      <th>5</th>\n",
       "      <td>MZZAQMPT</td>\n",
       "      <td>Male</td>\n",
       "      <td>60</td>\n",
       "      <td>RG268</td>\n",
       "      <td>Self_Employed</td>\n",
       "      <td>X3</td>\n",
       "      <td>110</td>\n",
       "      <td>No</td>\n",
       "      <td>4624262</td>\n",
       "      <td>No</td>\n",
       "    </tr>\n",
       "    <tr>\n",
       "      <th>6</th>\n",
       "      <td>Y88TW36I</td>\n",
       "      <td>Female</td>\n",
       "      <td>69</td>\n",
       "      <td>RG253</td>\n",
       "      <td>Other</td>\n",
       "      <td>X2</td>\n",
       "      <td>67</td>\n",
       "      <td>No</td>\n",
       "      <td>1032764</td>\n",
       "      <td>No</td>\n",
       "    </tr>\n",
       "    <tr>\n",
       "      <th>7</th>\n",
       "      <td>3UGOAQNU</td>\n",
       "      <td>Female</td>\n",
       "      <td>30</td>\n",
       "      <td>RG257</td>\n",
       "      <td>Salaried</td>\n",
       "      <td>X1</td>\n",
       "      <td>33</td>\n",
       "      <td>No</td>\n",
       "      <td>837009</td>\n",
       "      <td>No</td>\n",
       "    </tr>\n",
       "    <tr>\n",
       "      <th>8</th>\n",
       "      <td>VVUKMUJT</td>\n",
       "      <td>Male</td>\n",
       "      <td>43</td>\n",
       "      <td>RG284</td>\n",
       "      <td>Salaried</td>\n",
       "      <td>X3</td>\n",
       "      <td>81</td>\n",
       "      <td>NaN</td>\n",
       "      <td>1001232</td>\n",
       "      <td>Yes</td>\n",
       "    </tr>\n",
       "    <tr>\n",
       "      <th>9</th>\n",
       "      <td>9R363ZXS</td>\n",
       "      <td>Female</td>\n",
       "      <td>54</td>\n",
       "      <td>RG283</td>\n",
       "      <td>Self_Employed</td>\n",
       "      <td>X2</td>\n",
       "      <td>37</td>\n",
       "      <td>Yes</td>\n",
       "      <td>1667851</td>\n",
       "      <td>No</td>\n",
       "    </tr>\n",
       "    <tr>\n",
       "      <th>10</th>\n",
       "      <td>BLISM6JE</td>\n",
       "      <td>Female</td>\n",
       "      <td>30</td>\n",
       "      <td>RG277</td>\n",
       "      <td>Salaried</td>\n",
       "      <td>X1</td>\n",
       "      <td>33</td>\n",
       "      <td>No</td>\n",
       "      <td>350330</td>\n",
       "      <td>No</td>\n",
       "    </tr>\n",
       "    <tr>\n",
       "      <th>11</th>\n",
       "      <td>CH8S7JK7</td>\n",
       "      <td>Male</td>\n",
       "      <td>45</td>\n",
       "      <td>RG273</td>\n",
       "      <td>Self_Employed</td>\n",
       "      <td>X3</td>\n",
       "      <td>63</td>\n",
       "      <td>Yes</td>\n",
       "      <td>629194</td>\n",
       "      <td>No</td>\n",
       "    </tr>\n",
       "    <tr>\n",
       "      <th>12</th>\n",
       "      <td>EAHDPXEJ</td>\n",
       "      <td>Female</td>\n",
       "      <td>42</td>\n",
       "      <td>RG261</td>\n",
       "      <td>Self_Employed</td>\n",
       "      <td>X2</td>\n",
       "      <td>69</td>\n",
       "      <td>NaN</td>\n",
       "      <td>2201895</td>\n",
       "      <td>No</td>\n",
       "    </tr>\n",
       "    <tr>\n",
       "      <th>13</th>\n",
       "      <td>BNUK9PRF</td>\n",
       "      <td>Female</td>\n",
       "      <td>49</td>\n",
       "      <td>RG280</td>\n",
       "      <td>Self_Employed</td>\n",
       "      <td>X3</td>\n",
       "      <td>27</td>\n",
       "      <td>Yes</td>\n",
       "      <td>460423</td>\n",
       "      <td>No</td>\n",
       "    </tr>\n",
       "    <tr>\n",
       "      <th>14</th>\n",
       "      <td>GP2PG6FJ</td>\n",
       "      <td>Male</td>\n",
       "      <td>30</td>\n",
       "      <td>RG274</td>\n",
       "      <td>Salaried</td>\n",
       "      <td>X1</td>\n",
       "      <td>31</td>\n",
       "      <td>No</td>\n",
       "      <td>639883</td>\n",
       "      <td>No</td>\n",
       "    </tr>\n",
       "    <tr>\n",
       "      <th>15</th>\n",
       "      <td>WNQCSN8A</td>\n",
       "      <td>Female</td>\n",
       "      <td>26</td>\n",
       "      <td>RG268</td>\n",
       "      <td>Self_Employed</td>\n",
       "      <td>X1</td>\n",
       "      <td>21</td>\n",
       "      <td>No</td>\n",
       "      <td>687053</td>\n",
       "      <td>Yes</td>\n",
       "    </tr>\n",
       "    <tr>\n",
       "      <th>16</th>\n",
       "      <td>32DN4YVZ</td>\n",
       "      <td>Male</td>\n",
       "      <td>49</td>\n",
       "      <td>RG270</td>\n",
       "      <td>Self_Employed</td>\n",
       "      <td>X2</td>\n",
       "      <td>69</td>\n",
       "      <td>Yes</td>\n",
       "      <td>416422</td>\n",
       "      <td>Yes</td>\n",
       "    </tr>\n",
       "    <tr>\n",
       "      <th>17</th>\n",
       "      <td>GXAMDANM</td>\n",
       "      <td>Female</td>\n",
       "      <td>29</td>\n",
       "      <td>RG277</td>\n",
       "      <td>Salaried</td>\n",
       "      <td>X1</td>\n",
       "      <td>25</td>\n",
       "      <td>No</td>\n",
       "      <td>1056955</td>\n",
       "      <td>No</td>\n",
       "    </tr>\n",
       "    <tr>\n",
       "      <th>18</th>\n",
       "      <td>MXETLUP4</td>\n",
       "      <td>Female</td>\n",
       "      <td>51</td>\n",
       "      <td>RG277</td>\n",
       "      <td>Self_Employed</td>\n",
       "      <td>X3</td>\n",
       "      <td>117</td>\n",
       "      <td>No</td>\n",
       "      <td>963006</td>\n",
       "      <td>Yes</td>\n",
       "    </tr>\n",
       "    <tr>\n",
       "      <th>19</th>\n",
       "      <td>MPXK6TVE</td>\n",
       "      <td>Male</td>\n",
       "      <td>75</td>\n",
       "      <td>RG273</td>\n",
       "      <td>Other</td>\n",
       "      <td>X2</td>\n",
       "      <td>93</td>\n",
       "      <td>NaN</td>\n",
       "      <td>600972</td>\n",
       "      <td>No</td>\n",
       "    </tr>\n",
       "  </tbody>\n",
       "</table>\n",
       "</div>"
      ],
      "text/plain": [
       "          ID  Gender  Age Region_Code     Occupation Channel_Code  Vintage  \\\n",
       "0   VBENBARO    Male   29       RG254          Other           X1       25   \n",
       "1   CCMEWNKY    Male   43       RG268          Other           X2       49   \n",
       "2   VK3KGA9M    Male   31       RG270       Salaried           X1       14   \n",
       "3   TT8RPZVC    Male   29       RG272          Other           X1       33   \n",
       "4   SHQZEYTZ  Female   29       RG270          Other           X1       19   \n",
       "5   MZZAQMPT    Male   60       RG268  Self_Employed           X3      110   \n",
       "6   Y88TW36I  Female   69       RG253          Other           X2       67   \n",
       "7   3UGOAQNU  Female   30       RG257       Salaried           X1       33   \n",
       "8   VVUKMUJT    Male   43       RG284       Salaried           X3       81   \n",
       "9   9R363ZXS  Female   54       RG283  Self_Employed           X2       37   \n",
       "10  BLISM6JE  Female   30       RG277       Salaried           X1       33   \n",
       "11  CH8S7JK7    Male   45       RG273  Self_Employed           X3       63   \n",
       "12  EAHDPXEJ  Female   42       RG261  Self_Employed           X2       69   \n",
       "13  BNUK9PRF  Female   49       RG280  Self_Employed           X3       27   \n",
       "14  GP2PG6FJ    Male   30       RG274       Salaried           X1       31   \n",
       "15  WNQCSN8A  Female   26       RG268  Self_Employed           X1       21   \n",
       "16  32DN4YVZ    Male   49       RG270  Self_Employed           X2       69   \n",
       "17  GXAMDANM  Female   29       RG277       Salaried           X1       25   \n",
       "18  MXETLUP4  Female   51       RG277  Self_Employed           X3      117   \n",
       "19  MPXK6TVE    Male   75       RG273          Other           X2       93   \n",
       "\n",
       "   Credit_Product  Avg_Account_Balance Is_Active  \n",
       "0             Yes               742366        No  \n",
       "1             NaN               925537        No  \n",
       "2              No               215949        No  \n",
       "3              No               868070        No  \n",
       "4              No               657087        No  \n",
       "5              No              4624262        No  \n",
       "6              No              1032764        No  \n",
       "7              No               837009        No  \n",
       "8             NaN              1001232       Yes  \n",
       "9             Yes              1667851        No  \n",
       "10             No               350330        No  \n",
       "11            Yes               629194        No  \n",
       "12            NaN              2201895        No  \n",
       "13            Yes               460423        No  \n",
       "14             No               639883        No  \n",
       "15             No               687053       Yes  \n",
       "16            Yes               416422       Yes  \n",
       "17             No              1056955        No  \n",
       "18             No               963006       Yes  \n",
       "19            NaN               600972        No  "
      ]
     },
     "execution_count": 195,
     "metadata": {},
     "output_type": "execute_result"
    }
   ],
   "source": [
    "df_test.head(20)"
   ]
  },
  {
   "cell_type": "code",
   "execution_count": 196,
   "id": "2f332ccd",
   "metadata": {},
   "outputs": [
    {
     "data": {
      "text/plain": [
       "ID                         0\n",
       "Gender                     0\n",
       "Age                        0\n",
       "Region_Code                0\n",
       "Occupation                 0\n",
       "Channel_Code               0\n",
       "Vintage                    0\n",
       "Credit_Product         12522\n",
       "Avg_Account_Balance        0\n",
       "Is_Active                  0\n",
       "dtype: int64"
      ]
     },
     "execution_count": 196,
     "metadata": {},
     "output_type": "execute_result"
    }
   ],
   "source": [
    "df_test.isnull().sum()"
   ]
  },
  {
   "cell_type": "code",
   "execution_count": 197,
   "id": "87906393",
   "metadata": {},
   "outputs": [
    {
     "data": {
      "text/plain": [
       "(105312, 10)"
      ]
     },
     "execution_count": 197,
     "metadata": {},
     "output_type": "execute_result"
    }
   ],
   "source": [
    "df_test.shape"
   ]
  },
  {
   "cell_type": "code",
   "execution_count": 198,
   "id": "16f2db4a",
   "metadata": {},
   "outputs": [],
   "source": [
    "df = df_test.drop(['ID'], axis=1)"
   ]
  },
  {
   "cell_type": "code",
   "execution_count": 199,
   "id": "bb37ef75",
   "metadata": {},
   "outputs": [
    {
     "data": {
      "text/plain": [
       "Index(['Gender', 'Age', 'Region_Code', 'Occupation', 'Channel_Code', 'Vintage',\n",
       "       'Credit_Product', 'Avg_Account_Balance', 'Is_Active'],\n",
       "      dtype='object')"
      ]
     },
     "execution_count": 199,
     "metadata": {},
     "output_type": "execute_result"
    }
   ],
   "source": [
    "df.columns"
   ]
  },
  {
   "cell_type": "markdown",
   "id": "f8e48e19",
   "metadata": {},
   "source": [
    "### Scaling "
   ]
  },
  {
   "cell_type": "code",
   "execution_count": 200,
   "id": "cabd82fd",
   "metadata": {},
   "outputs": [],
   "source": [
    "#selection of columns to scale\n",
    "df_num = df.loc[:,['Age','Avg_Account_Balance','Vintage']]"
   ]
  },
  {
   "cell_type": "code",
   "execution_count": 201,
   "id": "d23430a3",
   "metadata": {},
   "outputs": [
    {
     "data": {
      "text/html": [
       "<div>\n",
       "<style scoped>\n",
       "    .dataframe tbody tr th:only-of-type {\n",
       "        vertical-align: middle;\n",
       "    }\n",
       "\n",
       "    .dataframe tbody tr th {\n",
       "        vertical-align: top;\n",
       "    }\n",
       "\n",
       "    .dataframe thead th {\n",
       "        text-align: right;\n",
       "    }\n",
       "</style>\n",
       "<table border=\"1\" class=\"dataframe\">\n",
       "  <thead>\n",
       "    <tr style=\"text-align: right;\">\n",
       "      <th></th>\n",
       "      <th>Age</th>\n",
       "      <th>Avg_Account_Balance</th>\n",
       "      <th>Vintage</th>\n",
       "    </tr>\n",
       "  </thead>\n",
       "  <tbody>\n",
       "    <tr>\n",
       "      <th>0</th>\n",
       "      <td>-0.999878</td>\n",
       "      <td>-0.452333</td>\n",
       "      <td>-0.676804</td>\n",
       "    </tr>\n",
       "    <tr>\n",
       "      <th>1</th>\n",
       "      <td>-0.058563</td>\n",
       "      <td>-0.240878</td>\n",
       "      <td>0.066841</td>\n",
       "    </tr>\n",
       "    <tr>\n",
       "      <th>2</th>\n",
       "      <td>-0.865404</td>\n",
       "      <td>-1.060037</td>\n",
       "      <td>-1.017641</td>\n",
       "    </tr>\n",
       "    <tr>\n",
       "      <th>3</th>\n",
       "      <td>-0.999878</td>\n",
       "      <td>-0.307219</td>\n",
       "      <td>-0.428922</td>\n",
       "    </tr>\n",
       "    <tr>\n",
       "      <th>4</th>\n",
       "      <td>-0.999878</td>\n",
       "      <td>-0.550781</td>\n",
       "      <td>-0.862715</td>\n",
       "    </tr>\n",
       "  </tbody>\n",
       "</table>\n",
       "</div>"
      ],
      "text/plain": [
       "        Age  Avg_Account_Balance   Vintage\n",
       "0 -0.999878            -0.452333 -0.676804\n",
       "1 -0.058563            -0.240878  0.066841\n",
       "2 -0.865404            -1.060037 -1.017641\n",
       "3 -0.999878            -0.307219 -0.428922\n",
       "4 -0.999878            -0.550781 -0.862715"
      ]
     },
     "execution_count": 201,
     "metadata": {},
     "output_type": "execute_result"
    }
   ],
   "source": [
    "#scaling\n",
    "ct =ColumnTransformer(\n",
    "    [('std-sclr',StandardScaler(),['Age','Avg_Account_Balance','Vintage'])\n",
    "    ],\n",
    "    remainder = 'passthrough'\n",
    ")\n",
    "\n",
    "num_scaled = ct.fit_transform(df_num)\n",
    "df_num_scaled = pd.DataFrame(num_scaled, columns=df_num.columns,index=df_num.index)\n",
    "df_num_scaled.head()"
   ]
  },
  {
   "cell_type": "code",
   "execution_count": 202,
   "id": "172f951d",
   "metadata": {},
   "outputs": [],
   "source": [
    "#joining back the scaled result\n",
    "df=df.drop(['Age','Avg_Account_Balance','Vintage'], axis=1)\n",
    "df =df.join(df_num_scaled)"
   ]
  },
  {
   "cell_type": "code",
   "execution_count": 203,
   "id": "4a72f351",
   "metadata": {},
   "outputs": [],
   "source": [
    "df.fillna('Missing',inplace=True)"
   ]
  },
  {
   "cell_type": "markdown",
   "id": "79d60059",
   "metadata": {},
   "source": [
    "### Encoding"
   ]
  },
  {
   "cell_type": "code",
   "execution_count": 204,
   "id": "f41674e9",
   "metadata": {},
   "outputs": [],
   "source": [
    "#Encoding\n",
    "df = pd.get_dummies(df, columns=['Gender', 'Region_Code', 'Occupation', 'Channel_Code','Is_Active'])"
   ]
  },
  {
   "cell_type": "code",
   "execution_count": 205,
   "id": "4afc3d54",
   "metadata": {},
   "outputs": [],
   "source": [
    "# Dropping last columns of each feature, to avoid dummy variable trap \n",
    "df.drop(['Gender_Female','Is_Active_No','Channel_Code_X4','Occupation_Entrepreneur','Region_Code_RG284'], axis=1, inplace=True)"
   ]
  },
  {
   "cell_type": "code",
   "execution_count": 206,
   "id": "ff1887cc",
   "metadata": {},
   "outputs": [
    {
     "data": {
      "text/plain": [
       "Index(['Credit_Product', 'Age', 'Avg_Account_Balance', 'Vintage',\n",
       "       'Gender_Male', 'Region_Code_RG250', 'Region_Code_RG251',\n",
       "       'Region_Code_RG252', 'Region_Code_RG253', 'Region_Code_RG254',\n",
       "       'Region_Code_RG255', 'Region_Code_RG256', 'Region_Code_RG257',\n",
       "       'Region_Code_RG258', 'Region_Code_RG259', 'Region_Code_RG260',\n",
       "       'Region_Code_RG261', 'Region_Code_RG262', 'Region_Code_RG263',\n",
       "       'Region_Code_RG264', 'Region_Code_RG265', 'Region_Code_RG266',\n",
       "       'Region_Code_RG267', 'Region_Code_RG268', 'Region_Code_RG269',\n",
       "       'Region_Code_RG270', 'Region_Code_RG271', 'Region_Code_RG272',\n",
       "       'Region_Code_RG273', 'Region_Code_RG274', 'Region_Code_RG275',\n",
       "       'Region_Code_RG276', 'Region_Code_RG277', 'Region_Code_RG278',\n",
       "       'Region_Code_RG279', 'Region_Code_RG280', 'Region_Code_RG281',\n",
       "       'Region_Code_RG282', 'Region_Code_RG283', 'Occupation_Other',\n",
       "       'Occupation_Salaried', 'Occupation_Self_Employed', 'Channel_Code_X1',\n",
       "       'Channel_Code_X2', 'Channel_Code_X3', 'Is_Active_Yes'],\n",
       "      dtype='object')"
      ]
     },
     "execution_count": 206,
     "metadata": {},
     "output_type": "execute_result"
    }
   ],
   "source": [
    "df.columns"
   ]
  },
  {
   "cell_type": "code",
   "execution_count": 207,
   "id": "8c1ca81e",
   "metadata": {},
   "outputs": [
    {
     "data": {
      "text/plain": [
       "(105312, 46)"
      ]
     },
     "execution_count": 207,
     "metadata": {},
     "output_type": "execute_result"
    }
   ],
   "source": [
    "df.shape"
   ]
  },
  {
   "cell_type": "code",
   "execution_count": 208,
   "id": "176a9389",
   "metadata": {},
   "outputs": [],
   "source": [
    "# Renaming Columns\n",
    "df.rename(columns = {'Gender_Male':'Gender', 'Is_Active_Yes':'Is_Active'}, inplace=True)"
   ]
  },
  {
   "cell_type": "code",
   "execution_count": 209,
   "id": "9e8bcfda",
   "metadata": {},
   "outputs": [
    {
     "data": {
      "text/plain": [
       "No         61608\n",
       "Yes        31182\n",
       "Missing    12522\n",
       "Name: Credit_Product, dtype: int64"
      ]
     },
     "execution_count": 209,
     "metadata": {},
     "output_type": "execute_result"
    }
   ],
   "source": [
    "df['Credit_Product'].value_counts()"
   ]
  },
  {
   "cell_type": "code",
   "execution_count": 210,
   "id": "6a7edd40",
   "metadata": {},
   "outputs": [],
   "source": [
    "df_missing_test = df[df['Credit_Product']=='Missing']\n",
    "df_missing_train = df[df['Credit_Product']!='Missing']"
   ]
  },
  {
   "cell_type": "code",
   "execution_count": 211,
   "id": "9c229e0c",
   "metadata": {},
   "outputs": [],
   "source": [
    "df_missing_train_x = df_missing_train.drop(['Credit_Product'], axis=1)\n",
    "df_missing_train_y = df_missing_train['Credit_Product']\n",
    "df_missing_test_x = df_missing_test.drop(['Credit_Product'], axis=1)"
   ]
  },
  {
   "cell_type": "code",
   "execution_count": 212,
   "id": "1dd3495b",
   "metadata": {},
   "outputs": [
    {
     "name": "stdout",
     "output_type": "stream",
     "text": [
      "X_train_shape:(92790, 45)\n",
      "Y_train_shape:(92790,)\n",
      "X_test_shape:(12522, 45)\n"
     ]
    }
   ],
   "source": [
    "print(\"X_train_shape:{}\".format(df_missing_train_x.shape))\n",
    "print(\"Y_train_shape:{}\".format(df_missing_train_y.shape))\n",
    "print(\"X_test_shape:{}\".format(df_missing_test_x.shape))"
   ]
  },
  {
   "cell_type": "markdown",
   "id": "3b94fce8",
   "metadata": {},
   "source": [
    "### Dummifying the df_missing_train_y"
   ]
  },
  {
   "cell_type": "code",
   "execution_count": 213,
   "id": "d77a67fc",
   "metadata": {},
   "outputs": [],
   "source": [
    "#Encoding\n",
    "df_missing_train_y = pd.get_dummies(df_missing_train_y, columns=['Credit_Product'])"
   ]
  },
  {
   "cell_type": "code",
   "execution_count": 214,
   "id": "ae109b5e",
   "metadata": {},
   "outputs": [
    {
     "data": {
      "text/plain": [
       "Index(['No', 'Yes'], dtype='object')"
      ]
     },
     "execution_count": 214,
     "metadata": {},
     "output_type": "execute_result"
    }
   ],
   "source": [
    "df_missing_train_y.columns"
   ]
  },
  {
   "cell_type": "code",
   "execution_count": 215,
   "id": "0e233c9d",
   "metadata": {},
   "outputs": [
    {
     "data": {
      "text/html": [
       "<div>\n",
       "<style scoped>\n",
       "    .dataframe tbody tr th:only-of-type {\n",
       "        vertical-align: middle;\n",
       "    }\n",
       "\n",
       "    .dataframe tbody tr th {\n",
       "        vertical-align: top;\n",
       "    }\n",
       "\n",
       "    .dataframe thead th {\n",
       "        text-align: right;\n",
       "    }\n",
       "</style>\n",
       "<table border=\"1\" class=\"dataframe\">\n",
       "  <thead>\n",
       "    <tr style=\"text-align: right;\">\n",
       "      <th></th>\n",
       "      <th>No</th>\n",
       "      <th>Yes</th>\n",
       "    </tr>\n",
       "  </thead>\n",
       "  <tbody>\n",
       "    <tr>\n",
       "      <th>0</th>\n",
       "      <td>0</td>\n",
       "      <td>1</td>\n",
       "    </tr>\n",
       "    <tr>\n",
       "      <th>2</th>\n",
       "      <td>1</td>\n",
       "      <td>0</td>\n",
       "    </tr>\n",
       "    <tr>\n",
       "      <th>3</th>\n",
       "      <td>1</td>\n",
       "      <td>0</td>\n",
       "    </tr>\n",
       "    <tr>\n",
       "      <th>4</th>\n",
       "      <td>1</td>\n",
       "      <td>0</td>\n",
       "    </tr>\n",
       "    <tr>\n",
       "      <th>5</th>\n",
       "      <td>1</td>\n",
       "      <td>0</td>\n",
       "    </tr>\n",
       "  </tbody>\n",
       "</table>\n",
       "</div>"
      ],
      "text/plain": [
       "   No  Yes\n",
       "0   0    1\n",
       "2   1    0\n",
       "3   1    0\n",
       "4   1    0\n",
       "5   1    0"
      ]
     },
     "execution_count": 215,
     "metadata": {},
     "output_type": "execute_result"
    }
   ],
   "source": [
    "df_missing_train_y.head()"
   ]
  },
  {
   "cell_type": "code",
   "execution_count": 216,
   "id": "11125a5e",
   "metadata": {},
   "outputs": [
    {
     "data": {
      "text/html": [
       "<div>\n",
       "<style scoped>\n",
       "    .dataframe tbody tr th:only-of-type {\n",
       "        vertical-align: middle;\n",
       "    }\n",
       "\n",
       "    .dataframe tbody tr th {\n",
       "        vertical-align: top;\n",
       "    }\n",
       "\n",
       "    .dataframe thead th {\n",
       "        text-align: right;\n",
       "    }\n",
       "</style>\n",
       "<table border=\"1\" class=\"dataframe\">\n",
       "  <thead>\n",
       "    <tr style=\"text-align: right;\">\n",
       "      <th></th>\n",
       "      <th>Credit_Product</th>\n",
       "    </tr>\n",
       "  </thead>\n",
       "  <tbody>\n",
       "    <tr>\n",
       "      <th>0</th>\n",
       "      <td>1</td>\n",
       "    </tr>\n",
       "    <tr>\n",
       "      <th>2</th>\n",
       "      <td>0</td>\n",
       "    </tr>\n",
       "  </tbody>\n",
       "</table>\n",
       "</div>"
      ],
      "text/plain": [
       "   Credit_Product\n",
       "0               1\n",
       "2               0"
      ]
     },
     "execution_count": 216,
     "metadata": {},
     "output_type": "execute_result"
    }
   ],
   "source": [
    "df_missing_train_y.drop(['No'],axis=1,inplace=True)\n",
    "df_missing_train_y.rename(columns = {'Yes':'Credit_Product'}, inplace=True)\n",
    "df_missing_train_y = pd.DataFrame(df_missing_train_y,columns=['Credit_Product'],index = df_missing_train_y.index)\n",
    "df_missing_train_y.head(2)"
   ]
  },
  {
   "cell_type": "code",
   "execution_count": 217,
   "id": "e002db31",
   "metadata": {},
   "outputs": [
    {
     "data": {
      "text/plain": [
       "Credit_Product    uint8\n",
       "dtype: object"
      ]
     },
     "execution_count": 217,
     "metadata": {},
     "output_type": "execute_result"
    }
   ],
   "source": [
    "df_missing_train_y.dtypes"
   ]
  },
  {
   "cell_type": "code",
   "execution_count": 218,
   "id": "0291ed11",
   "metadata": {},
   "outputs": [],
   "source": [
    "df_missing_train_y['Credit_Product'] = pd.to_numeric(df_missing_train_y['Credit_Product'])"
   ]
  },
  {
   "cell_type": "markdown",
   "id": "6abe4f0a",
   "metadata": {},
   "source": [
    "### Predicting missing values"
   ]
  },
  {
   "cell_type": "code",
   "execution_count": 219,
   "id": "0dfc8e90",
   "metadata": {},
   "outputs": [
    {
     "name": "stderr",
     "output_type": "stream",
     "text": [
      "C:\\ProgramData\\Anaconda3\\lib\\site-packages\\ipykernel_launcher.py:2: DataConversionWarning: A column-vector y was passed when a 1d array was expected. Please change the shape of y to (n_samples,), for example using ravel().\n",
      "  \n"
     ]
    }
   ],
   "source": [
    "rf_classifier = RandomForestClassifier()\n",
    "rf_classifier = rf_classifier.fit(df_missing_train_x, df_missing_train_y)\n",
    "pred_values = rf_classifier.predict(df_missing_test_x)"
   ]
  },
  {
   "cell_type": "code",
   "execution_count": 220,
   "id": "5fe12f02",
   "metadata": {},
   "outputs": [],
   "source": [
    "y = pd.DataFrame(pred_values, columns=['Credit_Product'], index = df_missing_test_x.index)"
   ]
  },
  {
   "cell_type": "code",
   "execution_count": 221,
   "id": "50365972",
   "metadata": {},
   "outputs": [
    {
     "data": {
      "text/plain": [
       "Credit_Product\n",
       "0                 6472\n",
       "1                 6050\n",
       "dtype: int64"
      ]
     },
     "execution_count": 221,
     "metadata": {},
     "output_type": "execute_result"
    }
   ],
   "source": [
    "y.value_counts()"
   ]
  },
  {
   "cell_type": "code",
   "execution_count": 222,
   "id": "64e5d02c",
   "metadata": {},
   "outputs": [
    {
     "data": {
      "text/plain": [
       "Credit_Product    uint8\n",
       "dtype: object"
      ]
     },
     "execution_count": 222,
     "metadata": {},
     "output_type": "execute_result"
    }
   ],
   "source": [
    "y.dtypes"
   ]
  },
  {
   "cell_type": "code",
   "execution_count": 223,
   "id": "ad3b1c30",
   "metadata": {},
   "outputs": [
    {
     "data": {
      "text/html": [
       "<div>\n",
       "<style scoped>\n",
       "    .dataframe tbody tr th:only-of-type {\n",
       "        vertical-align: middle;\n",
       "    }\n",
       "\n",
       "    .dataframe tbody tr th {\n",
       "        vertical-align: top;\n",
       "    }\n",
       "\n",
       "    .dataframe thead th {\n",
       "        text-align: right;\n",
       "    }\n",
       "</style>\n",
       "<table border=\"1\" class=\"dataframe\">\n",
       "  <thead>\n",
       "    <tr style=\"text-align: right;\">\n",
       "      <th></th>\n",
       "      <th>Credit_Product</th>\n",
       "    </tr>\n",
       "  </thead>\n",
       "  <tbody>\n",
       "    <tr>\n",
       "      <th>1</th>\n",
       "      <td>0</td>\n",
       "    </tr>\n",
       "    <tr>\n",
       "      <th>8</th>\n",
       "      <td>1</td>\n",
       "    </tr>\n",
       "    <tr>\n",
       "      <th>12</th>\n",
       "      <td>0</td>\n",
       "    </tr>\n",
       "    <tr>\n",
       "      <th>19</th>\n",
       "      <td>0</td>\n",
       "    </tr>\n",
       "    <tr>\n",
       "      <th>22</th>\n",
       "      <td>1</td>\n",
       "    </tr>\n",
       "  </tbody>\n",
       "</table>\n",
       "</div>"
      ],
      "text/plain": [
       "    Credit_Product\n",
       "1                0\n",
       "8                1\n",
       "12               0\n",
       "19               0\n",
       "22               1"
      ]
     },
     "execution_count": 223,
     "metadata": {},
     "output_type": "execute_result"
    }
   ],
   "source": [
    "y.head()\n"
   ]
  },
  {
   "cell_type": "code",
   "execution_count": 224,
   "id": "b7484012",
   "metadata": {},
   "outputs": [],
   "source": [
    "df_missing_predicted_test = df_missing_test_x.join(y)\n",
    "df_missing_predicted_train=df_missing_train_x.join(df_missing_train_y)"
   ]
  },
  {
   "cell_type": "code",
   "execution_count": 225,
   "id": "f8e08d52",
   "metadata": {},
   "outputs": [],
   "source": [
    "df_final = df_missing_predicted_test.append(df_missing_predicted_train)"
   ]
  },
  {
   "cell_type": "code",
   "execution_count": 226,
   "id": "0af36ce7",
   "metadata": {},
   "outputs": [
    {
     "data": {
      "text/html": [
       "<div>\n",
       "<style scoped>\n",
       "    .dataframe tbody tr th:only-of-type {\n",
       "        vertical-align: middle;\n",
       "    }\n",
       "\n",
       "    .dataframe tbody tr th {\n",
       "        vertical-align: top;\n",
       "    }\n",
       "\n",
       "    .dataframe thead th {\n",
       "        text-align: right;\n",
       "    }\n",
       "</style>\n",
       "<table border=\"1\" class=\"dataframe\">\n",
       "  <thead>\n",
       "    <tr style=\"text-align: right;\">\n",
       "      <th></th>\n",
       "      <th>Age</th>\n",
       "      <th>Avg_Account_Balance</th>\n",
       "      <th>Vintage</th>\n",
       "      <th>Gender</th>\n",
       "      <th>Region_Code_RG250</th>\n",
       "      <th>Region_Code_RG251</th>\n",
       "      <th>Region_Code_RG252</th>\n",
       "      <th>Region_Code_RG253</th>\n",
       "      <th>Region_Code_RG254</th>\n",
       "      <th>Region_Code_RG255</th>\n",
       "      <th>...</th>\n",
       "      <th>Region_Code_RG282</th>\n",
       "      <th>Region_Code_RG283</th>\n",
       "      <th>Occupation_Other</th>\n",
       "      <th>Occupation_Salaried</th>\n",
       "      <th>Occupation_Self_Employed</th>\n",
       "      <th>Channel_Code_X1</th>\n",
       "      <th>Channel_Code_X2</th>\n",
       "      <th>Channel_Code_X3</th>\n",
       "      <th>Is_Active</th>\n",
       "      <th>Credit_Product</th>\n",
       "    </tr>\n",
       "  </thead>\n",
       "  <tbody>\n",
       "    <tr>\n",
       "      <th>1</th>\n",
       "      <td>-0.058563</td>\n",
       "      <td>-0.240878</td>\n",
       "      <td>0.066841</td>\n",
       "      <td>1</td>\n",
       "      <td>0</td>\n",
       "      <td>0</td>\n",
       "      <td>0</td>\n",
       "      <td>0</td>\n",
       "      <td>0</td>\n",
       "      <td>0</td>\n",
       "      <td>...</td>\n",
       "      <td>0</td>\n",
       "      <td>0</td>\n",
       "      <td>1</td>\n",
       "      <td>0</td>\n",
       "      <td>0</td>\n",
       "      <td>0</td>\n",
       "      <td>1</td>\n",
       "      <td>0</td>\n",
       "      <td>0</td>\n",
       "      <td>0</td>\n",
       "    </tr>\n",
       "    <tr>\n",
       "      <th>8</th>\n",
       "      <td>-0.058563</td>\n",
       "      <td>-0.153494</td>\n",
       "      <td>1.058367</td>\n",
       "      <td>1</td>\n",
       "      <td>0</td>\n",
       "      <td>0</td>\n",
       "      <td>0</td>\n",
       "      <td>0</td>\n",
       "      <td>0</td>\n",
       "      <td>0</td>\n",
       "      <td>...</td>\n",
       "      <td>0</td>\n",
       "      <td>0</td>\n",
       "      <td>0</td>\n",
       "      <td>1</td>\n",
       "      <td>0</td>\n",
       "      <td>0</td>\n",
       "      <td>0</td>\n",
       "      <td>1</td>\n",
       "      <td>1</td>\n",
       "      <td>1</td>\n",
       "    </tr>\n",
       "    <tr>\n",
       "      <th>12</th>\n",
       "      <td>-0.125800</td>\n",
       "      <td>1.232570</td>\n",
       "      <td>0.686545</td>\n",
       "      <td>0</td>\n",
       "      <td>0</td>\n",
       "      <td>0</td>\n",
       "      <td>0</td>\n",
       "      <td>0</td>\n",
       "      <td>0</td>\n",
       "      <td>0</td>\n",
       "      <td>...</td>\n",
       "      <td>0</td>\n",
       "      <td>0</td>\n",
       "      <td>0</td>\n",
       "      <td>0</td>\n",
       "      <td>1</td>\n",
       "      <td>0</td>\n",
       "      <td>1</td>\n",
       "      <td>0</td>\n",
       "      <td>0</td>\n",
       "      <td>0</td>\n",
       "    </tr>\n",
       "    <tr>\n",
       "      <th>19</th>\n",
       "      <td>2.093013</td>\n",
       "      <td>-0.615561</td>\n",
       "      <td>1.430189</td>\n",
       "      <td>1</td>\n",
       "      <td>0</td>\n",
       "      <td>0</td>\n",
       "      <td>0</td>\n",
       "      <td>0</td>\n",
       "      <td>0</td>\n",
       "      <td>0</td>\n",
       "      <td>...</td>\n",
       "      <td>0</td>\n",
       "      <td>0</td>\n",
       "      <td>1</td>\n",
       "      <td>0</td>\n",
       "      <td>0</td>\n",
       "      <td>0</td>\n",
       "      <td>1</td>\n",
       "      <td>0</td>\n",
       "      <td>0</td>\n",
       "      <td>0</td>\n",
       "    </tr>\n",
       "    <tr>\n",
       "      <th>22</th>\n",
       "      <td>1.958539</td>\n",
       "      <td>-0.336469</td>\n",
       "      <td>1.182308</td>\n",
       "      <td>1</td>\n",
       "      <td>0</td>\n",
       "      <td>0</td>\n",
       "      <td>0</td>\n",
       "      <td>0</td>\n",
       "      <td>0</td>\n",
       "      <td>0</td>\n",
       "      <td>...</td>\n",
       "      <td>0</td>\n",
       "      <td>0</td>\n",
       "      <td>1</td>\n",
       "      <td>0</td>\n",
       "      <td>0</td>\n",
       "      <td>0</td>\n",
       "      <td>1</td>\n",
       "      <td>0</td>\n",
       "      <td>0</td>\n",
       "      <td>1</td>\n",
       "    </tr>\n",
       "  </tbody>\n",
       "</table>\n",
       "<p>5 rows × 46 columns</p>\n",
       "</div>"
      ],
      "text/plain": [
       "         Age  Avg_Account_Balance   Vintage  Gender  Region_Code_RG250  \\\n",
       "1  -0.058563            -0.240878  0.066841       1                  0   \n",
       "8  -0.058563            -0.153494  1.058367       1                  0   \n",
       "12 -0.125800             1.232570  0.686545       0                  0   \n",
       "19  2.093013            -0.615561  1.430189       1                  0   \n",
       "22  1.958539            -0.336469  1.182308       1                  0   \n",
       "\n",
       "    Region_Code_RG251  Region_Code_RG252  Region_Code_RG253  \\\n",
       "1                   0                  0                  0   \n",
       "8                   0                  0                  0   \n",
       "12                  0                  0                  0   \n",
       "19                  0                  0                  0   \n",
       "22                  0                  0                  0   \n",
       "\n",
       "    Region_Code_RG254  Region_Code_RG255  ...  Region_Code_RG282  \\\n",
       "1                   0                  0  ...                  0   \n",
       "8                   0                  0  ...                  0   \n",
       "12                  0                  0  ...                  0   \n",
       "19                  0                  0  ...                  0   \n",
       "22                  0                  0  ...                  0   \n",
       "\n",
       "    Region_Code_RG283  Occupation_Other  Occupation_Salaried  \\\n",
       "1                   0                 1                    0   \n",
       "8                   0                 0                    1   \n",
       "12                  0                 0                    0   \n",
       "19                  0                 1                    0   \n",
       "22                  0                 1                    0   \n",
       "\n",
       "    Occupation_Self_Employed  Channel_Code_X1  Channel_Code_X2  \\\n",
       "1                          0                0                1   \n",
       "8                          0                0                0   \n",
       "12                         1                0                1   \n",
       "19                         0                0                1   \n",
       "22                         0                0                1   \n",
       "\n",
       "    Channel_Code_X3  Is_Active  Credit_Product  \n",
       "1                 0          0               0  \n",
       "8                 1          1               1  \n",
       "12                0          0               0  \n",
       "19                0          0               0  \n",
       "22                0          0               1  \n",
       "\n",
       "[5 rows x 46 columns]"
      ]
     },
     "execution_count": 226,
     "metadata": {},
     "output_type": "execute_result"
    }
   ],
   "source": [
    "df_final.head()"
   ]
  },
  {
   "cell_type": "code",
   "execution_count": 227,
   "id": "ef065bfa",
   "metadata": {},
   "outputs": [
    {
     "data": {
      "text/plain": [
       "(105312, 46)"
      ]
     },
     "execution_count": 227,
     "metadata": {},
     "output_type": "execute_result"
    }
   ],
   "source": [
    "df_final.shape"
   ]
  },
  {
   "cell_type": "code",
   "execution_count": 228,
   "id": "0913dc84",
   "metadata": {},
   "outputs": [
    {
     "data": {
      "text/html": [
       "<div>\n",
       "<style scoped>\n",
       "    .dataframe tbody tr th:only-of-type {\n",
       "        vertical-align: middle;\n",
       "    }\n",
       "\n",
       "    .dataframe tbody tr th {\n",
       "        vertical-align: top;\n",
       "    }\n",
       "\n",
       "    .dataframe thead th {\n",
       "        text-align: right;\n",
       "    }\n",
       "</style>\n",
       "<table border=\"1\" class=\"dataframe\">\n",
       "  <thead>\n",
       "    <tr style=\"text-align: right;\">\n",
       "      <th></th>\n",
       "      <th>Age</th>\n",
       "      <th>Avg_Account_Balance</th>\n",
       "      <th>Vintage</th>\n",
       "      <th>Gender</th>\n",
       "      <th>Region_Code_RG250</th>\n",
       "      <th>Region_Code_RG251</th>\n",
       "      <th>Region_Code_RG252</th>\n",
       "      <th>Region_Code_RG253</th>\n",
       "      <th>Region_Code_RG254</th>\n",
       "      <th>Region_Code_RG255</th>\n",
       "      <th>...</th>\n",
       "      <th>Region_Code_RG282</th>\n",
       "      <th>Region_Code_RG283</th>\n",
       "      <th>Occupation_Other</th>\n",
       "      <th>Occupation_Salaried</th>\n",
       "      <th>Occupation_Self_Employed</th>\n",
       "      <th>Channel_Code_X1</th>\n",
       "      <th>Channel_Code_X2</th>\n",
       "      <th>Channel_Code_X3</th>\n",
       "      <th>Is_Active</th>\n",
       "      <th>Credit_Product</th>\n",
       "    </tr>\n",
       "  </thead>\n",
       "  <tbody>\n",
       "    <tr>\n",
       "      <th>1</th>\n",
       "      <td>-0.058563</td>\n",
       "      <td>-0.240878</td>\n",
       "      <td>0.066841</td>\n",
       "      <td>1</td>\n",
       "      <td>0</td>\n",
       "      <td>0</td>\n",
       "      <td>0</td>\n",
       "      <td>0</td>\n",
       "      <td>0</td>\n",
       "      <td>0</td>\n",
       "      <td>...</td>\n",
       "      <td>0</td>\n",
       "      <td>0</td>\n",
       "      <td>1</td>\n",
       "      <td>0</td>\n",
       "      <td>0</td>\n",
       "      <td>0</td>\n",
       "      <td>1</td>\n",
       "      <td>0</td>\n",
       "      <td>0</td>\n",
       "      <td>0</td>\n",
       "    </tr>\n",
       "    <tr>\n",
       "      <th>8</th>\n",
       "      <td>-0.058563</td>\n",
       "      <td>-0.153494</td>\n",
       "      <td>1.058367</td>\n",
       "      <td>1</td>\n",
       "      <td>0</td>\n",
       "      <td>0</td>\n",
       "      <td>0</td>\n",
       "      <td>0</td>\n",
       "      <td>0</td>\n",
       "      <td>0</td>\n",
       "      <td>...</td>\n",
       "      <td>0</td>\n",
       "      <td>0</td>\n",
       "      <td>0</td>\n",
       "      <td>1</td>\n",
       "      <td>0</td>\n",
       "      <td>0</td>\n",
       "      <td>0</td>\n",
       "      <td>1</td>\n",
       "      <td>1</td>\n",
       "      <td>1</td>\n",
       "    </tr>\n",
       "    <tr>\n",
       "      <th>12</th>\n",
       "      <td>-0.125800</td>\n",
       "      <td>1.232570</td>\n",
       "      <td>0.686545</td>\n",
       "      <td>0</td>\n",
       "      <td>0</td>\n",
       "      <td>0</td>\n",
       "      <td>0</td>\n",
       "      <td>0</td>\n",
       "      <td>0</td>\n",
       "      <td>0</td>\n",
       "      <td>...</td>\n",
       "      <td>0</td>\n",
       "      <td>0</td>\n",
       "      <td>0</td>\n",
       "      <td>0</td>\n",
       "      <td>1</td>\n",
       "      <td>0</td>\n",
       "      <td>1</td>\n",
       "      <td>0</td>\n",
       "      <td>0</td>\n",
       "      <td>0</td>\n",
       "    </tr>\n",
       "    <tr>\n",
       "      <th>19</th>\n",
       "      <td>2.093013</td>\n",
       "      <td>-0.615561</td>\n",
       "      <td>1.430189</td>\n",
       "      <td>1</td>\n",
       "      <td>0</td>\n",
       "      <td>0</td>\n",
       "      <td>0</td>\n",
       "      <td>0</td>\n",
       "      <td>0</td>\n",
       "      <td>0</td>\n",
       "      <td>...</td>\n",
       "      <td>0</td>\n",
       "      <td>0</td>\n",
       "      <td>1</td>\n",
       "      <td>0</td>\n",
       "      <td>0</td>\n",
       "      <td>0</td>\n",
       "      <td>1</td>\n",
       "      <td>0</td>\n",
       "      <td>0</td>\n",
       "      <td>0</td>\n",
       "    </tr>\n",
       "    <tr>\n",
       "      <th>22</th>\n",
       "      <td>1.958539</td>\n",
       "      <td>-0.336469</td>\n",
       "      <td>1.182308</td>\n",
       "      <td>1</td>\n",
       "      <td>0</td>\n",
       "      <td>0</td>\n",
       "      <td>0</td>\n",
       "      <td>0</td>\n",
       "      <td>0</td>\n",
       "      <td>0</td>\n",
       "      <td>...</td>\n",
       "      <td>0</td>\n",
       "      <td>0</td>\n",
       "      <td>1</td>\n",
       "      <td>0</td>\n",
       "      <td>0</td>\n",
       "      <td>0</td>\n",
       "      <td>1</td>\n",
       "      <td>0</td>\n",
       "      <td>0</td>\n",
       "      <td>1</td>\n",
       "    </tr>\n",
       "  </tbody>\n",
       "</table>\n",
       "<p>5 rows × 46 columns</p>\n",
       "</div>"
      ],
      "text/plain": [
       "         Age  Avg_Account_Balance   Vintage  Gender  Region_Code_RG250  \\\n",
       "1  -0.058563            -0.240878  0.066841       1                  0   \n",
       "8  -0.058563            -0.153494  1.058367       1                  0   \n",
       "12 -0.125800             1.232570  0.686545       0                  0   \n",
       "19  2.093013            -0.615561  1.430189       1                  0   \n",
       "22  1.958539            -0.336469  1.182308       1                  0   \n",
       "\n",
       "    Region_Code_RG251  Region_Code_RG252  Region_Code_RG253  \\\n",
       "1                   0                  0                  0   \n",
       "8                   0                  0                  0   \n",
       "12                  0                  0                  0   \n",
       "19                  0                  0                  0   \n",
       "22                  0                  0                  0   \n",
       "\n",
       "    Region_Code_RG254  Region_Code_RG255  ...  Region_Code_RG282  \\\n",
       "1                   0                  0  ...                  0   \n",
       "8                   0                  0  ...                  0   \n",
       "12                  0                  0  ...                  0   \n",
       "19                  0                  0  ...                  0   \n",
       "22                  0                  0  ...                  0   \n",
       "\n",
       "    Region_Code_RG283  Occupation_Other  Occupation_Salaried  \\\n",
       "1                   0                 1                    0   \n",
       "8                   0                 0                    1   \n",
       "12                  0                 0                    0   \n",
       "19                  0                 1                    0   \n",
       "22                  0                 1                    0   \n",
       "\n",
       "    Occupation_Self_Employed  Channel_Code_X1  Channel_Code_X2  \\\n",
       "1                          0                0                1   \n",
       "8                          0                0                0   \n",
       "12                         1                0                1   \n",
       "19                         0                0                1   \n",
       "22                         0                0                1   \n",
       "\n",
       "    Channel_Code_X3  Is_Active  Credit_Product  \n",
       "1                 0          0               0  \n",
       "8                 1          1               1  \n",
       "12                0          0               0  \n",
       "19                0          0               0  \n",
       "22                0          0               1  \n",
       "\n",
       "[5 rows x 46 columns]"
      ]
     },
     "execution_count": 228,
     "metadata": {},
     "output_type": "execute_result"
    }
   ],
   "source": [
    "df_final.head()"
   ]
  },
  {
   "cell_type": "code",
   "execution_count": 229,
   "id": "1682e449",
   "metadata": {},
   "outputs": [],
   "source": [
    "df_id = df_test.loc[:,['ID']]"
   ]
  },
  {
   "cell_type": "code",
   "execution_count": 230,
   "id": "2c1776c9",
   "metadata": {
    "scrolled": true
   },
   "outputs": [],
   "source": [
    "df_final = df_final.join(df_id)\n"
   ]
  },
  {
   "cell_type": "code",
   "execution_count": 231,
   "id": "9daa288e",
   "metadata": {},
   "outputs": [
    {
     "data": {
      "text/plain": [
       "(105312, 47)"
      ]
     },
     "execution_count": 231,
     "metadata": {},
     "output_type": "execute_result"
    }
   ],
   "source": [
    "df_final.shape"
   ]
  },
  {
   "cell_type": "code",
   "execution_count": 232,
   "id": "6948a30a",
   "metadata": {},
   "outputs": [],
   "source": [
    "df_final['Credit_Product'] = pd.to_numeric(df_final['Credit_Product'])"
   ]
  },
  {
   "cell_type": "code",
   "execution_count": 233,
   "id": "5918f255",
   "metadata": {},
   "outputs": [
    {
     "data": {
      "text/plain": [
       "Age                         float64\n",
       "Avg_Account_Balance         float64\n",
       "Vintage                     float64\n",
       "Gender                        uint8\n",
       "Region_Code_RG250             uint8\n",
       "Region_Code_RG251             uint8\n",
       "Region_Code_RG252             uint8\n",
       "Region_Code_RG253             uint8\n",
       "Region_Code_RG254             uint8\n",
       "Region_Code_RG255             uint8\n",
       "Region_Code_RG256             uint8\n",
       "Region_Code_RG257             uint8\n",
       "Region_Code_RG258             uint8\n",
       "Region_Code_RG259             uint8\n",
       "Region_Code_RG260             uint8\n",
       "Region_Code_RG261             uint8\n",
       "Region_Code_RG262             uint8\n",
       "Region_Code_RG263             uint8\n",
       "Region_Code_RG264             uint8\n",
       "Region_Code_RG265             uint8\n",
       "Region_Code_RG266             uint8\n",
       "Region_Code_RG267             uint8\n",
       "Region_Code_RG268             uint8\n",
       "Region_Code_RG269             uint8\n",
       "Region_Code_RG270             uint8\n",
       "Region_Code_RG271             uint8\n",
       "Region_Code_RG272             uint8\n",
       "Region_Code_RG273             uint8\n",
       "Region_Code_RG274             uint8\n",
       "Region_Code_RG275             uint8\n",
       "Region_Code_RG276             uint8\n",
       "Region_Code_RG277             uint8\n",
       "Region_Code_RG278             uint8\n",
       "Region_Code_RG279             uint8\n",
       "Region_Code_RG280             uint8\n",
       "Region_Code_RG281             uint8\n",
       "Region_Code_RG282             uint8\n",
       "Region_Code_RG283             uint8\n",
       "Occupation_Other              uint8\n",
       "Occupation_Salaried           uint8\n",
       "Occupation_Self_Employed      uint8\n",
       "Channel_Code_X1               uint8\n",
       "Channel_Code_X2               uint8\n",
       "Channel_Code_X3               uint8\n",
       "Is_Active                     uint8\n",
       "Credit_Product                uint8\n",
       "ID                           object\n",
       "dtype: object"
      ]
     },
     "execution_count": 233,
     "metadata": {},
     "output_type": "execute_result"
    }
   ],
   "source": [
    "df_final.dtypes"
   ]
  },
  {
   "cell_type": "code",
   "execution_count": 234,
   "id": "8cc1e56b",
   "metadata": {},
   "outputs": [],
   "source": [
    "df_final.to_csv('test_formatted.csv')"
   ]
  },
  {
   "cell_type": "code",
   "execution_count": null,
   "id": "786f7c57",
   "metadata": {},
   "outputs": [],
   "source": []
  },
  {
   "cell_type": "code",
   "execution_count": null,
   "id": "56457186",
   "metadata": {},
   "outputs": [],
   "source": []
  },
  {
   "cell_type": "code",
   "execution_count": null,
   "id": "c5f2ac2c",
   "metadata": {},
   "outputs": [],
   "source": []
  }
 ],
 "metadata": {
  "kernelspec": {
   "display_name": "Python 3",
   "language": "python",
   "name": "python3"
  },
  "language_info": {
   "codemirror_mode": {
    "name": "ipython",
    "version": 3
   },
   "file_extension": ".py",
   "mimetype": "text/x-python",
   "name": "python",
   "nbconvert_exporter": "python",
   "pygments_lexer": "ipython3",
   "version": "3.7.3"
  }
 },
 "nbformat": 4,
 "nbformat_minor": 5
}
